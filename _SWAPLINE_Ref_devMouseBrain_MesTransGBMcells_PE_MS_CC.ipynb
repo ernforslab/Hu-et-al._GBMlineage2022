{
 "cells": [
  {
   "cell_type": "code",
   "execution_count": 1,
   "metadata": {},
   "outputs": [
    {
     "name": "stdout",
     "output_type": "stream",
     "text": [
      "D:\\Dropbox\\data\\proj\\PE_HYZ\\BuidingCode\\ready_SWAPLINE\n"
     ]
    }
   ],
   "source": []
  },
  {
   "cell_type": "code",
   "execution_count": 3,
   "metadata": {
    "scrolled": true
   },
   "outputs": [
    {
     "name": "stdout",
     "output_type": "stream",
     "text": [
      "Populating the interactive namespace from numpy and matplotlib\n"
     ]
    },
    {
     "data": {
      "text/plain": [
       "'2022-03-01-11:11AM'"
      ]
     },
     "execution_count": 3,
     "metadata": {},
     "output_type": "execute_result"
    }
   ],
   "source": [
    "#import SWAPLINEmain\n",
    "\n",
    "import datetime\n",
    "import seaborn as sns\n",
    "import pandas as pd\n",
    "import pickle as pickle\n",
    "from scipy.spatial.distance import cdist, pdist, squareform\n",
    "#import backspinpy\n",
    "import pandas as pd\n",
    "from sklearn.linear_model import LogisticRegression, LogisticRegressionCV\n",
    "from sklearn.model_selection import StratifiedShuffleSplit  \n",
    "from collections import defaultdict\n",
    "from sklearn import preprocessing\n",
    "import matplotlib.patches as mpatches\n",
    "#from numpy import in1d\n",
    "%pylab inline\n",
    "today=f\"{datetime.datetime.now():%Y-%m-%d-%I:%M%p}\"\n",
    "today"
   ]
  },
  {
   "cell_type": "code",
   "execution_count": 18,
   "metadata": {},
   "outputs": [
    {
     "name": "stdout",
     "output_type": "stream",
     "text": [
      "D:\\Dropbox\\data\\proj\\PE_HYZ\\PublicDataSet\\Developmental_mouse brain\n"
     ]
    }
   ],
   "source": [
    "cd D:\\Dropbox\\data\\proj\\PE_HYZ\\PublicDataSet\\Developmental_mouse brain"
   ]
  },
  {
   "cell_type": "code",
   "execution_count": 19,
   "metadata": {},
   "outputs": [],
   "source": [
    "dfposi=pd.read_table(\"20201111_MouseBrainAtlas_SL_metaInfo.tab\",\n",
    "                 index_col=0, header=0, sep=\"\\t\")"
   ]
  },
  {
   "cell_type": "code",
   "execution_count": 20,
   "metadata": {},
   "outputs": [
    {
     "data": {
      "text/html": [
       "<div>\n",
       "<style scoped>\n",
       "    .dataframe tbody tr th:only-of-type {\n",
       "        vertical-align: middle;\n",
       "    }\n",
       "\n",
       "    .dataframe tbody tr th {\n",
       "        vertical-align: top;\n",
       "    }\n",
       "\n",
       "    .dataframe thead th {\n",
       "        text-align: right;\n",
       "    }\n",
       "</style>\n",
       "<table border=\"1\" class=\"dataframe\">\n",
       "  <thead>\n",
       "    <tr style=\"text-align: right;\">\n",
       "      <th></th>\n",
       "      <th>Cluster</th>\n",
       "      <th>ClusterName</th>\n",
       "      <th>Region</th>\n",
       "      <th>PseudoAge</th>\n",
       "      <th>TSNE_X</th>\n",
       "      <th>TSNE_Y</th>\n",
       "      <th>UMAP_X</th>\n",
       "      <th>UMAP_Y</th>\n",
       "      <th>BTSNE_X</th>\n",
       "      <th>BTSNE_Y</th>\n",
       "      <th>UMAP3D_X</th>\n",
       "      <th>UMAP3D_Y</th>\n",
       "      <th>UMAP3D_Z</th>\n",
       "    </tr>\n",
       "  </thead>\n",
       "  <tbody>\n",
       "    <tr>\n",
       "      <th>10X25_3_A_1:TTGGTACTGGGACAx</th>\n",
       "      <td>Neural_crest</td>\n",
       "      <td>634</td>\n",
       "      <td>Midbrain</td>\n",
       "      <td>9.505</td>\n",
       "      <td>-25.900671</td>\n",
       "      <td>-6.408116</td>\n",
       "      <td>6.208536</td>\n",
       "      <td>7.370287</td>\n",
       "      <td>-56.705326</td>\n",
       "      <td>-15.175609</td>\n",
       "      <td>2.873503</td>\n",
       "      <td>3.853158</td>\n",
       "      <td>-6.144522</td>\n",
       "    </tr>\n",
       "    <tr>\n",
       "      <th>10X27_3_A_1:TATCAGCTCTTGCCx</th>\n",
       "      <td>Neural_crest</td>\n",
       "      <td>634</td>\n",
       "      <td>Midbrain</td>\n",
       "      <td>9.540</td>\n",
       "      <td>-26.354128</td>\n",
       "      <td>-1.820086</td>\n",
       "      <td>5.459467</td>\n",
       "      <td>8.159930</td>\n",
       "      <td>-55.292125</td>\n",
       "      <td>-10.095811</td>\n",
       "      <td>1.731046</td>\n",
       "      <td>3.764495</td>\n",
       "      <td>-6.431027</td>\n",
       "    </tr>\n",
       "    <tr>\n",
       "      <th>10X27_3_A_1:AACCAGTGCTCAGAx</th>\n",
       "      <td>Neural_crest</td>\n",
       "      <td>634</td>\n",
       "      <td>Midbrain</td>\n",
       "      <td>9.930</td>\n",
       "      <td>-26.986095</td>\n",
       "      <td>-7.087025</td>\n",
       "      <td>6.572917</td>\n",
       "      <td>7.498238</td>\n",
       "      <td>-61.365980</td>\n",
       "      <td>-15.862534</td>\n",
       "      <td>3.126918</td>\n",
       "      <td>3.940230</td>\n",
       "      <td>-6.405674</td>\n",
       "    </tr>\n",
       "    <tr>\n",
       "      <th>10X27_3_A_1:CTAGTTTGCCTGAAx</th>\n",
       "      <td>Neural_crest</td>\n",
       "      <td>634</td>\n",
       "      <td>Midbrain</td>\n",
       "      <td>10.230</td>\n",
       "      <td>-27.583021</td>\n",
       "      <td>-6.904059</td>\n",
       "      <td>6.436008</td>\n",
       "      <td>7.521403</td>\n",
       "      <td>-62.872862</td>\n",
       "      <td>-14.369149</td>\n",
       "      <td>2.961187</td>\n",
       "      <td>4.019217</td>\n",
       "      <td>-6.277933</td>\n",
       "    </tr>\n",
       "    <tr>\n",
       "      <th>10X27_3_A_1:GTAGACTGGGATCTx</th>\n",
       "      <td>Neural_crest</td>\n",
       "      <td>634</td>\n",
       "      <td>Midbrain</td>\n",
       "      <td>10.635</td>\n",
       "      <td>-26.837190</td>\n",
       "      <td>-8.949903</td>\n",
       "      <td>6.671855</td>\n",
       "      <td>7.109936</td>\n",
       "      <td>-64.516093</td>\n",
       "      <td>-16.561974</td>\n",
       "      <td>3.474845</td>\n",
       "      <td>3.712845</td>\n",
       "      <td>-6.309426</td>\n",
       "    </tr>\n",
       "  </tbody>\n",
       "</table>\n",
       "</div>"
      ],
      "text/plain": [
       "                                  Cluster  ClusterName    Region  PseudoAge  \\\n",
       "10X25_3_A_1:TTGGTACTGGGACAx  Neural_crest          634  Midbrain      9.505   \n",
       "10X27_3_A_1:TATCAGCTCTTGCCx  Neural_crest          634  Midbrain      9.540   \n",
       "10X27_3_A_1:AACCAGTGCTCAGAx  Neural_crest          634  Midbrain      9.930   \n",
       "10X27_3_A_1:CTAGTTTGCCTGAAx  Neural_crest          634  Midbrain     10.230   \n",
       "10X27_3_A_1:GTAGACTGGGATCTx  Neural_crest          634  Midbrain     10.635   \n",
       "\n",
       "                                TSNE_X    TSNE_Y    UMAP_X    UMAP_Y  \\\n",
       "10X25_3_A_1:TTGGTACTGGGACAx -25.900671 -6.408116  6.208536  7.370287   \n",
       "10X27_3_A_1:TATCAGCTCTTGCCx -26.354128 -1.820086  5.459467  8.159930   \n",
       "10X27_3_A_1:AACCAGTGCTCAGAx -26.986095 -7.087025  6.572917  7.498238   \n",
       "10X27_3_A_1:CTAGTTTGCCTGAAx -27.583021 -6.904059  6.436008  7.521403   \n",
       "10X27_3_A_1:GTAGACTGGGATCTx -26.837190 -8.949903  6.671855  7.109936   \n",
       "\n",
       "                               BTSNE_X    BTSNE_Y  UMAP3D_X  UMAP3D_Y  \\\n",
       "10X25_3_A_1:TTGGTACTGGGACAx -56.705326 -15.175609  2.873503  3.853158   \n",
       "10X27_3_A_1:TATCAGCTCTTGCCx -55.292125 -10.095811  1.731046  3.764495   \n",
       "10X27_3_A_1:AACCAGTGCTCAGAx -61.365980 -15.862534  3.126918  3.940230   \n",
       "10X27_3_A_1:CTAGTTTGCCTGAAx -62.872862 -14.369149  2.961187  4.019217   \n",
       "10X27_3_A_1:GTAGACTGGGATCTx -64.516093 -16.561974  3.474845  3.712845   \n",
       "\n",
       "                             UMAP3D_Z  \n",
       "10X25_3_A_1:TTGGTACTGGGACAx -6.144522  \n",
       "10X27_3_A_1:TATCAGCTCTTGCCx -6.431027  \n",
       "10X27_3_A_1:AACCAGTGCTCAGAx -6.405674  \n",
       "10X27_3_A_1:CTAGTTTGCCTGAAx -6.277933  \n",
       "10X27_3_A_1:GTAGACTGGGATCTx -6.309426  "
      ]
     },
     "execution_count": 20,
     "metadata": {},
     "output_type": "execute_result"
    }
   ],
   "source": [
    "dfposi.head()"
   ]
  },
  {
   "cell_type": "code",
   "execution_count": 21,
   "metadata": {},
   "outputs": [
    {
     "data": {
      "text/plain": [
       "(3, 127326)"
      ]
     },
     "execution_count": 21,
     "metadata": {},
     "output_type": "execute_result"
    }
   ],
   "source": [
    "dfpfcclus=dfposi.T.loc[[\"Cluster\",\"TSNE_X\",\"TSNE_Y\"]]\n",
    "dfpfcclus.shape"
   ]
  },
  {
   "cell_type": "code",
   "execution_count": null,
   "metadata": {},
   "outputs": [],
   "source": []
  },
  {
   "cell_type": "code",
   "execution_count": 4,
   "metadata": {},
   "outputs": [
    {
     "name": "stdout",
     "output_type": "stream",
     "text": [
      "D:\\Dropbox\\data\\proj\\PE_HYZ\\PublicDataSet\\Developmental_mouse brain\n"
     ]
    }
   ],
   "source": [
    "cd D:\\Dropbox\\data\\proj\\PE_HYZ\\PublicDataSet\\Developmental_mouse brain"
   ]
  },
  {
   "cell_type": "code",
   "execution_count": 5,
   "metadata": {},
   "outputs": [],
   "source": [
    "import loompy\n",
    "ds=loompy.connect(\"20201111Final_normalized_MV_genes_MouseBrainAtlas.loom\")"
   ]
  },
  {
   "cell_type": "code",
   "execution_count": 6,
   "metadata": {},
   "outputs": [
    {
     "data": {
      "text/plain": [
       "(1943, 127326)"
      ]
     },
     "execution_count": 6,
     "metadata": {},
     "output_type": "execute_result"
    }
   ],
   "source": [
    "ds.shape"
   ]
  },
  {
   "cell_type": "code",
   "execution_count": 7,
   "metadata": {
    "scrolled": true
   },
   "outputs": [
    {
     "data": {
      "text/plain": [
       "['Gene']"
      ]
     },
     "execution_count": 7,
     "metadata": {},
     "output_type": "execute_result"
    }
   ],
   "source": [
    "ds.ra.keys()"
   ]
  },
  {
   "cell_type": "code",
   "execution_count": 8,
   "metadata": {},
   "outputs": [
    {
     "data": {
      "text/plain": [
       "array(['Spon2', 'Il1r1', 'Plp1', ..., 'Tubb3', 'Col1a2', 'Htr2c'],\n",
       "      dtype=object)"
      ]
     },
     "execution_count": 8,
     "metadata": {},
     "output_type": "execute_result"
    }
   ],
   "source": [
    "ds.ra[ 'Gene']"
   ]
  },
  {
   "cell_type": "code",
   "execution_count": 9,
   "metadata": {},
   "outputs": [
    {
     "data": {
      "text/plain": [
       "['CellID']"
      ]
     },
     "execution_count": 9,
     "metadata": {},
     "output_type": "execute_result"
    }
   ],
   "source": [
    "ds.ca.keys()"
   ]
  },
  {
   "cell_type": "code",
   "execution_count": 10,
   "metadata": {},
   "outputs": [
    {
     "data": {
      "text/plain": [
       "array(['10X66_4_A_1:TATGTCTGGTAAAGx', '10X66_4_A_1:TGTAGTCTGGTTTGx',\n",
       "       '10X66_4_A_1:TCCACGTGGAAACAx', ..., '10X70_6_A_1:GCACAATGGATGAAx',\n",
       "       '10X70_3_A_1:CATCAGGAGTGAGGx', '10X70_6_A_1:ATTGGTCTAACCACx'],\n",
       "      dtype=object)"
      ]
     },
     "execution_count": 10,
     "metadata": {},
     "output_type": "execute_result"
    }
   ],
   "source": [
    "ds.ca[\"CellID\"]"
   ]
  },
  {
   "cell_type": "code",
   "execution_count": 11,
   "metadata": {},
   "outputs": [],
   "source": [
    "df=pd.DataFrame(ds[:, :])"
   ]
  },
  {
   "cell_type": "code",
   "execution_count": 12,
   "metadata": {},
   "outputs": [
    {
     "data": {
      "text/plain": [
       "(1943, 127326)"
      ]
     },
     "execution_count": 12,
     "metadata": {},
     "output_type": "execute_result"
    }
   ],
   "source": [
    "df.shape"
   ]
  },
  {
   "cell_type": "code",
   "execution_count": 13,
   "metadata": {},
   "outputs": [],
   "source": [
    "df.index=ds.ra[ 'Gene']\n",
    "df.columns=ds.ca[\"CellID\"]"
   ]
  },
  {
   "cell_type": "code",
   "execution_count": 14,
   "metadata": {},
   "outputs": [
    {
     "data": {
      "text/plain": [
       "(1943, 127326)"
      ]
     },
     "execution_count": 14,
     "metadata": {},
     "output_type": "execute_result"
    }
   ],
   "source": [
    "df.shape"
   ]
  },
  {
   "cell_type": "code",
   "execution_count": 15,
   "metadata": {
    "scrolled": true
   },
   "outputs": [
    {
     "data": {
      "text/html": [
       "<div>\n",
       "<style scoped>\n",
       "    .dataframe tbody tr th:only-of-type {\n",
       "        vertical-align: middle;\n",
       "    }\n",
       "\n",
       "    .dataframe tbody tr th {\n",
       "        vertical-align: top;\n",
       "    }\n",
       "\n",
       "    .dataframe thead th {\n",
       "        text-align: right;\n",
       "    }\n",
       "</style>\n",
       "<table border=\"1\" class=\"dataframe\">\n",
       "  <thead>\n",
       "    <tr style=\"text-align: right;\">\n",
       "      <th></th>\n",
       "      <th>10X66_4_A_1:TATGTCTGGTAAAGx</th>\n",
       "      <th>10X66_4_A_1:TGTAGTCTGGTTTGx</th>\n",
       "      <th>10X66_4_A_1:TCCACGTGGAAACAx</th>\n",
       "      <th>10X66_4_A_1:ACGCCGGAGATGAAx</th>\n",
       "      <th>10X66_4_A_1:TAATCGCTTTTCACx</th>\n",
       "      <th>10X66_4_A_1:CTAACTACAGAGTAx</th>\n",
       "      <th>10X66_4_A_1:AAAGAGACACCATGx</th>\n",
       "      <th>10X66_4_A_1:CACAGATGCGTCTCx</th>\n",
       "      <th>10X66_4_A_1:ATACCTACTGGTGTx</th>\n",
       "      <th>10X17_2_A_1:GGCCACGATTGACGx</th>\n",
       "      <th>...</th>\n",
       "      <th>10X70_3_A_1:ACGATGACGTATGCx</th>\n",
       "      <th>10X70_6_A_1:AGGATGCTGCGAAGx</th>\n",
       "      <th>10X70_6_A_1:CATTGACTAGGCGAx</th>\n",
       "      <th>10X70_6_A_1:GGAGCCACGTCGTAx</th>\n",
       "      <th>10X70_3_A_1:TACACACTCGCAATx</th>\n",
       "      <th>10X70_3_A_1:TTACACACATCTTCx</th>\n",
       "      <th>10X70_3_A_1:GTCGAATGGGTGTTx</th>\n",
       "      <th>10X70_6_A_1:GCACAATGGATGAAx</th>\n",
       "      <th>10X70_3_A_1:CATCAGGAGTGAGGx</th>\n",
       "      <th>10X70_6_A_1:ATTGGTCTAACCACx</th>\n",
       "    </tr>\n",
       "  </thead>\n",
       "  <tbody>\n",
       "    <tr>\n",
       "      <th>Lbp</th>\n",
       "      <td>0.000000</td>\n",
       "      <td>0.000000</td>\n",
       "      <td>0.000000</td>\n",
       "      <td>0.000000</td>\n",
       "      <td>0.000000</td>\n",
       "      <td>0.000</td>\n",
       "      <td>0.000000</td>\n",
       "      <td>0.000000</td>\n",
       "      <td>0.000000</td>\n",
       "      <td>0.000000</td>\n",
       "      <td>...</td>\n",
       "      <td>0.000000</td>\n",
       "      <td>0.000000</td>\n",
       "      <td>0.000000</td>\n",
       "      <td>0.272478</td>\n",
       "      <td>0.243579</td>\n",
       "      <td>0.000000</td>\n",
       "      <td>0.253731</td>\n",
       "      <td>0.653233</td>\n",
       "      <td>0.406296</td>\n",
       "      <td>0.707016</td>\n",
       "    </tr>\n",
       "    <tr>\n",
       "      <th>Pmm1</th>\n",
       "      <td>0.693619</td>\n",
       "      <td>1.402414</td>\n",
       "      <td>2.648176</td>\n",
       "      <td>1.600961</td>\n",
       "      <td>2.246777</td>\n",
       "      <td>1.394</td>\n",
       "      <td>0.000000</td>\n",
       "      <td>1.251627</td>\n",
       "      <td>0.775450</td>\n",
       "      <td>0.551642</td>\n",
       "      <td>...</td>\n",
       "      <td>0.000000</td>\n",
       "      <td>0.000000</td>\n",
       "      <td>0.000000</td>\n",
       "      <td>0.000000</td>\n",
       "      <td>0.000000</td>\n",
       "      <td>0.000000</td>\n",
       "      <td>0.000000</td>\n",
       "      <td>0.000000</td>\n",
       "      <td>0.000000</td>\n",
       "      <td>0.000000</td>\n",
       "    </tr>\n",
       "    <tr>\n",
       "      <th>Tubb3</th>\n",
       "      <td>10.404279</td>\n",
       "      <td>61.706237</td>\n",
       "      <td>18.537234</td>\n",
       "      <td>16.009605</td>\n",
       "      <td>12.232450</td>\n",
       "      <td>11.849</td>\n",
       "      <td>13.612563</td>\n",
       "      <td>26.597082</td>\n",
       "      <td>21.195624</td>\n",
       "      <td>21.238227</td>\n",
       "      <td>...</td>\n",
       "      <td>0.789690</td>\n",
       "      <td>0.000000</td>\n",
       "      <td>0.000000</td>\n",
       "      <td>0.000000</td>\n",
       "      <td>0.243579</td>\n",
       "      <td>0.000000</td>\n",
       "      <td>1.014925</td>\n",
       "      <td>0.000000</td>\n",
       "      <td>0.000000</td>\n",
       "      <td>0.000000</td>\n",
       "    </tr>\n",
       "    <tr>\n",
       "      <th>Col1a2</th>\n",
       "      <td>0.000000</td>\n",
       "      <td>0.000000</td>\n",
       "      <td>0.000000</td>\n",
       "      <td>0.000000</td>\n",
       "      <td>0.000000</td>\n",
       "      <td>0.000</td>\n",
       "      <td>0.000000</td>\n",
       "      <td>0.000000</td>\n",
       "      <td>0.000000</td>\n",
       "      <td>0.000000</td>\n",
       "      <td>...</td>\n",
       "      <td>0.000000</td>\n",
       "      <td>0.000000</td>\n",
       "      <td>0.820845</td>\n",
       "      <td>0.272478</td>\n",
       "      <td>0.000000</td>\n",
       "      <td>0.000000</td>\n",
       "      <td>0.000000</td>\n",
       "      <td>0.000000</td>\n",
       "      <td>0.203148</td>\n",
       "      <td>0.000000</td>\n",
       "    </tr>\n",
       "    <tr>\n",
       "      <th>Htr2c</th>\n",
       "      <td>0.000000</td>\n",
       "      <td>0.000000</td>\n",
       "      <td>0.000000</td>\n",
       "      <td>0.000000</td>\n",
       "      <td>0.000000</td>\n",
       "      <td>0.000</td>\n",
       "      <td>0.000000</td>\n",
       "      <td>0.000000</td>\n",
       "      <td>0.000000</td>\n",
       "      <td>0.000000</td>\n",
       "      <td>...</td>\n",
       "      <td>11.450503</td>\n",
       "      <td>12.469201</td>\n",
       "      <td>1.026056</td>\n",
       "      <td>23.705629</td>\n",
       "      <td>13.883977</td>\n",
       "      <td>13.037785</td>\n",
       "      <td>20.298507</td>\n",
       "      <td>19.597001</td>\n",
       "      <td>3.453512</td>\n",
       "      <td>22.153170</td>\n",
       "    </tr>\n",
       "  </tbody>\n",
       "</table>\n",
       "<p>5 rows × 127326 columns</p>\n",
       "</div>"
      ],
      "text/plain": [
       "        10X66_4_A_1:TATGTCTGGTAAAGx  10X66_4_A_1:TGTAGTCTGGTTTGx  \\\n",
       "Lbp                        0.000000                     0.000000   \n",
       "Pmm1                       0.693619                     1.402414   \n",
       "Tubb3                     10.404279                    61.706237   \n",
       "Col1a2                     0.000000                     0.000000   \n",
       "Htr2c                      0.000000                     0.000000   \n",
       "\n",
       "        10X66_4_A_1:TCCACGTGGAAACAx  10X66_4_A_1:ACGCCGGAGATGAAx  \\\n",
       "Lbp                        0.000000                     0.000000   \n",
       "Pmm1                       2.648176                     1.600961   \n",
       "Tubb3                     18.537234                    16.009605   \n",
       "Col1a2                     0.000000                     0.000000   \n",
       "Htr2c                      0.000000                     0.000000   \n",
       "\n",
       "        10X66_4_A_1:TAATCGCTTTTCACx  10X66_4_A_1:CTAACTACAGAGTAx  \\\n",
       "Lbp                        0.000000                        0.000   \n",
       "Pmm1                       2.246777                        1.394   \n",
       "Tubb3                     12.232450                       11.849   \n",
       "Col1a2                     0.000000                        0.000   \n",
       "Htr2c                      0.000000                        0.000   \n",
       "\n",
       "        10X66_4_A_1:AAAGAGACACCATGx  10X66_4_A_1:CACAGATGCGTCTCx  \\\n",
       "Lbp                        0.000000                     0.000000   \n",
       "Pmm1                       0.000000                     1.251627   \n",
       "Tubb3                     13.612563                    26.597082   \n",
       "Col1a2                     0.000000                     0.000000   \n",
       "Htr2c                      0.000000                     0.000000   \n",
       "\n",
       "        10X66_4_A_1:ATACCTACTGGTGTx  10X17_2_A_1:GGCCACGATTGACGx  ...  \\\n",
       "Lbp                        0.000000                     0.000000  ...   \n",
       "Pmm1                       0.775450                     0.551642  ...   \n",
       "Tubb3                     21.195624                    21.238227  ...   \n",
       "Col1a2                     0.000000                     0.000000  ...   \n",
       "Htr2c                      0.000000                     0.000000  ...   \n",
       "\n",
       "        10X70_3_A_1:ACGATGACGTATGCx  10X70_6_A_1:AGGATGCTGCGAAGx  \\\n",
       "Lbp                        0.000000                     0.000000   \n",
       "Pmm1                       0.000000                     0.000000   \n",
       "Tubb3                      0.789690                     0.000000   \n",
       "Col1a2                     0.000000                     0.000000   \n",
       "Htr2c                     11.450503                    12.469201   \n",
       "\n",
       "        10X70_6_A_1:CATTGACTAGGCGAx  10X70_6_A_1:GGAGCCACGTCGTAx  \\\n",
       "Lbp                        0.000000                     0.272478   \n",
       "Pmm1                       0.000000                     0.000000   \n",
       "Tubb3                      0.000000                     0.000000   \n",
       "Col1a2                     0.820845                     0.272478   \n",
       "Htr2c                      1.026056                    23.705629   \n",
       "\n",
       "        10X70_3_A_1:TACACACTCGCAATx  10X70_3_A_1:TTACACACATCTTCx  \\\n",
       "Lbp                        0.243579                     0.000000   \n",
       "Pmm1                       0.000000                     0.000000   \n",
       "Tubb3                      0.243579                     0.000000   \n",
       "Col1a2                     0.000000                     0.000000   \n",
       "Htr2c                     13.883977                    13.037785   \n",
       "\n",
       "        10X70_3_A_1:GTCGAATGGGTGTTx  10X70_6_A_1:GCACAATGGATGAAx  \\\n",
       "Lbp                        0.253731                     0.653233   \n",
       "Pmm1                       0.000000                     0.000000   \n",
       "Tubb3                      1.014925                     0.000000   \n",
       "Col1a2                     0.000000                     0.000000   \n",
       "Htr2c                     20.298507                    19.597001   \n",
       "\n",
       "        10X70_3_A_1:CATCAGGAGTGAGGx  10X70_6_A_1:ATTGGTCTAACCACx  \n",
       "Lbp                        0.406296                     0.707016  \n",
       "Pmm1                       0.000000                     0.000000  \n",
       "Tubb3                      0.000000                     0.000000  \n",
       "Col1a2                     0.203148                     0.000000  \n",
       "Htr2c                      3.453512                    22.153170  \n",
       "\n",
       "[5 rows x 127326 columns]"
      ]
     },
     "execution_count": 15,
     "metadata": {},
     "output_type": "execute_result"
    }
   ],
   "source": [
    "df.tail()"
   ]
  },
  {
   "cell_type": "markdown",
   "metadata": {},
   "source": [
    "set(df.loc[\"Cluster\"])"
   ]
  },
  {
   "cell_type": "markdown",
   "metadata": {},
   "source": [
    "df=df.T.loc[~df.loc[\"Cluster\"].isin(['sensory'])].T\n",
    "df.shape"
   ]
  },
  {
   "cell_type": "code",
   "execution_count": 22,
   "metadata": {
    "scrolled": true
   },
   "outputs": [
    {
     "data": {
      "text/html": [
       "<div>\n",
       "<style scoped>\n",
       "    .dataframe tbody tr th:only-of-type {\n",
       "        vertical-align: middle;\n",
       "    }\n",
       "\n",
       "    .dataframe tbody tr th {\n",
       "        vertical-align: top;\n",
       "    }\n",
       "\n",
       "    .dataframe thead th {\n",
       "        text-align: right;\n",
       "    }\n",
       "</style>\n",
       "<table border=\"1\" class=\"dataframe\">\n",
       "  <thead>\n",
       "    <tr style=\"text-align: right;\">\n",
       "      <th></th>\n",
       "      <th>10X25_3_A_1:TTGGTACTGGGACAx</th>\n",
       "      <th>10X27_3_A_1:TATCAGCTCTTGCCx</th>\n",
       "      <th>10X27_3_A_1:AACCAGTGCTCAGAx</th>\n",
       "      <th>10X27_3_A_1:CTAGTTTGCCTGAAx</th>\n",
       "      <th>10X27_3_A_1:GTAGACTGGGATCTx</th>\n",
       "      <th>10X27_3_A_1:TCATCAACAAAACGx</th>\n",
       "      <th>10X40_4_A_1:ATGGACACTCCAAGx</th>\n",
       "      <th>10X25_6_A_1:TATGTCACCTTGTTx</th>\n",
       "      <th>10X40_6_A_1:GTCCACTGGTCGTAx</th>\n",
       "      <th>10X25_3_A_1:GTCAATCTGTTCGAx</th>\n",
       "      <th>...</th>\n",
       "      <th>10X70_3_A_1:ACGATGACGTATGCx</th>\n",
       "      <th>10X70_6_A_1:AGGATGCTGCGAAGx</th>\n",
       "      <th>10X70_6_A_1:CATTGACTAGGCGAx</th>\n",
       "      <th>10X70_6_A_1:GGAGCCACGTCGTAx</th>\n",
       "      <th>10X70_3_A_1:TACACACTCGCAATx</th>\n",
       "      <th>10X70_3_A_1:TTACACACATCTTCx</th>\n",
       "      <th>10X70_3_A_1:GTCGAATGGGTGTTx</th>\n",
       "      <th>10X70_6_A_1:GCACAATGGATGAAx</th>\n",
       "      <th>10X70_3_A_1:CATCAGGAGTGAGGx</th>\n",
       "      <th>10X70_6_A_1:ATTGGTCTAACCACx</th>\n",
       "    </tr>\n",
       "  </thead>\n",
       "  <tbody>\n",
       "    <tr>\n",
       "      <th>Cluster</th>\n",
       "      <td>Neural_crest</td>\n",
       "      <td>Neural_crest</td>\n",
       "      <td>Neural_crest</td>\n",
       "      <td>Neural_crest</td>\n",
       "      <td>Neural_crest</td>\n",
       "      <td>Neural_crest</td>\n",
       "      <td>Neural_crest</td>\n",
       "      <td>Neural_crest</td>\n",
       "      <td>Neural_crest</td>\n",
       "      <td>Neural_crest</td>\n",
       "      <td>...</td>\n",
       "      <td>Choroid plexus</td>\n",
       "      <td>Choroid plexus</td>\n",
       "      <td>Choroid plexus</td>\n",
       "      <td>Choroid plexus</td>\n",
       "      <td>Choroid plexus</td>\n",
       "      <td>Choroid plexus</td>\n",
       "      <td>Choroid plexus</td>\n",
       "      <td>Choroid plexus</td>\n",
       "      <td>Choroid plexus</td>\n",
       "      <td>Choroid plexus</td>\n",
       "    </tr>\n",
       "    <tr>\n",
       "      <th>TSNE_X</th>\n",
       "      <td>-25.900671</td>\n",
       "      <td>-26.354128</td>\n",
       "      <td>-26.986095</td>\n",
       "      <td>-27.583021</td>\n",
       "      <td>-26.83719</td>\n",
       "      <td>-27.093393</td>\n",
       "      <td>-27.753744</td>\n",
       "      <td>-26.230066</td>\n",
       "      <td>-23.935976</td>\n",
       "      <td>-25.698044</td>\n",
       "      <td>...</td>\n",
       "      <td>-3.752286</td>\n",
       "      <td>-3.416189</td>\n",
       "      <td>-2.118943</td>\n",
       "      <td>-1.401663</td>\n",
       "      <td>-1.109969</td>\n",
       "      <td>-2.861044</td>\n",
       "      <td>-3.27632</td>\n",
       "      <td>-2.384009</td>\n",
       "      <td>-2.105404</td>\n",
       "      <td>-2.648681</td>\n",
       "    </tr>\n",
       "    <tr>\n",
       "      <th>TSNE_Y</th>\n",
       "      <td>-6.408116</td>\n",
       "      <td>-1.820086</td>\n",
       "      <td>-7.087025</td>\n",
       "      <td>-6.904059</td>\n",
       "      <td>-8.949903</td>\n",
       "      <td>-7.605725</td>\n",
       "      <td>-8.571558</td>\n",
       "      <td>-10.941864</td>\n",
       "      <td>-10.545198</td>\n",
       "      <td>-6.442016</td>\n",
       "      <td>...</td>\n",
       "      <td>7.113171</td>\n",
       "      <td>7.542386</td>\n",
       "      <td>7.489019</td>\n",
       "      <td>7.345128</td>\n",
       "      <td>7.512784</td>\n",
       "      <td>7.581213</td>\n",
       "      <td>7.561613</td>\n",
       "      <td>7.647335</td>\n",
       "      <td>7.286618</td>\n",
       "      <td>7.483227</td>\n",
       "    </tr>\n",
       "  </tbody>\n",
       "</table>\n",
       "<p>3 rows × 127326 columns</p>\n",
       "</div>"
      ],
      "text/plain": [
       "        10X25_3_A_1:TTGGTACTGGGACAx 10X27_3_A_1:TATCAGCTCTTGCCx  \\\n",
       "Cluster                Neural_crest                Neural_crest   \n",
       "TSNE_X                   -25.900671                  -26.354128   \n",
       "TSNE_Y                    -6.408116                   -1.820086   \n",
       "\n",
       "        10X27_3_A_1:AACCAGTGCTCAGAx 10X27_3_A_1:CTAGTTTGCCTGAAx  \\\n",
       "Cluster                Neural_crest                Neural_crest   \n",
       "TSNE_X                   -26.986095                  -27.583021   \n",
       "TSNE_Y                    -7.087025                   -6.904059   \n",
       "\n",
       "        10X27_3_A_1:GTAGACTGGGATCTx 10X27_3_A_1:TCATCAACAAAACGx  \\\n",
       "Cluster                Neural_crest                Neural_crest   \n",
       "TSNE_X                    -26.83719                  -27.093393   \n",
       "TSNE_Y                    -8.949903                   -7.605725   \n",
       "\n",
       "        10X40_4_A_1:ATGGACACTCCAAGx 10X25_6_A_1:TATGTCACCTTGTTx  \\\n",
       "Cluster                Neural_crest                Neural_crest   \n",
       "TSNE_X                   -27.753744                  -26.230066   \n",
       "TSNE_Y                    -8.571558                  -10.941864   \n",
       "\n",
       "        10X40_6_A_1:GTCCACTGGTCGTAx 10X25_3_A_1:GTCAATCTGTTCGAx  ...  \\\n",
       "Cluster                Neural_crest                Neural_crest  ...   \n",
       "TSNE_X                   -23.935976                  -25.698044  ...   \n",
       "TSNE_Y                   -10.545198                   -6.442016  ...   \n",
       "\n",
       "        10X70_3_A_1:ACGATGACGTATGCx 10X70_6_A_1:AGGATGCTGCGAAGx  \\\n",
       "Cluster              Choroid plexus              Choroid plexus   \n",
       "TSNE_X                    -3.752286                   -3.416189   \n",
       "TSNE_Y                     7.113171                    7.542386   \n",
       "\n",
       "        10X70_6_A_1:CATTGACTAGGCGAx 10X70_6_A_1:GGAGCCACGTCGTAx  \\\n",
       "Cluster              Choroid plexus              Choroid plexus   \n",
       "TSNE_X                    -2.118943                   -1.401663   \n",
       "TSNE_Y                     7.489019                    7.345128   \n",
       "\n",
       "        10X70_3_A_1:TACACACTCGCAATx 10X70_3_A_1:TTACACACATCTTCx  \\\n",
       "Cluster              Choroid plexus              Choroid plexus   \n",
       "TSNE_X                    -1.109969                   -2.861044   \n",
       "TSNE_Y                     7.512784                    7.581213   \n",
       "\n",
       "        10X70_3_A_1:GTCGAATGGGTGTTx 10X70_6_A_1:GCACAATGGATGAAx  \\\n",
       "Cluster              Choroid plexus              Choroid plexus   \n",
       "TSNE_X                     -3.27632                   -2.384009   \n",
       "TSNE_Y                     7.561613                    7.647335   \n",
       "\n",
       "        10X70_3_A_1:CATCAGGAGTGAGGx 10X70_6_A_1:ATTGGTCTAACCACx  \n",
       "Cluster              Choroid plexus              Choroid plexus  \n",
       "TSNE_X                    -2.105404                   -2.648681  \n",
       "TSNE_Y                     7.286618                    7.483227  \n",
       "\n",
       "[3 rows x 127326 columns]"
      ]
     },
     "execution_count": 22,
     "metadata": {},
     "output_type": "execute_result"
    }
   ],
   "source": [
    "dfpfcclus.head()"
   ]
  },
  {
   "cell_type": "code",
   "execution_count": 23,
   "metadata": {},
   "outputs": [
    {
     "data": {
      "text/plain": [
       "(1943, 127326)"
      ]
     },
     "execution_count": 23,
     "metadata": {},
     "output_type": "execute_result"
    }
   ],
   "source": [
    "df.shape"
   ]
  },
  {
   "cell_type": "code",
   "execution_count": 24,
   "metadata": {},
   "outputs": [
    {
     "data": {
      "text/plain": [
       "(3, 127326)"
      ]
     },
     "execution_count": 24,
     "metadata": {},
     "output_type": "execute_result"
    }
   ],
   "source": [
    "dfpfcclus.shape"
   ]
  },
  {
   "cell_type": "code",
   "execution_count": 25,
   "metadata": {},
   "outputs": [
    {
     "data": {
      "text/html": [
       "<div>\n",
       "<style scoped>\n",
       "    .dataframe tbody tr th:only-of-type {\n",
       "        vertical-align: middle;\n",
       "    }\n",
       "\n",
       "    .dataframe tbody tr th {\n",
       "        vertical-align: top;\n",
       "    }\n",
       "\n",
       "    .dataframe thead th {\n",
       "        text-align: right;\n",
       "    }\n",
       "</style>\n",
       "<table border=\"1\" class=\"dataframe\">\n",
       "  <thead>\n",
       "    <tr style=\"text-align: right;\">\n",
       "      <th></th>\n",
       "      <th>10X66_4_A_1:TATGTCTGGTAAAGx</th>\n",
       "      <th>10X66_4_A_1:TGTAGTCTGGTTTGx</th>\n",
       "      <th>10X66_4_A_1:TCCACGTGGAAACAx</th>\n",
       "      <th>10X66_4_A_1:ACGCCGGAGATGAAx</th>\n",
       "      <th>10X66_4_A_1:TAATCGCTTTTCACx</th>\n",
       "      <th>10X66_4_A_1:CTAACTACAGAGTAx</th>\n",
       "      <th>10X66_4_A_1:AAAGAGACACCATGx</th>\n",
       "      <th>10X66_4_A_1:CACAGATGCGTCTCx</th>\n",
       "      <th>10X66_4_A_1:ATACCTACTGGTGTx</th>\n",
       "      <th>10X17_2_A_1:GGCCACGATTGACGx</th>\n",
       "      <th>...</th>\n",
       "      <th>10X70_3_A_1:ACGATGACGTATGCx</th>\n",
       "      <th>10X70_6_A_1:AGGATGCTGCGAAGx</th>\n",
       "      <th>10X70_6_A_1:CATTGACTAGGCGAx</th>\n",
       "      <th>10X70_6_A_1:GGAGCCACGTCGTAx</th>\n",
       "      <th>10X70_3_A_1:TACACACTCGCAATx</th>\n",
       "      <th>10X70_3_A_1:TTACACACATCTTCx</th>\n",
       "      <th>10X70_3_A_1:GTCGAATGGGTGTTx</th>\n",
       "      <th>10X70_6_A_1:GCACAATGGATGAAx</th>\n",
       "      <th>10X70_3_A_1:CATCAGGAGTGAGGx</th>\n",
       "      <th>10X70_6_A_1:ATTGGTCTAACCACx</th>\n",
       "    </tr>\n",
       "  </thead>\n",
       "  <tbody>\n",
       "    <tr>\n",
       "      <th>Cluster</th>\n",
       "      <td>Neuron</td>\n",
       "      <td>Neuron</td>\n",
       "      <td>Neuron</td>\n",
       "      <td>Neuron</td>\n",
       "      <td>Neuron</td>\n",
       "      <td>Neuron</td>\n",
       "      <td>Neuron</td>\n",
       "      <td>Neuron</td>\n",
       "      <td>Neuron</td>\n",
       "      <td>Neuron</td>\n",
       "      <td>...</td>\n",
       "      <td>Choroid plexus</td>\n",
       "      <td>Choroid plexus</td>\n",
       "      <td>Choroid plexus</td>\n",
       "      <td>Choroid plexus</td>\n",
       "      <td>Choroid plexus</td>\n",
       "      <td>Choroid plexus</td>\n",
       "      <td>Choroid plexus</td>\n",
       "      <td>Choroid plexus</td>\n",
       "      <td>Choroid plexus</td>\n",
       "      <td>Choroid plexus</td>\n",
       "    </tr>\n",
       "    <tr>\n",
       "      <th>TSNE_X</th>\n",
       "      <td>14.16353</td>\n",
       "      <td>14.344239</td>\n",
       "      <td>13.894244</td>\n",
       "      <td>13.856288</td>\n",
       "      <td>13.865479</td>\n",
       "      <td>17.466282</td>\n",
       "      <td>14.06287</td>\n",
       "      <td>13.833599</td>\n",
       "      <td>13.877506</td>\n",
       "      <td>13.886925</td>\n",
       "      <td>...</td>\n",
       "      <td>-3.752286</td>\n",
       "      <td>-3.416189</td>\n",
       "      <td>-2.118943</td>\n",
       "      <td>-1.401663</td>\n",
       "      <td>-1.109969</td>\n",
       "      <td>-2.861044</td>\n",
       "      <td>-3.27632</td>\n",
       "      <td>-2.384009</td>\n",
       "      <td>-2.105404</td>\n",
       "      <td>-2.648681</td>\n",
       "    </tr>\n",
       "    <tr>\n",
       "      <th>TSNE_Y</th>\n",
       "      <td>3.717851</td>\n",
       "      <td>3.02054</td>\n",
       "      <td>3.471131</td>\n",
       "      <td>3.544421</td>\n",
       "      <td>3.582295</td>\n",
       "      <td>-6.061431</td>\n",
       "      <td>2.974258</td>\n",
       "      <td>3.495583</td>\n",
       "      <td>3.475301</td>\n",
       "      <td>3.23149</td>\n",
       "      <td>...</td>\n",
       "      <td>7.113171</td>\n",
       "      <td>7.542386</td>\n",
       "      <td>7.489019</td>\n",
       "      <td>7.345128</td>\n",
       "      <td>7.512784</td>\n",
       "      <td>7.581213</td>\n",
       "      <td>7.561613</td>\n",
       "      <td>7.647335</td>\n",
       "      <td>7.286618</td>\n",
       "      <td>7.483227</td>\n",
       "    </tr>\n",
       "  </tbody>\n",
       "</table>\n",
       "<p>3 rows × 127326 columns</p>\n",
       "</div>"
      ],
      "text/plain": [
       "        10X66_4_A_1:TATGTCTGGTAAAGx 10X66_4_A_1:TGTAGTCTGGTTTGx  \\\n",
       "Cluster                      Neuron                      Neuron   \n",
       "TSNE_X                     14.16353                   14.344239   \n",
       "TSNE_Y                     3.717851                     3.02054   \n",
       "\n",
       "        10X66_4_A_1:TCCACGTGGAAACAx 10X66_4_A_1:ACGCCGGAGATGAAx  \\\n",
       "Cluster                      Neuron                      Neuron   \n",
       "TSNE_X                    13.894244                   13.856288   \n",
       "TSNE_Y                     3.471131                    3.544421   \n",
       "\n",
       "        10X66_4_A_1:TAATCGCTTTTCACx 10X66_4_A_1:CTAACTACAGAGTAx  \\\n",
       "Cluster                      Neuron                      Neuron   \n",
       "TSNE_X                    13.865479                   17.466282   \n",
       "TSNE_Y                     3.582295                   -6.061431   \n",
       "\n",
       "        10X66_4_A_1:AAAGAGACACCATGx 10X66_4_A_1:CACAGATGCGTCTCx  \\\n",
       "Cluster                      Neuron                      Neuron   \n",
       "TSNE_X                     14.06287                   13.833599   \n",
       "TSNE_Y                     2.974258                    3.495583   \n",
       "\n",
       "        10X66_4_A_1:ATACCTACTGGTGTx 10X17_2_A_1:GGCCACGATTGACGx  ...  \\\n",
       "Cluster                      Neuron                      Neuron  ...   \n",
       "TSNE_X                    13.877506                   13.886925  ...   \n",
       "TSNE_Y                     3.475301                     3.23149  ...   \n",
       "\n",
       "        10X70_3_A_1:ACGATGACGTATGCx 10X70_6_A_1:AGGATGCTGCGAAGx  \\\n",
       "Cluster              Choroid plexus              Choroid plexus   \n",
       "TSNE_X                    -3.752286                   -3.416189   \n",
       "TSNE_Y                     7.113171                    7.542386   \n",
       "\n",
       "        10X70_6_A_1:CATTGACTAGGCGAx 10X70_6_A_1:GGAGCCACGTCGTAx  \\\n",
       "Cluster              Choroid plexus              Choroid plexus   \n",
       "TSNE_X                    -2.118943                   -1.401663   \n",
       "TSNE_Y                     7.489019                    7.345128   \n",
       "\n",
       "        10X70_3_A_1:TACACACTCGCAATx 10X70_3_A_1:TTACACACATCTTCx  \\\n",
       "Cluster              Choroid plexus              Choroid plexus   \n",
       "TSNE_X                    -1.109969                   -2.861044   \n",
       "TSNE_Y                     7.512784                    7.581213   \n",
       "\n",
       "        10X70_3_A_1:GTCGAATGGGTGTTx 10X70_6_A_1:GCACAATGGATGAAx  \\\n",
       "Cluster              Choroid plexus              Choroid plexus   \n",
       "TSNE_X                     -3.27632                   -2.384009   \n",
       "TSNE_Y                     7.561613                    7.647335   \n",
       "\n",
       "        10X70_3_A_1:CATCAGGAGTGAGGx 10X70_6_A_1:ATTGGTCTAACCACx  \n",
       "Cluster              Choroid plexus              Choroid plexus  \n",
       "TSNE_X                    -2.105404                   -2.648681  \n",
       "TSNE_Y                     7.286618                    7.483227  \n",
       "\n",
       "[3 rows x 127326 columns]"
      ]
     },
     "execution_count": 25,
     "metadata": {},
     "output_type": "execute_result"
    }
   ],
   "source": [
    "dfpfcclus=dfpfcclus.T.loc[df.columns].T\n",
    "dfpfcclus.head()"
   ]
  },
  {
   "cell_type": "code",
   "execution_count": 34,
   "metadata": {},
   "outputs": [
    {
     "data": {
      "text/plain": [
       "Index(['Spon2', 'Il1r1', 'Plp1', 'Neurod6', 'Dda1', 'Ocln', 'Capn5', 'Hesx1',\n",
       "       'Nrn1', 'Trp53i11',\n",
       "       ...\n",
       "       'Chrd', 'Cldn3', 'Lmcd1', 'Nrxn1', 'Tbx18', 'Lbp', 'Pmm1', 'Tubb3',\n",
       "       'Col1a2', 'Htr2c'],\n",
       "      dtype='object', length=1943)"
      ]
     },
     "execution_count": 34,
     "metadata": {},
     "output_type": "execute_result"
    }
   ],
   "source": [
    "df.index"
   ]
  },
  {
   "cell_type": "code",
   "execution_count": 35,
   "metadata": {},
   "outputs": [],
   "source": [
    "dfpfc=df.astype(float)"
   ]
  },
  {
   "cell_type": "code",
   "execution_count": null,
   "metadata": {},
   "outputs": [],
   "source": []
  },
  {
   "cell_type": "code",
   "execution_count": 28,
   "metadata": {},
   "outputs": [
    {
     "name": "stdout",
     "output_type": "stream",
     "text": [
      "D:\\Dropbox\\data\\proj\\PE_HYZ\\BuidingCode\\ready_SWAPLINE\n"
     ]
    }
   ],
   "source": [
    "cd D:\\Dropbox\\data\\proj\\PE_HYZ\\BuidingCode\\ready_SWAPLINE"
   ]
  },
  {
   "cell_type": "code",
   "execution_count": 29,
   "metadata": {
    "scrolled": true
   },
   "outputs": [],
   "source": [
    "import prefiltering"
   ]
  },
  {
   "cell_type": "code",
   "execution_count": 36,
   "metadata": {},
   "outputs": [
    {
     "data": {
      "text/plain": [
       "1943"
      ]
     },
     "execution_count": 36,
     "metadata": {},
     "output_type": "execute_result"
    }
   ],
   "source": [
    "path=\"D:/Dropbox/data/proj/PE_HYZ/PublicDataSet/\"\n",
    "dictfilename1=\"Homologene_mouse2human_dict2.pickle\"\n",
    "dfpfc=prefiltering.TransSpeciesGeneName(dfm=dfpfc, dictfilename=dictfilename1, path=path)\n",
    "samegene=set(dfpfc.index)\n",
    "len(samegene)"
   ]
  },
  {
   "cell_type": "markdown",
   "metadata": {
    "scrolled": true
   },
   "source": [
    "path='D:/Dropbox/data/proj/PE_HYZ/PublicDataSet/'\n",
    "filename='PANTHER_cell_cycle_genes.txt'\n",
    "#dfpfc2= prefilteringTest.prefilter(df_f=dfpfc,filename=filename, path=path)\n",
    "dfpfc= prefiltering.prefilter(df_f=dfpfc,filename=filename, path=path)\n",
    "dfpfc.shape"
   ]
  },
  {
   "cell_type": "markdown",
   "metadata": {},
   "source": [
    "commongene=list(dfpfc.index)\n",
    "len(commongene)"
   ]
  },
  {
   "cell_type": "markdown",
   "metadata": {
    "scrolled": true
   },
   "source": [
    "#import prefilteringTest0\n",
    "#sw=SWprefiltering.SWAPLINE(dfpfc)\n",
    "mu, cv, sigma, score, mu_linspace, cv_fit, params, mu_sorted, cv_sorted, thrs, MVlist=prefiltering.MVgenes(dfpfc)\n",
    "#mu, cv, sigma, score, mu_linspace, cv_fit, params, mu_sorted, cv_sorted, thrs, MVlist=MVgenes(dfpfc)"
   ]
  },
  {
   "cell_type": "markdown",
   "metadata": {},
   "source": [
    "thrs"
   ]
  },
  {
   "cell_type": "markdown",
   "metadata": {
    "scrolled": true
   },
   "source": [
    "import SWvisPlot"
   ]
  },
  {
   "cell_type": "markdown",
   "metadata": {
    "scrolled": false
   },
   "source": [
    "df_dev = dfpfc.loc[MVlist]\n",
    "df_dev.shape"
   ]
  },
  {
   "cell_type": "code",
   "execution_count": 37,
   "metadata": {},
   "outputs": [
    {
     "data": {
      "text/plain": [
       "{'Choroid plexus',\n",
       " 'Ectoderm',\n",
       " 'Glia',\n",
       " 'Neural_crest',\n",
       " 'Neural_tube',\n",
       " 'Neuron',\n",
       " 'OPCs',\n",
       " 'Pericyte/SMC',\n",
       " 'Rgl',\n",
       " 'VLMC'}"
      ]
     },
     "execution_count": 37,
     "metadata": {},
     "output_type": "execute_result"
    }
   ],
   "source": [
    "set(dfpfcclus.loc['Cluster'])"
   ]
  },
  {
   "cell_type": "code",
   "execution_count": 38,
   "metadata": {},
   "outputs": [
    {
     "data": {
      "text/plain": [
       "127326"
      ]
     },
     "execution_count": 38,
     "metadata": {},
     "output_type": "execute_result"
    }
   ],
   "source": [
    "proto = pd.Series({'Choroid plexus':'Choroid plexus',\n",
    " 'Early Neural Tube': 'Neural_tube',\n",
    "                    'Neural_tube': 'Neural_tube',\n",
    "                   'Neural Tube': 'NT',\n",
    " 'Ectoderm':'Ectoderm',\n",
    " 'Fibroblast':'VLMC',\n",
    "                   'VLMC':'VLMC',\n",
    "                    'NT/Rgl': 'NT/Rgl',\n",
    " 'Glia': 'Glia',\n",
    " 'Neural crest': 'Neural_crest',\n",
    "                    'Neural_crest': 'Neural_crest',\n",
    " 'Neuron':'Neuron',\n",
    " 'OPCs': 'OPCs',\n",
    " 'Radial glia':  'Rgl',\n",
    "                   'Rgl':'Rgl',\n",
    " 'Vascular':'Pericyte/SMC',\n",
    "                   'PeriV_Mural':'Pericyte/SMC',\n",
    "                   'Pericyte/SMC':'Pericyte/SMC',\n",
    "       })\n",
    "mct_dev = dfpfcclus.loc['Cluster'].values\n",
    "mprotogruop = proto.loc[mct_dev].values\n",
    "len(mprotogruop)"
   ]
  },
  {
   "cell_type": "code",
   "execution_count": 39,
   "metadata": {},
   "outputs": [],
   "source": [
    "dfpfcclus.loc['Cluster']=mprotogruop"
   ]
  },
  {
   "cell_type": "code",
   "execution_count": 40,
   "metadata": {},
   "outputs": [
    {
     "data": {
      "text/plain": [
       "{'Choroid plexus',\n",
       " 'Ectoderm',\n",
       " 'Glia',\n",
       " 'Neural_crest',\n",
       " 'Neural_tube',\n",
       " 'Neuron',\n",
       " 'OPCs',\n",
       " 'Pericyte/SMC',\n",
       " 'Rgl',\n",
       " 'VLMC'}"
      ]
     },
     "execution_count": 40,
     "metadata": {},
     "output_type": "execute_result"
    }
   ],
   "source": [
    "set(dfpfcclus.loc['Cluster'])"
   ]
  },
  {
   "cell_type": "markdown",
   "metadata": {},
   "source": [
    "#import prefilteringTest12\n",
    "#sw=SWprefiltering.SWAPLINE(dfpfc)\n",
    "list_genes,df_fold=prefiltering.enrichmentscoreBETA(dfpfcclus=dfpfcclus,df_dev=df_dev, shortcut=True)"
   ]
  },
  {
   "cell_type": "markdown",
   "metadata": {},
   "source": [
    "len(set(list_genes))"
   ]
  },
  {
   "cell_type": "code",
   "execution_count": 42,
   "metadata": {},
   "outputs": [
    {
     "name": "stderr",
     "output_type": "stream",
     "text": [
      "D:\\Dropbox\\data\\proj\\PE_HYZ\\BuidingCode\\ready_SWAPLINE\\prefiltering.py:301: FutureWarning: In a future version of pandas all arguments of DataFrame.dropna will be keyword-only.\n",
      "  scalepfc = dfpfc.div(dfpfc.std(1), axis=0).dropna(0)\n",
      "D:\\Dropbox\\data\\proj\\PE_HYZ\\BuidingCode\\ready_SWAPLINE\\prefiltering.py:302: FutureWarning: In a future version of pandas all arguments of DataFrame.dropna will be keyword-only.\n",
      "  scalepfc = dfpfc.astype(float).dropna(0)\n",
      "D:\\Dropbox\\data\\proj\\PE_HYZ\\BuidingCode\\ready_SWAPLINE\\prefiltering.py:304: FutureWarning: In a future version of pandas all arguments of DataFrame.dropna will be keyword-only.\n",
      "  scalepfc = scalepfc.dropna(0)\n",
      "D:\\Dropbox\\data\\proj\\PE_HYZ\\BuidingCode\\ready_SWAPLINE\\prefiltering.py:305: FutureWarning: Passing a set as an indexer is deprecated and will raise in a future version. Use a list instead.\n",
      "  dfpfc_dev = scalepfc.loc[set(scalepfc.index) & set(sharedMVgenes)].dropna()\n"
     ]
    }
   ],
   "source": [
    "mdf_train_set, mclasses_names, mtrain_index, sharedMVgenes =prefiltering.MVgene_Scaling(list_genes=dfpfc.index.tolist(),dfpfc=dfpfc,score=0,\n",
    "                                                                   thrs=1000, TPTT=0,     dfpfcclus=dfpfcclus,mprotogruop=mprotogruop,commongene=dfpfc.index.tolist(),\n",
    "                                                                                              sharedMVgenes=None,std_scaling=True,\n",
    "    tftable=\"D:/Dropbox/data/proj/PE_HYZ/PublicDataSet/FantomTF2CLUSTER_human_official.txt\", learninggroup=\"train\")"
   ]
  },
  {
   "cell_type": "code",
   "execution_count": 43,
   "metadata": {
    "scrolled": true
   },
   "outputs": [
    {
     "data": {
      "text/plain": [
       "(1942, 127326)"
      ]
     },
     "execution_count": 43,
     "metadata": {},
     "output_type": "execute_result"
    }
   ],
   "source": [
    "mdf_train_set.shape"
   ]
  },
  {
   "cell_type": "markdown",
   "metadata": {},
   "source": [
    "# Skorch_NN"
   ]
  },
  {
   "cell_type": "code",
   "execution_count": 44,
   "metadata": {},
   "outputs": [
    {
     "data": {
      "text/plain": [
       "'cuda'"
      ]
     },
     "execution_count": 44,
     "metadata": {},
     "output_type": "execute_result"
    }
   ],
   "source": [
    "import torch\n",
    "from torch import nn\n",
    "import torch.nn.functional as F\n",
    "from skorch import NeuralNetClassifier\n",
    "torch.set_default_tensor_type('torch.DoubleTensor')\n",
    "torch.manual_seed(0);\n",
    "device = 'cuda' if torch.cuda.is_available() else 'cpu'\n",
    "device"
   ]
  },
  {
   "cell_type": "code",
   "execution_count": 45,
   "metadata": {},
   "outputs": [],
   "source": [
    "from skorch.callbacks import Callback\n",
    "# CPU default.  if cuda, tensor to be applied,\n",
    "class Classifier3Layers(nn.Module):\n",
    "    def __init__(\n",
    "            self,\n",
    "            input_dim=mdf_train_set.shape[0],\n",
    "            hidden_dim=int(mdf_train_set.shape[0]/5),\n",
    "            output_dim=len(unique(mtrain_index)),\n",
    "            dropout=0.3,\n",
    "    ):\n",
    "        super(Classifier3Layers, self).__init__()\n",
    "        self.dropout = nn.Dropout(dropout)\n",
    "\n",
    "        self.hidden = nn.Linear(input_dim, hidden_dim)\n",
    "        self.output = nn.Linear(hidden_dim, output_dim)\n",
    "\n",
    "    def forward(self, X, **kwargs):\n",
    "        X = F.relu(self.hidden(X))\n",
    "        X = self.dropout(X)\n",
    "        X = F.softmax(self.output(X), dim=-1)\n",
    "        return X\n",
    "        \n",
    "def NNclassifer(mdf_train_set=mdf_train_set,mtrain_index=mtrain_index,epochNum=100,learningRate=0.05,verbose=0,optimizerMmentum=0.8,\n",
    "    dropout=0.3):\n",
    "    #nist_d=mdf_train_set.shape[0],\n",
    "    #hidden_d = int(mnist_d / 5),\n",
    "    #output_d = len(unique(mtrain_index))):\n",
    "    #from skorch import NeuralNetClassifier\n",
    "    #import Classifier3Layers\n",
    "    #import LossTweet\n",
    "    net=NeuralNetClassifier(\n",
    "        Classifier3Layers,\n",
    "        max_epochs=epochNum,\n",
    "        lr=learningRate,\n",
    "        verbose=0,\n",
    "        optimizer__momentum=optimizerMmentum,\n",
    "        module__dropout=dropout,\n",
    "        optimizer__nesterov = True,\n",
    "    #callbacks=[acTweet(max_loss=0.2)]\n",
    "    )\n",
    "\n",
    "    normalizer = 0.9*mdf_train_set.values.max(1)[:,newaxis]\n",
    "    net .fit((mdf_train_set.values / normalizer).T, mtrain_index)\n",
    "    #noticeMSG\n",
    "    return net\n",
    "\n"
   ]
  },
  {
   "cell_type": "code",
   "execution_count": 51,
   "metadata": {},
   "outputs": [],
   "source": [
    "net=NNclassifer(\n",
    "    mdf_train_set=mdf_train_set,\n",
    "    mtrain_index=mtrain_index,\n",
    "    epochNum=100,\n",
    "    learningRate=0.0025,\n",
    "    verbose=0,\n",
    "    optimizerMmentum=0.85,\n",
    "    dropout=0.5,\n",
    "    #device='cuda',\n",
    "    #imizer__nesterov=True,\n",
    "    )"
   ]
  },
  {
   "cell_type": "code",
   "execution_count": 52,
   "metadata": {},
   "outputs": [
    {
     "data": {
      "image/png": "[encoded data removed]",
      "text/plain": [
       "<Figure size 432x216 with 1 Axes>"
      ]
     },
     "metadata": {},
     "output_type": "display_data"
    }
   ],
   "source": [
    "import SWvisPlot\n",
    "ax=SWvisPlot.AccuracyPlot( acc=net.history[:,'valid_acc'] ,accCutoff=0.95,\n",
    "                 Xlow=-1, Xhigh=len(net.history[:,'valid_acc'])+1,Ylow=0.5, Yhigh=1,\n",
    "               )"
   ]
  },
  {
   "cell_type": "markdown",
   "metadata": {},
   "source": [
    "##  epochNum as 25"
   ]
  },
  {
   "cell_type": "code",
   "execution_count": 54,
   "metadata": {},
   "outputs": [],
   "source": [
    "net=NNclassifer(\n",
    "mdf_train_set=mdf_train_set,\n",
    "    mtrain_index=mtrain_index,\n",
    "    epochNum=25,\n",
    "    learningRate=0.0025,\n",
    "    verbose=0,\n",
    "    optimizerMmentum=0.85,\n",
    "    dropout=0.5,\n",
    "\n",
    " )"
   ]
  },
  {
   "cell_type": "code",
   "execution_count": 56,
   "metadata": {
    "scrolled": false
   },
   "outputs": [
    {
     "data": {
      "text/plain": [
       "{'Choroid plexus',\n",
       " 'Ectoderm',\n",
       " 'Glia',\n",
       " 'Neural_crest',\n",
       " 'Neural_tube',\n",
       " 'Neuron',\n",
       " 'OPCs',\n",
       " 'Pericyte/SMC',\n",
       " 'Rgl',\n",
       " 'VLMC'}"
      ]
     },
     "execution_count": 56,
     "metadata": {},
     "output_type": "execute_result"
    }
   ],
   "source": [
    "set(dfpfcclus.loc[\"Cluster\"].values)"
   ]
  },
  {
   "cell_type": "code",
   "execution_count": 57,
   "metadata": {},
   "outputs": [],
   "source": [
    "mwanted_order =[\n",
    "'Choroid plexus',\n",
    "     'Pericyte/SMC',\n",
    "     'VLMC',\n",
    "     'Neural_crest',\n",
    " 'Ectoderm',\n",
    " \n",
    "\n",
    " 'Neural_tube',\n",
    " 'Rgl',\n",
    "'Glia',  'OPCs','Neuron',\n",
    "\n",
    " ]"
   ]
  },
  {
   "cell_type": "code",
   "execution_count": 58,
   "metadata": {},
   "outputs": [],
   "source": [
    "refcolor_dict =pd.Series({'Astro':( 123,104,238),  'VLMC':  (5, 75,5), 'Ectoderm': (108,49,13)  , 'Neuron':(0,191,255) ,\n",
    "                          'Glia':   (128,0,128) ,\n",
    "             'OPCs':    (255,215,0), 'Pericyte/SMC': (0, 215,   7)  , 'Rgl':    (255,0,0),\n",
    "             'Choroid plexus':  (70, 70, 70),  'SMC': ( 80, 235, 255),'aaSMC':(139,69,19),\n",
    "             'NC_auto':(10, 120, 190), 'Neural Tube':(230, 10, 100),'Neural_crest':  (128,128,0),\n",
    "             'Meni_FB':   (190,  10,  10),'Meni_Neuron': (225, 160,  30),\n",
    "                       'Meni_Rgl':    ( 159,155,110),\n",
    "           'NC_Mes': (69,155,110)  ,'migratory 1': (215, 105,  30) , 'NC_Migr':  (190, 200, 190),'Neural_tube':   ( 255,20,147),\n",
    "                         'qRgl':  (  10, 10, 250),'qNSC2': (215, 105,  30),'NC_sensory':  (79,47,79)   ,\n",
    "              'NT/Rgl':    (170, 180, 170),})"
   ]
  },
  {
   "cell_type": "code",
   "execution_count": 59,
   "metadata": {},
   "outputs": [
    {
     "data": {
      "text/plain": [
       "array(['Neuron', 'Neuron', 'Neuron', ..., 'Choroid plexus',\n",
       "       'Choroid plexus', 'Choroid plexus'], dtype=object)"
      ]
     },
     "execution_count": 59,
     "metadata": {},
     "output_type": "execute_result"
    }
   ],
   "source": [
    "mclasses_names[mtrain_index]"
   ]
  },
  {
   "cell_type": "code",
   "execution_count": 60,
   "metadata": {},
   "outputs": [],
   "source": [
    "import SWAPLINEmain"
   ]
  },
  {
   "cell_type": "code",
   "execution_count": 61,
   "metadata": {},
   "outputs": [],
   "source": [
    "\n",
    "mreordername, dfprobRef,refcolor_dict,refdataLR, mreorder_idx =SWAPLINEmain.prediction(\n",
    "    mwanted_order = mwanted_order, mclasses_names = mclasses_names, mprotogruop = dfpfcclus.loc[\"Cluster\"].values,\n",
    "     mtrain_index = mtrain_index, net = net, mreorder_ix = None, mdf_train_set = mdf_train_set,   \n",
    "    learninggroup=\"train\", mcolor_dict=refcolor_dict)\n",
    "#RadarVisualization"
   ]
  },
  {
   "cell_type": "code",
   "execution_count": 63,
   "metadata": {},
   "outputs": [],
   "source": [
    "todaytime=f\"{datetime.datetime.now():%Y%m%d%I%M%p}\"\n",
    "dfprobRef.to_csv(\"probability_table%s.tab\"%todaytime,sep=\"\\t\")\n",
    "dfclRef.to_csv(\"Location_table%s.tab\"%todaytime,sep=\"\\t\")\n"
   ]
  },
  {
   "cell_type": "code",
   "execution_count": 83,
   "metadata": {},
   "outputs": [],
   "source": [
    "#import SWAPLINEmain9\n",
    "dftest0,ratiodf=SWAPLINEmain.permutationTest(mdf_train_set=mdf_train_set,net=net, dfprobRef=dfprobRef,mreorder_ix=mreorder_idx,num=10)\n",
    "#RadarVisualization"
   ]
  },
  {
   "cell_type": "markdown",
   "metadata": {},
   "source": [
    "## TCGA GBM CELL"
   ]
  },
  {
   "cell_type": "code",
   "execution_count": 64,
   "metadata": {
    "scrolled": true
   },
   "outputs": [
    {
     "name": "stdout",
     "output_type": "stream",
     "text": [
      "D:\\Dropbox\\data\\proj\\PE_HYZ\\PublicDataSet\\GBM_gsm168004_Suva_MacrophageGBM\\GSE168004_OSM_celllines_tpm.csv\n"
     ]
    }
   ],
   "source": [
    "cd D:\\Dropbox\\data\\proj\\PE_HYZ\\PublicDataSet\\GBM_gsm168004_Suva_MacrophageGBM\\GSE168004_OSM_celllines_tpm.csv"
   ]
  },
  {
   "cell_type": "code",
   "execution_count": 65,
   "metadata": {},
   "outputs": [],
   "source": [
    "dfgbm=pd.read_table(\"GSE168004_OSM_celllines_tpm.csv\",index_col=0,header=0,sep=\",\")"
   ]
  },
  {
   "cell_type": "code",
   "execution_count": 66,
   "metadata": {
    "scrolled": true
   },
   "outputs": [
    {
     "data": {
      "text/plain": [
       "(33538, 2767)"
      ]
     },
     "execution_count": 66,
     "metadata": {},
     "output_type": "execute_result"
    }
   ],
   "source": [
    "\n",
    "dfgbm.shape"
   ]
  },
  {
   "cell_type": "code",
   "execution_count": 67,
   "metadata": {
    "scrolled": true
   },
   "outputs": [
    {
     "data": {
      "text/html": [
       "<div>\n",
       "<style scoped>\n",
       "    .dataframe tbody tr th:only-of-type {\n",
       "        vertical-align: middle;\n",
       "    }\n",
       "\n",
       "    .dataframe tbody tr th {\n",
       "        vertical-align: top;\n",
       "    }\n",
       "\n",
       "    .dataframe thead th {\n",
       "        text-align: right;\n",
       "    }\n",
       "</style>\n",
       "<table border=\"1\" class=\"dataframe\">\n",
       "  <thead>\n",
       "    <tr style=\"text-align: right;\">\n",
       "      <th></th>\n",
       "      <th>AAACGCTGTTTACACG-1</th>\n",
       "      <th>AAACGCTTCCTACACC-1</th>\n",
       "      <th>AAAGAACAGTTTGTCG-1</th>\n",
       "      <th>AAAGAACGTCAAGCCC-1</th>\n",
       "      <th>AAAGGATGTGTCCAAT-1</th>\n",
       "      <th>AAAGGGCAGAATCGTA-1</th>\n",
       "      <th>AAAGTCCAGCCATTCA-1</th>\n",
       "      <th>AAAGTGACATTGCTGA-1</th>\n",
       "      <th>AAAGTGATCGTGTGAT-1</th>\n",
       "      <th>AACAACCTCTGGAGAG-1</th>\n",
       "      <th>...</th>\n",
       "      <th>TTTAGTCTCGCACGGT-1</th>\n",
       "      <th>TTTATGCCACCCTAGG-1</th>\n",
       "      <th>TTTCACAAGGTCGACA-1</th>\n",
       "      <th>TTTCAGTCAGAGATGC-1</th>\n",
       "      <th>TTTCATGCAGCTGTCG-1</th>\n",
       "      <th>TTTCATGCATGCCGAC-1</th>\n",
       "      <th>TTTGGAGAGCAAGCCA-1</th>\n",
       "      <th>TTTGGAGAGCGAACTG-1</th>\n",
       "      <th>TTTGGAGGTAGCTGTT-1</th>\n",
       "      <th>TTTGTTGGTTGCCATA-1</th>\n",
       "    </tr>\n",
       "  </thead>\n",
       "  <tbody>\n",
       "    <tr>\n",
       "      <th>MIR1302-2HG</th>\n",
       "      <td>0.0</td>\n",
       "      <td>0.0</td>\n",
       "      <td>0.0</td>\n",
       "      <td>0.0</td>\n",
       "      <td>0.0</td>\n",
       "      <td>0.0</td>\n",
       "      <td>0.0</td>\n",
       "      <td>0.0</td>\n",
       "      <td>0.0</td>\n",
       "      <td>0.0</td>\n",
       "      <td>...</td>\n",
       "      <td>0.0</td>\n",
       "      <td>0.0</td>\n",
       "      <td>0.0</td>\n",
       "      <td>0.0</td>\n",
       "      <td>0.0</td>\n",
       "      <td>0.0</td>\n",
       "      <td>0.0</td>\n",
       "      <td>0.0</td>\n",
       "      <td>0.0</td>\n",
       "      <td>0.0</td>\n",
       "    </tr>\n",
       "    <tr>\n",
       "      <th>FAM138A</th>\n",
       "      <td>0.0</td>\n",
       "      <td>0.0</td>\n",
       "      <td>0.0</td>\n",
       "      <td>0.0</td>\n",
       "      <td>0.0</td>\n",
       "      <td>0.0</td>\n",
       "      <td>0.0</td>\n",
       "      <td>0.0</td>\n",
       "      <td>0.0</td>\n",
       "      <td>0.0</td>\n",
       "      <td>...</td>\n",
       "      <td>0.0</td>\n",
       "      <td>0.0</td>\n",
       "      <td>0.0</td>\n",
       "      <td>0.0</td>\n",
       "      <td>0.0</td>\n",
       "      <td>0.0</td>\n",
       "      <td>0.0</td>\n",
       "      <td>0.0</td>\n",
       "      <td>0.0</td>\n",
       "      <td>0.0</td>\n",
       "    </tr>\n",
       "    <tr>\n",
       "      <th>OR4F5</th>\n",
       "      <td>0.0</td>\n",
       "      <td>0.0</td>\n",
       "      <td>0.0</td>\n",
       "      <td>0.0</td>\n",
       "      <td>0.0</td>\n",
       "      <td>0.0</td>\n",
       "      <td>0.0</td>\n",
       "      <td>0.0</td>\n",
       "      <td>0.0</td>\n",
       "      <td>0.0</td>\n",
       "      <td>...</td>\n",
       "      <td>0.0</td>\n",
       "      <td>0.0</td>\n",
       "      <td>0.0</td>\n",
       "      <td>0.0</td>\n",
       "      <td>0.0</td>\n",
       "      <td>0.0</td>\n",
       "      <td>0.0</td>\n",
       "      <td>0.0</td>\n",
       "      <td>0.0</td>\n",
       "      <td>0.0</td>\n",
       "    </tr>\n",
       "    <tr>\n",
       "      <th>AL627309.1</th>\n",
       "      <td>0.0</td>\n",
       "      <td>0.0</td>\n",
       "      <td>0.0</td>\n",
       "      <td>0.0</td>\n",
       "      <td>0.0</td>\n",
       "      <td>0.0</td>\n",
       "      <td>0.0</td>\n",
       "      <td>0.0</td>\n",
       "      <td>0.0</td>\n",
       "      <td>0.0</td>\n",
       "      <td>...</td>\n",
       "      <td>0.0</td>\n",
       "      <td>0.0</td>\n",
       "      <td>0.0</td>\n",
       "      <td>0.0</td>\n",
       "      <td>0.0</td>\n",
       "      <td>0.0</td>\n",
       "      <td>0.0</td>\n",
       "      <td>0.0</td>\n",
       "      <td>0.0</td>\n",
       "      <td>0.0</td>\n",
       "    </tr>\n",
       "    <tr>\n",
       "      <th>AL627309.3</th>\n",
       "      <td>0.0</td>\n",
       "      <td>0.0</td>\n",
       "      <td>0.0</td>\n",
       "      <td>0.0</td>\n",
       "      <td>0.0</td>\n",
       "      <td>0.0</td>\n",
       "      <td>0.0</td>\n",
       "      <td>0.0</td>\n",
       "      <td>0.0</td>\n",
       "      <td>0.0</td>\n",
       "      <td>...</td>\n",
       "      <td>0.0</td>\n",
       "      <td>0.0</td>\n",
       "      <td>0.0</td>\n",
       "      <td>0.0</td>\n",
       "      <td>0.0</td>\n",
       "      <td>0.0</td>\n",
       "      <td>0.0</td>\n",
       "      <td>0.0</td>\n",
       "      <td>0.0</td>\n",
       "      <td>0.0</td>\n",
       "    </tr>\n",
       "  </tbody>\n",
       "</table>\n",
       "<p>5 rows × 2767 columns</p>\n",
       "</div>"
      ],
      "text/plain": [
       "             AAACGCTGTTTACACG-1  AAACGCTTCCTACACC-1  AAAGAACAGTTTGTCG-1  \\\n",
       "MIR1302-2HG                 0.0                 0.0                 0.0   \n",
       "FAM138A                     0.0                 0.0                 0.0   \n",
       "OR4F5                       0.0                 0.0                 0.0   \n",
       "AL627309.1                  0.0                 0.0                 0.0   \n",
       "AL627309.3                  0.0                 0.0                 0.0   \n",
       "\n",
       "             AAAGAACGTCAAGCCC-1  AAAGGATGTGTCCAAT-1  AAAGGGCAGAATCGTA-1  \\\n",
       "MIR1302-2HG                 0.0                 0.0                 0.0   \n",
       "FAM138A                     0.0                 0.0                 0.0   \n",
       "OR4F5                       0.0                 0.0                 0.0   \n",
       "AL627309.1                  0.0                 0.0                 0.0   \n",
       "AL627309.3                  0.0                 0.0                 0.0   \n",
       "\n",
       "             AAAGTCCAGCCATTCA-1  AAAGTGACATTGCTGA-1  AAAGTGATCGTGTGAT-1  \\\n",
       "MIR1302-2HG                 0.0                 0.0                 0.0   \n",
       "FAM138A                     0.0                 0.0                 0.0   \n",
       "OR4F5                       0.0                 0.0                 0.0   \n",
       "AL627309.1                  0.0                 0.0                 0.0   \n",
       "AL627309.3                  0.0                 0.0                 0.0   \n",
       "\n",
       "             AACAACCTCTGGAGAG-1  ...  TTTAGTCTCGCACGGT-1  TTTATGCCACCCTAGG-1  \\\n",
       "MIR1302-2HG                 0.0  ...                 0.0                 0.0   \n",
       "FAM138A                     0.0  ...                 0.0                 0.0   \n",
       "OR4F5                       0.0  ...                 0.0                 0.0   \n",
       "AL627309.1                  0.0  ...                 0.0                 0.0   \n",
       "AL627309.3                  0.0  ...                 0.0                 0.0   \n",
       "\n",
       "             TTTCACAAGGTCGACA-1  TTTCAGTCAGAGATGC-1  TTTCATGCAGCTGTCG-1  \\\n",
       "MIR1302-2HG                 0.0                 0.0                 0.0   \n",
       "FAM138A                     0.0                 0.0                 0.0   \n",
       "OR4F5                       0.0                 0.0                 0.0   \n",
       "AL627309.1                  0.0                 0.0                 0.0   \n",
       "AL627309.3                  0.0                 0.0                 0.0   \n",
       "\n",
       "             TTTCATGCATGCCGAC-1  TTTGGAGAGCAAGCCA-1  TTTGGAGAGCGAACTG-1  \\\n",
       "MIR1302-2HG                 0.0                 0.0                 0.0   \n",
       "FAM138A                     0.0                 0.0                 0.0   \n",
       "OR4F5                       0.0                 0.0                 0.0   \n",
       "AL627309.1                  0.0                 0.0                 0.0   \n",
       "AL627309.3                  0.0                 0.0                 0.0   \n",
       "\n",
       "             TTTGGAGGTAGCTGTT-1  TTTGTTGGTTGCCATA-1  \n",
       "MIR1302-2HG                 0.0                 0.0  \n",
       "FAM138A                     0.0                 0.0  \n",
       "OR4F5                       0.0                 0.0  \n",
       "AL627309.1                  0.0                 0.0  \n",
       "AL627309.3                  0.0                 0.0  \n",
       "\n",
       "[5 rows x 2767 columns]"
      ]
     },
     "execution_count": 67,
     "metadata": {},
     "output_type": "execute_result"
    }
   ],
   "source": [
    "dfgbm.head()"
   ]
  },
  {
   "cell_type": "code",
   "execution_count": 68,
   "metadata": {
    "scrolled": true
   },
   "outputs": [
    {
     "name": "stdout",
     "output_type": "stream",
     "text": [
      "D:\\Dropbox\\data\\proj\\PE_HYZ\\PublicDataSet\\GBM_gsm168004_Suva_MacrophageGBM\n"
     ]
    }
   ],
   "source": [
    "cd D:\\Dropbox\\data\\proj\\PE_HYZ\\PublicDataSet\\GBM_gsm168004_Suva_MacrophageGBM"
   ]
  },
  {
   "cell_type": "code",
   "execution_count": 69,
   "metadata": {},
   "outputs": [],
   "source": [
    "dfgbmclus=pd.read_table(\"GSE168004_OSM_celllines_readme.csv\",index_col=0,header=0,sep=\",\")"
   ]
  },
  {
   "cell_type": "code",
   "execution_count": 70,
   "metadata": {
    "scrolled": false
   },
   "outputs": [
    {
     "data": {
      "text/html": [
       "<div>\n",
       "<style scoped>\n",
       "    .dataframe tbody tr th:only-of-type {\n",
       "        vertical-align: middle;\n",
       "    }\n",
       "\n",
       "    .dataframe tbody tr th {\n",
       "        vertical-align: top;\n",
       "    }\n",
       "\n",
       "    .dataframe thead th {\n",
       "        text-align: right;\n",
       "    }\n",
       "</style>\n",
       "<table border=\"1\" class=\"dataframe\">\n",
       "  <thead>\n",
       "    <tr style=\"text-align: right;\">\n",
       "      <th></th>\n",
       "      <th>title</th>\n",
       "      <th>source name</th>\n",
       "      <th>organism</th>\n",
       "    </tr>\n",
       "    <tr>\n",
       "      <th>Sample name</th>\n",
       "      <th></th>\n",
       "      <th></th>\n",
       "      <th></th>\n",
       "    </tr>\n",
       "  </thead>\n",
       "  <tbody>\n",
       "    <tr>\n",
       "      <th>TTTCATGCATGCCGAC-1</th>\n",
       "      <td>MGG75_OSM</td>\n",
       "      <td>MGG75 GBM cell-line</td>\n",
       "      <td>Homo Sapiens</td>\n",
       "    </tr>\n",
       "    <tr>\n",
       "      <th>TTTGGAGAGCAAGCCA-1</th>\n",
       "      <td>MGG75_OSM</td>\n",
       "      <td>MGG75 GBM cell-line</td>\n",
       "      <td>Homo Sapiens</td>\n",
       "    </tr>\n",
       "    <tr>\n",
       "      <th>TTTGGAGAGCGAACTG-1</th>\n",
       "      <td>MGG75_OSM</td>\n",
       "      <td>MGG75 GBM cell-line</td>\n",
       "      <td>Homo Sapiens</td>\n",
       "    </tr>\n",
       "    <tr>\n",
       "      <th>TTTGGAGGTAGCTGTT-1</th>\n",
       "      <td>MGG75_OSM</td>\n",
       "      <td>MGG75 GBM cell-line</td>\n",
       "      <td>Homo Sapiens</td>\n",
       "    </tr>\n",
       "    <tr>\n",
       "      <th>TTTGTTGGTTGCCATA-1</th>\n",
       "      <td>MGG75_OSM</td>\n",
       "      <td>MGG75 GBM cell-line</td>\n",
       "      <td>Homo Sapiens</td>\n",
       "    </tr>\n",
       "  </tbody>\n",
       "</table>\n",
       "</div>"
      ],
      "text/plain": [
       "                        title          source name      organism\n",
       "Sample name                                                     \n",
       "TTTCATGCATGCCGAC-1  MGG75_OSM  MGG75 GBM cell-line  Homo Sapiens\n",
       "TTTGGAGAGCAAGCCA-1  MGG75_OSM  MGG75 GBM cell-line  Homo Sapiens\n",
       "TTTGGAGAGCGAACTG-1  MGG75_OSM  MGG75 GBM cell-line  Homo Sapiens\n",
       "TTTGGAGGTAGCTGTT-1  MGG75_OSM  MGG75 GBM cell-line  Homo Sapiens\n",
       "TTTGTTGGTTGCCATA-1  MGG75_OSM  MGG75 GBM cell-line  Homo Sapiens"
      ]
     },
     "execution_count": 70,
     "metadata": {},
     "output_type": "execute_result"
    }
   ],
   "source": [
    "dfgbmclus.tail()"
   ]
  },
  {
   "cell_type": "code",
   "execution_count": 71,
   "metadata": {},
   "outputs": [],
   "source": [
    "dfgbmclus.columns=['Cluster', 'source name', 'organism']"
   ]
  },
  {
   "cell_type": "code",
   "execution_count": 72,
   "metadata": {},
   "outputs": [],
   "source": [
    "dfgbm2=dfgbm.T.join(dfgbmclus.iloc[:,:1],how=\"inner\").T"
   ]
  },
  {
   "cell_type": "code",
   "execution_count": 73,
   "metadata": {
    "scrolled": true
   },
   "outputs": [
    {
     "data": {
      "text/plain": [
       "{'MGG23_BSA', 'MGG23_OSM', 'MGG75_BSA', 'MGG75_OSM'}"
      ]
     },
     "execution_count": 73,
     "metadata": {},
     "output_type": "execute_result"
    }
   ],
   "source": [
    "set(dfgbm2.loc[\"Cluster\"])"
   ]
  },
  {
   "cell_type": "code",
   "execution_count": 74,
   "metadata": {},
   "outputs": [],
   "source": [
    "dfclus=dfgbm2.iloc[-1:,:]\n",
    "dfgbm=dfgbm2.iloc[:-1,:].astype(float)"
   ]
  },
  {
   "cell_type": "code",
   "execution_count": 75,
   "metadata": {
    "scrolled": true
   },
   "outputs": [
    {
     "data": {
      "text/html": [
       "<div>\n",
       "<style scoped>\n",
       "    .dataframe tbody tr th:only-of-type {\n",
       "        vertical-align: middle;\n",
       "    }\n",
       "\n",
       "    .dataframe tbody tr th {\n",
       "        vertical-align: top;\n",
       "    }\n",
       "\n",
       "    .dataframe thead th {\n",
       "        text-align: right;\n",
       "    }\n",
       "</style>\n",
       "<table border=\"1\" class=\"dataframe\">\n",
       "  <thead>\n",
       "    <tr style=\"text-align: right;\">\n",
       "      <th></th>\n",
       "      <th>AAACGCTGTTTACACG-1</th>\n",
       "      <th>AAACGCTTCCTACACC-1</th>\n",
       "      <th>AAAGAACAGTTTGTCG-1</th>\n",
       "      <th>AAAGAACGTCAAGCCC-1</th>\n",
       "      <th>AAAGGATGTGTCCAAT-1</th>\n",
       "      <th>AAAGGGCAGAATCGTA-1</th>\n",
       "      <th>AAAGTCCAGCCATTCA-1</th>\n",
       "      <th>AAAGTGACATTGCTGA-1</th>\n",
       "      <th>AAAGTGATCGTGTGAT-1</th>\n",
       "      <th>AACAACCTCTGGAGAG-1</th>\n",
       "      <th>...</th>\n",
       "      <th>TTTAGTCTCGCACGGT-1</th>\n",
       "      <th>TTTATGCCACCCTAGG-1</th>\n",
       "      <th>TTTCACAAGGTCGACA-1</th>\n",
       "      <th>TTTCAGTCAGAGATGC-1</th>\n",
       "      <th>TTTCATGCAGCTGTCG-1</th>\n",
       "      <th>TTTCATGCATGCCGAC-1</th>\n",
       "      <th>TTTGGAGAGCAAGCCA-1</th>\n",
       "      <th>TTTGGAGAGCGAACTG-1</th>\n",
       "      <th>TTTGGAGGTAGCTGTT-1</th>\n",
       "      <th>TTTGTTGGTTGCCATA-1</th>\n",
       "    </tr>\n",
       "  </thead>\n",
       "  <tbody>\n",
       "    <tr>\n",
       "      <th>Cluster</th>\n",
       "      <td>MGG23_BSA</td>\n",
       "      <td>MGG23_BSA</td>\n",
       "      <td>MGG23_BSA</td>\n",
       "      <td>MGG23_BSA</td>\n",
       "      <td>MGG23_BSA</td>\n",
       "      <td>MGG23_BSA</td>\n",
       "      <td>MGG23_BSA</td>\n",
       "      <td>MGG23_BSA</td>\n",
       "      <td>MGG23_BSA</td>\n",
       "      <td>MGG23_BSA</td>\n",
       "      <td>...</td>\n",
       "      <td>MGG75_OSM</td>\n",
       "      <td>MGG75_OSM</td>\n",
       "      <td>MGG75_OSM</td>\n",
       "      <td>MGG75_OSM</td>\n",
       "      <td>MGG75_OSM</td>\n",
       "      <td>MGG75_OSM</td>\n",
       "      <td>MGG75_OSM</td>\n",
       "      <td>MGG75_OSM</td>\n",
       "      <td>MGG75_OSM</td>\n",
       "      <td>MGG75_OSM</td>\n",
       "    </tr>\n",
       "  </tbody>\n",
       "</table>\n",
       "<p>1 rows × 2767 columns</p>\n",
       "</div>"
      ],
      "text/plain": [
       "        AAACGCTGTTTACACG-1 AAACGCTTCCTACACC-1 AAAGAACAGTTTGTCG-1  \\\n",
       "Cluster          MGG23_BSA          MGG23_BSA          MGG23_BSA   \n",
       "\n",
       "        AAAGAACGTCAAGCCC-1 AAAGGATGTGTCCAAT-1 AAAGGGCAGAATCGTA-1  \\\n",
       "Cluster          MGG23_BSA          MGG23_BSA          MGG23_BSA   \n",
       "\n",
       "        AAAGTCCAGCCATTCA-1 AAAGTGACATTGCTGA-1 AAAGTGATCGTGTGAT-1  \\\n",
       "Cluster          MGG23_BSA          MGG23_BSA          MGG23_BSA   \n",
       "\n",
       "        AACAACCTCTGGAGAG-1  ... TTTAGTCTCGCACGGT-1 TTTATGCCACCCTAGG-1  \\\n",
       "Cluster          MGG23_BSA  ...          MGG75_OSM          MGG75_OSM   \n",
       "\n",
       "        TTTCACAAGGTCGACA-1 TTTCAGTCAGAGATGC-1 TTTCATGCAGCTGTCG-1  \\\n",
       "Cluster          MGG75_OSM          MGG75_OSM          MGG75_OSM   \n",
       "\n",
       "        TTTCATGCATGCCGAC-1 TTTGGAGAGCAAGCCA-1 TTTGGAGAGCGAACTG-1  \\\n",
       "Cluster          MGG75_OSM          MGG75_OSM          MGG75_OSM   \n",
       "\n",
       "        TTTGGAGGTAGCTGTT-1 TTTGTTGGTTGCCATA-1  \n",
       "Cluster          MGG75_OSM          MGG75_OSM  \n",
       "\n",
       "[1 rows x 2767 columns]"
      ]
     },
     "execution_count": 75,
     "metadata": {},
     "output_type": "execute_result"
    }
   ],
   "source": [
    "dfclus.head()"
   ]
  },
  {
   "cell_type": "code",
   "execution_count": 76,
   "metadata": {
    "scrolled": false
   },
   "outputs": [
    {
     "data": {
      "text/html": [
       "<div>\n",
       "<style scoped>\n",
       "    .dataframe tbody tr th:only-of-type {\n",
       "        vertical-align: middle;\n",
       "    }\n",
       "\n",
       "    .dataframe tbody tr th {\n",
       "        vertical-align: top;\n",
       "    }\n",
       "\n",
       "    .dataframe thead th {\n",
       "        text-align: right;\n",
       "    }\n",
       "</style>\n",
       "<table border=\"1\" class=\"dataframe\">\n",
       "  <thead>\n",
       "    <tr style=\"text-align: right;\">\n",
       "      <th></th>\n",
       "      <th>AAACGCTGTTTACACG-1</th>\n",
       "      <th>AAACGCTTCCTACACC-1</th>\n",
       "      <th>AAAGAACAGTTTGTCG-1</th>\n",
       "      <th>AAAGAACGTCAAGCCC-1</th>\n",
       "      <th>AAAGGATGTGTCCAAT-1</th>\n",
       "      <th>AAAGGGCAGAATCGTA-1</th>\n",
       "      <th>AAAGTCCAGCCATTCA-1</th>\n",
       "      <th>AAAGTGACATTGCTGA-1</th>\n",
       "      <th>AAAGTGATCGTGTGAT-1</th>\n",
       "      <th>AACAACCTCTGGAGAG-1</th>\n",
       "      <th>...</th>\n",
       "      <th>TTTAGTCTCGCACGGT-1</th>\n",
       "      <th>TTTATGCCACCCTAGG-1</th>\n",
       "      <th>TTTCACAAGGTCGACA-1</th>\n",
       "      <th>TTTCAGTCAGAGATGC-1</th>\n",
       "      <th>TTTCATGCAGCTGTCG-1</th>\n",
       "      <th>TTTCATGCATGCCGAC-1</th>\n",
       "      <th>TTTGGAGAGCAAGCCA-1</th>\n",
       "      <th>TTTGGAGAGCGAACTG-1</th>\n",
       "      <th>TTTGGAGGTAGCTGTT-1</th>\n",
       "      <th>TTTGTTGGTTGCCATA-1</th>\n",
       "    </tr>\n",
       "  </thead>\n",
       "  <tbody>\n",
       "    <tr>\n",
       "      <th>MIR1302-2HG</th>\n",
       "      <td>0.0</td>\n",
       "      <td>0.0</td>\n",
       "      <td>0.0</td>\n",
       "      <td>0.0</td>\n",
       "      <td>0.0</td>\n",
       "      <td>0.0</td>\n",
       "      <td>0.0</td>\n",
       "      <td>0.0</td>\n",
       "      <td>0.0</td>\n",
       "      <td>0.0</td>\n",
       "      <td>...</td>\n",
       "      <td>0.0</td>\n",
       "      <td>0.0</td>\n",
       "      <td>0.0</td>\n",
       "      <td>0.0</td>\n",
       "      <td>0.0</td>\n",
       "      <td>0.0</td>\n",
       "      <td>0.0</td>\n",
       "      <td>0.0</td>\n",
       "      <td>0.0</td>\n",
       "      <td>0.0</td>\n",
       "    </tr>\n",
       "    <tr>\n",
       "      <th>FAM138A</th>\n",
       "      <td>0.0</td>\n",
       "      <td>0.0</td>\n",
       "      <td>0.0</td>\n",
       "      <td>0.0</td>\n",
       "      <td>0.0</td>\n",
       "      <td>0.0</td>\n",
       "      <td>0.0</td>\n",
       "      <td>0.0</td>\n",
       "      <td>0.0</td>\n",
       "      <td>0.0</td>\n",
       "      <td>...</td>\n",
       "      <td>0.0</td>\n",
       "      <td>0.0</td>\n",
       "      <td>0.0</td>\n",
       "      <td>0.0</td>\n",
       "      <td>0.0</td>\n",
       "      <td>0.0</td>\n",
       "      <td>0.0</td>\n",
       "      <td>0.0</td>\n",
       "      <td>0.0</td>\n",
       "      <td>0.0</td>\n",
       "    </tr>\n",
       "    <tr>\n",
       "      <th>OR4F5</th>\n",
       "      <td>0.0</td>\n",
       "      <td>0.0</td>\n",
       "      <td>0.0</td>\n",
       "      <td>0.0</td>\n",
       "      <td>0.0</td>\n",
       "      <td>0.0</td>\n",
       "      <td>0.0</td>\n",
       "      <td>0.0</td>\n",
       "      <td>0.0</td>\n",
       "      <td>0.0</td>\n",
       "      <td>...</td>\n",
       "      <td>0.0</td>\n",
       "      <td>0.0</td>\n",
       "      <td>0.0</td>\n",
       "      <td>0.0</td>\n",
       "      <td>0.0</td>\n",
       "      <td>0.0</td>\n",
       "      <td>0.0</td>\n",
       "      <td>0.0</td>\n",
       "      <td>0.0</td>\n",
       "      <td>0.0</td>\n",
       "    </tr>\n",
       "    <tr>\n",
       "      <th>AL627309.1</th>\n",
       "      <td>0.0</td>\n",
       "      <td>0.0</td>\n",
       "      <td>0.0</td>\n",
       "      <td>0.0</td>\n",
       "      <td>0.0</td>\n",
       "      <td>0.0</td>\n",
       "      <td>0.0</td>\n",
       "      <td>0.0</td>\n",
       "      <td>0.0</td>\n",
       "      <td>0.0</td>\n",
       "      <td>...</td>\n",
       "      <td>0.0</td>\n",
       "      <td>0.0</td>\n",
       "      <td>0.0</td>\n",
       "      <td>0.0</td>\n",
       "      <td>0.0</td>\n",
       "      <td>0.0</td>\n",
       "      <td>0.0</td>\n",
       "      <td>0.0</td>\n",
       "      <td>0.0</td>\n",
       "      <td>0.0</td>\n",
       "    </tr>\n",
       "    <tr>\n",
       "      <th>AL627309.3</th>\n",
       "      <td>0.0</td>\n",
       "      <td>0.0</td>\n",
       "      <td>0.0</td>\n",
       "      <td>0.0</td>\n",
       "      <td>0.0</td>\n",
       "      <td>0.0</td>\n",
       "      <td>0.0</td>\n",
       "      <td>0.0</td>\n",
       "      <td>0.0</td>\n",
       "      <td>0.0</td>\n",
       "      <td>...</td>\n",
       "      <td>0.0</td>\n",
       "      <td>0.0</td>\n",
       "      <td>0.0</td>\n",
       "      <td>0.0</td>\n",
       "      <td>0.0</td>\n",
       "      <td>0.0</td>\n",
       "      <td>0.0</td>\n",
       "      <td>0.0</td>\n",
       "      <td>0.0</td>\n",
       "      <td>0.0</td>\n",
       "    </tr>\n",
       "  </tbody>\n",
       "</table>\n",
       "<p>5 rows × 2767 columns</p>\n",
       "</div>"
      ],
      "text/plain": [
       "             AAACGCTGTTTACACG-1  AAACGCTTCCTACACC-1  AAAGAACAGTTTGTCG-1  \\\n",
       "MIR1302-2HG                 0.0                 0.0                 0.0   \n",
       "FAM138A                     0.0                 0.0                 0.0   \n",
       "OR4F5                       0.0                 0.0                 0.0   \n",
       "AL627309.1                  0.0                 0.0                 0.0   \n",
       "AL627309.3                  0.0                 0.0                 0.0   \n",
       "\n",
       "             AAAGAACGTCAAGCCC-1  AAAGGATGTGTCCAAT-1  AAAGGGCAGAATCGTA-1  \\\n",
       "MIR1302-2HG                 0.0                 0.0                 0.0   \n",
       "FAM138A                     0.0                 0.0                 0.0   \n",
       "OR4F5                       0.0                 0.0                 0.0   \n",
       "AL627309.1                  0.0                 0.0                 0.0   \n",
       "AL627309.3                  0.0                 0.0                 0.0   \n",
       "\n",
       "             AAAGTCCAGCCATTCA-1  AAAGTGACATTGCTGA-1  AAAGTGATCGTGTGAT-1  \\\n",
       "MIR1302-2HG                 0.0                 0.0                 0.0   \n",
       "FAM138A                     0.0                 0.0                 0.0   \n",
       "OR4F5                       0.0                 0.0                 0.0   \n",
       "AL627309.1                  0.0                 0.0                 0.0   \n",
       "AL627309.3                  0.0                 0.0                 0.0   \n",
       "\n",
       "             AACAACCTCTGGAGAG-1  ...  TTTAGTCTCGCACGGT-1  TTTATGCCACCCTAGG-1  \\\n",
       "MIR1302-2HG                 0.0  ...                 0.0                 0.0   \n",
       "FAM138A                     0.0  ...                 0.0                 0.0   \n",
       "OR4F5                       0.0  ...                 0.0                 0.0   \n",
       "AL627309.1                  0.0  ...                 0.0                 0.0   \n",
       "AL627309.3                  0.0  ...                 0.0                 0.0   \n",
       "\n",
       "             TTTCACAAGGTCGACA-1  TTTCAGTCAGAGATGC-1  TTTCATGCAGCTGTCG-1  \\\n",
       "MIR1302-2HG                 0.0                 0.0                 0.0   \n",
       "FAM138A                     0.0                 0.0                 0.0   \n",
       "OR4F5                       0.0                 0.0                 0.0   \n",
       "AL627309.1                  0.0                 0.0                 0.0   \n",
       "AL627309.3                  0.0                 0.0                 0.0   \n",
       "\n",
       "             TTTCATGCATGCCGAC-1  TTTGGAGAGCAAGCCA-1  TTTGGAGAGCGAACTG-1  \\\n",
       "MIR1302-2HG                 0.0                 0.0                 0.0   \n",
       "FAM138A                     0.0                 0.0                 0.0   \n",
       "OR4F5                       0.0                 0.0                 0.0   \n",
       "AL627309.1                  0.0                 0.0                 0.0   \n",
       "AL627309.3                  0.0                 0.0                 0.0   \n",
       "\n",
       "             TTTGGAGGTAGCTGTT-1  TTTGTTGGTTGCCATA-1  \n",
       "MIR1302-2HG                 0.0                 0.0  \n",
       "FAM138A                     0.0                 0.0  \n",
       "OR4F5                       0.0                 0.0  \n",
       "AL627309.1                  0.0                 0.0  \n",
       "AL627309.3                  0.0                 0.0  \n",
       "\n",
       "[5 rows x 2767 columns]"
      ]
     },
     "execution_count": 76,
     "metadata": {},
     "output_type": "execute_result"
    }
   ],
   "source": [
    "dfgbm.head()"
   ]
  },
  {
   "cell_type": "code",
   "execution_count": 77,
   "metadata": {},
   "outputs": [
    {
     "data": {
      "text/plain": [
       "(33538, 2767)"
      ]
     },
     "execution_count": 77,
     "metadata": {},
     "output_type": "execute_result"
    }
   ],
   "source": [
    "dfgbm.shape"
   ]
  },
  {
   "cell_type": "code",
   "execution_count": 80,
   "metadata": {},
   "outputs": [
    {
     "name": "stderr",
     "output_type": "stream",
     "text": [
      "D:\\Dropbox\\data\\proj\\PE_HYZ\\BuidingCode\\ready_SWAPLINE\\prefiltering.py:322: FutureWarning: In a future version of pandas all arguments of DataFrame.dropna will be keyword-only.\n",
      "  scalegbm = dfpfc.div(dfpfc.std(1), axis=0).dropna(0)\n"
     ]
    }
   ],
   "source": [
    "#import prefilteringTest26\n",
    "df_train_setclpn, dfclpncol,protogruop=prefiltering.MVgene_Scaling(list_genes=None,dfpfc=dfgbm,dfpfcclus=dfclus,mprotogruop=None,\n",
    "                                                      std_scaling=True,TPTT=dfpfc.mean(1),\n",
    "                   sharedMVgenes=mdf_train_set.index.tolist(), score=0, commongene=mdf_train_set.index.tolist(), thrs=0,\n",
    "                                tftable=\"D:/Dropbox/data/proj/PE_HYZ/PublicDataSet/FantomTF2CLUSTER_human_official.txt\",  learninggroup=\"test\")"
   ]
  },
  {
   "cell_type": "code",
   "execution_count": 81,
   "metadata": {
    "scrolled": true
   },
   "outputs": [
    {
     "data": {
      "text/plain": [
       "(1942, 2767)"
      ]
     },
     "execution_count": 81,
     "metadata": {},
     "output_type": "execute_result"
    }
   ],
   "source": [
    "df_train_setclpn.shape"
   ]
  },
  {
   "cell_type": "code",
   "execution_count": 82,
   "metadata": {
    "scrolled": true
   },
   "outputs": [
    {
     "data": {
      "text/plain": [
       "array(['MGG23_BSA', 'MGG23_BSA', 'MGG23_BSA', ..., 'MGG75_OSM',\n",
       "       'MGG75_OSM', 'MGG75_OSM'], dtype=object)"
      ]
     },
     "execution_count": 82,
     "metadata": {},
     "output_type": "execute_result"
    }
   ],
   "source": [
    "protogruop"
   ]
  },
  {
   "cell_type": "code",
   "execution_count": 83,
   "metadata": {},
   "outputs": [],
   "source": [
    "wanted_orderclpn =['MGG23_BSA', 'MGG23_OSM', 'MGG75_BSA', 'MGG75_OSM']\n",
    "#bool00clpn=array([True]*len(df_train_setclpn.columns))\n",
    "reorder_ixclpn = [list(wanted_orderclpn).index(i) for i in wanted_orderclpn]\n",
    "color_dictclpn = pd.Series({'Classical':  (100, 100, 240),'Mesenchymal':   ( 95, 186,  70),\n",
    "              'MGG75_OSM':  (55, 120, 55), 'MGG75_BSA': ( 180, 35, 155), 'MGG23_OSM':  (250, 125,  85),\n",
    "              'MGG23_BSA':    (190, 200, 190)})"
   ]
  },
  {
   "cell_type": "code",
   "execution_count": 84,
   "metadata": {},
   "outputs": [],
   "source": [
    "#import SWAPLINEmain10\n",
    "mreordername, dfprobCL, color_dictclpn, dataclpn=SWAPLINEmain.prediction(mwanted_order=wanted_orderclpn ,  mclasses_names = mclasses_names, \n",
    "     mtrain_index = mtrain_index, net = net, mreorder_ix =mreorder_idx, \n",
    "                                            mprotogruop=protogruop,  mdf_train_set=df_train_setclpn, mcolor_dict=color_dictclpn, learninggroup=\"test\" )\n",
    "##RadarVisualization"
   ]
  },
  {
   "cell_type": "code",
   "execution_count": null,
   "metadata": {},
   "outputs": [],
   "source": []
  },
  {
   "cell_type": "markdown",
   "metadata": {},
   "source": [
    "## PE_GBM CELL"
   ]
  },
  {
   "cell_type": "code",
   "execution_count": 127,
   "metadata": {
    "scrolled": true
   },
   "outputs": [
    {
     "name": "stderr",
     "output_type": "stream",
     "text": [
      "<ipython-input-127-dfe870e7b549>:1: DtypeWarning: Columns (1,2,3,4,5,6,7,8,9,10,11,12,13,14,15,16,17,18,19,20,21,22,23,24,25,26,27,28,29,30,31,32,33,34,35,36,37,38,39,40,41,42,43,44,45,46,47,48,49,50,51,52,53,54,55,56,57,58,59,60,61,62,63,64,65,66,67,68,69,70,71,72,73,74,75,76,77,78,79,80,81,82,83,84,85,86,87,88,89,90,91,92,93,94,95,96,97,98,99,100,101,102,103,104,105,106,107,108,109,110,111,112,113,114,115,116,117,118,119,120,121,122,123,124,125,126,127,128,129,130,131,132,133,134,135,136,137,138,139,140,141,142,143,144,145,146,147,148,149,150,151,152,153,154,155,156,157,158,159,160,161,162,163,164,165,166,167,168,169,170,171,172,173,174,175,176,177,178,179,180,181,182,183,184,185,186,187,188,189,190,191,192,193,194,195,196,197,198,199,200,201,202,203,204,205,206,207,208,209,210,211,212,213,214,215,216,217,218,219,220,221,222,223,224,225,226,227,228,229,230,231,232,233,234,235,236,237,238,239,240,241,242,243,244,245,246,247,248,249,250,251,252,253,254,255,256,257,258,259,260,261,262,263,264,265,266,267,268,269,270,271,272,273,274,275,276,277,278,279,280,281,282,283,284,285,286,287,288,289,290,291,292,293,294,295,296,297,298,299,300,301,302,303,304,305,306,307,308,309,310,311,312,313,314,315,316,317,318,319,320,321,322,323,324,325,326,327,328,329,330,331,332,333,334,335,336,337,338,339,340,341,342,343,344,345,346,347,348,349,350,351,352,353,354,355,356,357,358,359,360,361,362,363,364,365,366,367,368,369,370,371,372,373,374,375,376,377,378,379,380,381,382,383,384,385,386,387,388,389,390,391,392,393,394,395,396,397,398,399,400,401,402,403,404,405,406,407,408,409,410,411,412,413,414,415,416,417,418,419,420,421,422,423,424,425,426,427,428,429,430,431,432,433,434,435,436,437,438,439,440,441,442,443,444,445,446,447,448,449,450,451,452,453,454,455,456,457,458,459,460,461,462,463,464,465,466,467,468,469,470,471,472,473,474,475,476,477,478,479,480,481,482,483,484,485,486,487,488,489,490,491,492,493,494,495,496,497,498,499,500,501,502,503,504,505,506,507,508,509,510,511,512,513,514,515,516,517,518,519,520,521,522,523,524,525,526,527,528,529,530,531,532,533,534,535,536,537,538,539,540,541,542,543,544,545,546,547,548,549,550,551,552,553,554,555,556,557,558,559,560,561,562,563,564,565,566,567,568,569,570,571,572,573,574,575,576,577,578,579,580,581,582,583,584,585,586,587,588,589,590,591,592,593,594,595,596,597,598,599,600,601,602,603,604,605,606,607,608,609,610,611,612,613,614,615,616,617,618,619,620,621,622,623,624,625,626,627,628,629,630,631,632,633,634,635,636,637,638,639,640,641,642,643,644,645,646,647,648,649,650,651,652,653,654,655,656,657,658,659,660,661,662,663,664,665,666,667,668,669,670,671,672,673,674,675,676,677,678,679,680,681,682,683,684,685,686,687,688,689,690,691,692,693,694,695,696,697,698,699,700,701,702,703,704,705,706,707,708,709,710,711,712,713,714,715,716,717,718,719,720,721,722,723,724,725,726,727,728,729,730,731,732,733,734,735,736,737,738,739,740,741,742,743,744,745,746,747,748,749,750,751,752,753,754,755,756,757,758,759,760,761,762,763,764,765,766,767,768,769,770,771,772,773,774,775,776,777,778,779,780,781,782,783,784,785,786,787,788,789,790,791,792,793,794,795,796,797,798,799,800,801,802,803,804,805,806,807,808,809,810,811,812,813,814,815,816,817,818,819,820,821,822,823,824,825,826,827,828,829,830,831,832,833,834,835,836,837,838,839,840,841,842,843,844,845,846,847,848,849,850,851,852,853,854,855,856,857,858,859,860,861,862,863,864,865,866,867,868,869,870,871,872,873,874,875,876,877,878,879,880,881,882,883,884,885,886,887,888,889,890,891,892,893,894,895,896,897,898,899,900,901,902,903,904,905,906,907,908,909,910,911,912,913,914,915,916,917,918,919,920,921,922,923,924,925,926,927,928,929,930,931,932,933,934,935,936,937,938,939,940,941,942,943,944,945,946,947,948,949,950,951,952,953,954,955,956,957,958,959,960,961,962,963,964,965,966,967,968,969,970,971,972,973,974,975,976,977,978,979,980,981,982,983,984,985,986,987,988,989,990,991,992,993,994,995,996,997,998,999,1000,1001,1002,1003,1004,1005,1006,1007,1008,1009,1010,1011,1012,1013,1014,1015,1016,1017,1018,1019,1020,1021,1022,1023,1024,1025,1026,1027,1028,1029,1030,1031,1032,1033,1034,1035,1036,1037,1038,1039,1040,1041,1042,1043,1044,1045,1046,1047,1048,1049,1050,1051,1052,1053,1054,1055,1056,1057,1058,1059,1060,1061,1062,1063,1064,1065,1066,1067,1068,1069,1070,1071,1072,1073,1074,1075,1076,1077,1078,1079,1080,1081,1082,1083,1084,1085,1086,1087,1088,1089,1090,1091,1092,1093,1094,1095,1096,1097,1098,1099,1100,1101,1102,1103,1104,1105,1106,1107,1108,1109,1110,1111,1112,1113,1114,1115,1116,1117,1118,1119,1120,1121,1122,1123,1124,1125,1126,1127,1128,1129,1130,1131,1132,1133,1134,1135,1136,1137,1138,1139,1140,1141,1142,1143,1144,1145,1146,1147,1148,1149,1150,1151,1152,1153,1154,1155,1156,1157,1158,1159,1160,1161,1162,1163,1164,1165,1166,1167,1168,1169,1170,1171,1172,1173,1174,1175,1176,1177,1178,1179,1180,1181,1182,1183,1184,1185,1186,1187,1188,1189,1190,1191,1192,1193,1194,1195,1196,1197,1198,1199,1200,1201,1202,1203,1204,1205,1206,1207,1208,1209,1210,1211,1212,1213,1214,1215,1216,1217,1218,1219,1220,1221,1222,1223,1224,1225,1226,1227,1228,1229,1230,1231,1232,1233,1234,1235,1236,1237,1238,1239,1240,1241,1242,1243,1244,1245,1246,1247,1248,1249,1250,1251,1252,1253,1254,1255,1256,1257,1258,1259,1260,1261,1262,1263,1264,1265,1266,1267,1268,1269,1270,1271,1272,1273,1274,1275,1276,1277,1278,1279,1280,1281,1282,1283,1284,1285,1286,1287,1288,1289,1290,1291,1292,1293,1294,1295,1296,1297,1298,1299,1300,1301,1302,1303,1304,1305,1306,1307,1308,1309,1310,1311,1312,1313,1314,1315,1316,1317,1318,1319,1320,1321,1322,1323,1324,1325,1326,1327,1328,1329,1330,1331,1332,1333,1334,1335,1336,1337,1338,1339,1340,1341,1342,1343,1344,1345,1346,1347,1348,1349,1350,1351,1352,1353,1354,1355,1356,1357,1358,1359,1360,1361,1362,1363,1364,1365,1366,1367,1368,1369,1370,1371,1372,1373,1374,1375,1376,1377,1378,1379,1380,1381,1382,1383,1384,1385,1386,1387,1388,1389,1390,1391,1392,1393,1394,1395,1396,1397,1398,1399,1400,1401,1402,1403,1404,1405,1406,1407,1408,1409,1410,1411,1412,1413,1414,1415,1416,1417,1418,1419,1420,1421,1422,1423,1424,1425,1426,1427,1428,1429,1430,1431,1432,1433,1434,1435,1436,1437,1438,1439,1440,1441,1442,1443,1444,1445,1446,1447,1448,1449,1450,1451,1452,1453,1454,1455,1456,1457,1458,1459,1460,1461,1462,1463,1464,1465,1466,1467,1468,1469,1470,1471,1472,1473,1474,1475,1476,1477,1478,1479,1480,1481,1482,1483,1484,1485,1486,1487,1488,1489,1490,1491,1492,1493,1494,1495,1496,1497,1498,1499,1500,1501,1502,1503,1504,1505,1506,1507,1508,1509,1510,1511,1512,1513,1514,1515,1516,1517,1518,1519,1520,1521,1522,1523,1524,1525,1526,1527,1528,1529,1530,1531,1532,1533,1534,1535,1536,1537,1538,1539,1540,1541,1542,1543,1544,1545,1546,1547,1548,1549,1550,1551,1552,1553,1554,1555,1556,1557,1558,1559,1560,1561,1562,1563,1564,1565,1566,1567,1568,1569,1570,1571,1572,1573,1574,1575,1576,1577,1578,1579,1580,1581,1582,1583,1584,1585,1586,1587,1588,1589,1590,1591,1592,1593,1594,1595,1596,1597,1598,1599,1600,1601,1602,1603,1604,1605,1606,1607,1608,1609,1610,1611,1612,1613,1614,1615,1616,1617,1618,1619,1620,1621,1622,1623,1624,1625,1626,1627,1628,1629,1630,1631,1632,1633,1634,1635,1636,1637,1638,1639,1640,1641,1642,1643,1644,1645,1646,1647,1648,1649,1650,1651,1652,1653,1654,1655,1656,1657,1658,1659,1660,1661,1662,1663,1664,1665,1666,1667,1668,1669,1670,1671,1672,1673,1674,1675,1676,1677,1678,1679,1680,1681,1682,1683,1684,1685,1686,1687,1688,1689,1690,1691,1692,1693,1694,1695,1696,1697,1698,1699,1700,1701,1702,1703,1704,1705,1706,1707,1708,1709,1710,1711,1712,1713,1714,1715,1716,1717,1718,1719,1720,1721,1722,1723,1724,1725,1726,1727,1728,1729,1730,1731,1732,1733,1734,1735,1736,1737,1738,1739,1740,1741,1742,1743,1744,1745,1746,1747,1748,1749,1750,1751,1752,1753,1754,1755,1756,1757,1758,1759,1760,1761,1762,1763,1764,1765,1766,1767,1768,1769,1770,1771,1772,1773,1774,1775,1776,1777,1778,1779,1780,1781,1782,1783,1784,1785,1786,1787,1788,1789,1790,1791,1792,1793,1794,1795,1796,1797,1798,1799,1800,1801,1802,1803,1804,1805,1806,1807,1808,1809,1810,1811,1812,1813,1814,1815,1816,1817,1818,1819,1820,1821,1822,1823,1824,1825,1826,1827,1828,1829,1830,1831,1832,1833,1834,1835,1836,1837,1838,1839,1840,1841,1842,1843,1844,1845,1846,1847,1848,1849,1850,1851,1852,1853,1854,1855,1856,1857,1858,1859,1860,1861,1862,1863,1864,1865,1866,1867,1868,1869,1870,1871,1872,1873,1874,1875,1876,1877,1878,1879,1880,1881,1882,1883,1884,1885,1886,1887,1888,1889,1890,1891,1892,1893,1894,1895,1896,1897,1898,1899,1900,1901,1902,1903,1904,1905,1906,1907,1908,1909,1910,1911,1912,1913,1914,1915,1916,1917,1918,1919,1920,1921,1922,1923,1924,1925,1926,1927,1928,1929,1930,1931,1932,1933,1934,1935,1936,1937,1938,1939,1940,1941,1942,1943,1944,1945,1946,1947,1948,1949,1950,1951,1952,1953,1954,1955,1956,1957,1958,1959,1960,1961,1962,1963,1964,1965,1966,1967,1968,1969,1970,1971,1972,1973,1974,1975,1976,1977,1978,1979,1980,1981,1982,1983,1984,1985,1986,1987,1988,1989,1990,1991,1992,1993,1994,1995,1996,1997,1998,1999,2000,2001,2002,2003,2004,2005,2006,2007,2008,2009,2010,2011,2012,2013,2014,2015,2016,2017,2018,2019,2020,2021,2022,2023,2024,2025,2026,2027,2028,2029,2030,2031,2032,2033,2034,2035,2036,2037,2038,2039,2040,2041,2042,2043,2044,2045,2046,2047,2048,2049,2050,2051,2052,2053,2054,2055,2056,2057,2058,2059,2060,2061,2062,2063,2064,2065,2066,2067,2068,2069,2070,2071,2072,2073,2074,2075,2076,2077,2078,2079,2080,2081,2082,2083,2084,2085,2086,2087,2088,2089,2090,2091,2092,2093,2094,2095,2096,2097,2098,2099,2100,2101,2102,2103,2104,2105,2106,2107,2108,2109,2110,2111,2112,2113,2114,2115,2116,2117,2118,2119,2120,2121,2122,2123,2124,2125,2126,2127,2128,2129,2130,2131,2132,2133,2134,2135,2136,2137,2138,2139,2140,2141,2142,2143,2144,2145,2146,2147,2148,2149,2150,2151,2152,2153,2154,2155,2156,2157,2158,2159,2160,2161,2162,2163,2164,2165,2166,2167,2168,2169,2170,2171,2172,2173,2174,2175,2176,2177,2178,2179,2180,2181,2182,2183,2184,2185,2186,2187,2188,2189,2190,2191,2192,2193,2194,2195,2196,2197,2198,2199,2200,2201,2202,2203,2204,2205,2206,2207,2208,2209,2210,2211,2212,2213,2214,2215,2216,2217,2218,2219,2220,2221,2222,2223,2224,2225,2226,2227,2228,2229,2230,2231,2232,2233,2234,2235,2236,2237,2238,2239,2240,2241,2242,2243,2244,2245,2246,2247,2248,2249,2250,2251,2252,2253,2254,2255,2256,2257,2258,2259,2260,2261,2262,2263,2264,2265,2266,2267,2268,2269,2270,2271,2272,2273,2274,2275,2276,2277,2278,2279,2280,2281,2282,2283,2284,2285,2286,2287,2288,2289,2290,2291,2292,2293,2294,2295,2296,2297,2298,2299,2300,2301,2302,2303,2304,2305,2306,2307,2308,2309,2310,2311,2312,2313,2314,2315,2316,2317,2318,2319,2320,2321,2322,2323,2324,2325,2326,2327,2328,2329,2330,2331,2332,2333,2334,2335,2336,2337,2338,2339,2340,2341,2342,2343,2344,2345,2346,2347,2348,2349,2350,2351,2352,2353,2354,2355,2356,2357,2358,2359,2360,2361,2362,2363,2364,2365,2366,2367,2368,2369,2370,2371,2372,2373,2374,2375,2376,2377,2378,2379,2380,2381,2382,2383,2384,2385,2386,2387,2388,2389,2390,2391,2392,2393,2394,2395,2396,2397,2398,2399,2400,2401,2402,2403,2404,2405,2406,2407,2408,2409,2410,2411,2412,2413,2414,2415,2416,2417,2418,2419,2420,2421,2422,2423,2424,2425,2426,2427,2428,2429,2430,2431,2432,2433,2434,2435,2436,2437,2438,2439,2440,2441,2442,2443,2444,2445,2446,2447,2448,2449,2450,2451,2452,2453,2454,2455,2456,2457,2458,2459,2460,2461,2462,2463,2464,2465,2466,2467,2468,2469,2470,2471,2472,2473,2474,2475,2476,2477,2478,2479,2480,2481,2482,2483,2484,2485,2486,2487,2488,2489,2490,2491,2492,2493,2494,2495,2496,2497,2498,2499,2500,2501,2502,2503,2504,2505,2506,2507,2508,2509,2510,2511,2512,2513,2514,2515,2516,2517,2518,2519,2520,2521,2522,2523,2524,2525,2526,2527,2528,2529,2530,2531,2532,2533,2534,2535,2536,2537,2538,2539,2540,2541,2542,2543,2544,2545,2546,2547,2548,2549,2550,2551,2552,2553,2554,2555,2556,2557,2558,2559,2560,2561,2562,2563,2564,2565,2566,2567,2568,2569,2570,2571,2572,2573,2574,2575,2576,2577,2578,2579,2580,2581,2582,2583,2584,2585,2586,2587,2588,2589,2590,2591,2592,2593,2594,2595,2596,2597,2598,2599,2600,2601,2602,2603,2604,2605,2606,2607,2608,2609,2610,2611,2612,2613,2614,2615,2616,2617,2618,2619,2620,2621,2622,2623,2624,2625,2626,2627,2628,2629,2630,2631,2632,2633,2634,2635,2636,2637,2638,2639,2640,2641,2642,2643,2644,2645,2646,2647,2648,2649,2650,2651,2652,2653,2654,2655,2656,2657,2658,2659,2660,2661,2662,2663,2664,2665,2666,2667,2668,2669,2670,2671,2672,2673,2674,2675,2676,2677,2678,2679,2680,2681,2682,2683,2684,2685,2686,2687,2688,2689,2690,2691,2692,2693,2694,2695,2696,2697,2698,2699,2700,2701,2702,2703,2704,2705,2706,2707,2708,2709,2710,2711,2712,2713,2714,2715,2716,2717,2718,2719,2720,2721,2722,2723,2724,2725,2726,2727,2728,2729,2730,2731,2732,2733,2734,2735,2736,2737,2738,2739,2740,2741,2742,2743,2744,2745,2746,2747,2748,2749,2750,2751,2752,2753,2754,2755,2756,2757,2758,2759,2760,2761,2762,2763,2764,2765,2766,2767,2768,2769,2770,2771,2772,2773,2774,2775,2776,2777,2778,2779,2780,2781,2782,2783,2784,2785,2786,2787,2788,2789,2790,2791,2792,2793,2794,2795,2796,2797,2798,2799,2800,2801,2802,2803,2804,2805,2806,2807,2808,2809,2810,2811,2812,2813,2814,2815,2816,2817,2818,2819,2820,2821,2822,2823,2824,2825,2826,2827,2828,2829,2830,2831,2832,2833,2834,2835,2836,2837,2838,2839,2840,2841,2842,2843,2844,2845,2846,2847,2848,2849,2850,2851,2852,2853,2854,2855,2856,2857,2858,2859,2860,2861,2862,2863,2864,2865,2866,2867,2868,2869,2870,2871,2872,2873,2874,2875,2876,2877,2878,2879,2880,2881,2882,2883,2884,2885,2886,2887,2888,2889,2890,2891,2892,2893,2894,2895,2896,2897,2898,2899,2900,2901,2902,2903,2904,2905,2906,2907,2908,2909,2910,2911,2912,2913,2914,2915,2916,2917,2918,2919,2920,2921,2922,2923,2924,2925,2926,2927,2928,2929,2930,2931,2932,2933,2934,2935,2936,2937,2938,2939,2940,2941,2942,2943,2944,2945,2946,2947,2948,2949,2950,2951,2952,2953,2954,2955,2956,2957,2958,2959,2960,2961,2962,2963,2964,2965,2966,2967,2968,2969,2970,2971,2972,2973,2974,2975,2976,2977,2978,2979,2980,2981,2982,2983,2984,2985,2986,2987,2988,2989,2990,2991,2992,2993,2994,2995,2996,2997,2998,2999,3000,3001,3002,3003,3004,3005,3006,3007,3008,3009,3010,3011,3012,3013,3014,3015,3016,3017,3018,3019,3020,3021,3022,3023,3024,3025,3026,3027,3028,3029,3030,3031,3032,3033,3034,3035,3036,3037,3038,3039,3040,3041,3042,3043,3044,3045,3046,3047,3048,3049,3050,3051,3052,3053,3054,3055,3056,3057,3058,3059,3060,3061,3062,3063,3064,3065,3066,3067,3068,3069,3070,3071,3072,3073,3074,3075,3076,3077,3078,3079,3080,3081,3082,3083,3084,3085,3086,3087,3088,3089,3090,3091,3092,3093,3094,3095,3096,3097,3098,3099,3100,3101,3102,3103,3104,3105,3106,3107,3108,3109,3110,3111,3112,3113,3114,3115,3116,3117,3118,3119,3120,3121,3122,3123,3124,3125,3126,3127,3128,3129,3130,3131,3132,3133,3134,3135,3136,3137,3138,3139,3140,3141,3142,3143,3144,3145,3146,3147,3148,3149,3150,3151,3152,3153,3154,3155,3156,3157,3158,3159,3160,3161,3162,3163,3164,3165,3166,3167,3168,3169,3170,3171,3172,3173,3174,3175,3176,3177,3178,3179,3180,3181,3182,3183,3184,3185,3186,3187,3188,3189,3190,3191,3192,3193,3194,3195,3196,3197,3198,3199,3200,3201,3202,3203,3204,3205,3206,3207,3208,3209,3210,3211,3212,3213,3214,3215,3216,3217,3218,3219,3220,3221,3222,3223,3224,3225,3226,3227,3228,3229,3230,3231,3232,3233,3234,3235,3236,3237,3238,3239,3240,3241,3242,3243,3244,3245,3246,3247,3248,3249,3250,3251,3252,3253,3254,3255,3256,3257,3258,3259,3260,3261,3262,3263,3264,3265,3266,3267,3268,3269,3270,3271,3272,3273,3274,3275,3276,3277,3278,3279,3280,3281,3282,3283,3284,3285,3286,3287,3288,3289,3290,3291,3292,3293,3294,3295,3296,3297,3298,3299,3300,3301,3302,3303,3304,3305,3306,3307,3308,3309,3310,3311,3312,3313,3314,3315,3316,3317,3318,3319,3320,3321,3322,3323,3324,3325,3326,3327,3328,3329,3330,3331,3332,3333,3334,3335,3336,3337,3338,3339,3340,3341,3342,3343,3344,3345,3346,3347,3348,3349,3350,3351,3352,3353,3354,3355,3356,3357,3358,3359,3360,3361,3362,3363,3364,3365,3366,3367,3368,3369,3370,3371,3372,3373,3374,3375,3376,3377,3378,3379,3380,3381,3382,3383,3384,3385,3386,3387,3388,3389,3390,3391,3392,3393,3394,3395,3396,3397,3398,3399,3400,3401,3402,3403,3404,3405,3406,3407,3408,3409,3410,3411,3412,3413,3414,3415,3416,3417,3418,3419,3420,3421,3422,3423,3424,3425,3426,3427,3428,3429,3430,3431,3432,3433,3434,3435,3436,3437,3438,3439,3440,3441,3442,3443,3444,3445,3446,3447,3448,3449,3450,3451,3452,3453,3454,3455,3456,3457,3458,3459,3460,3461,3462,3463,3464,3465,3466,3467,3468,3469,3470,3471,3472,3473,3474,3475,3476,3477,3478,3479,3480,3481,3482,3483,3484,3485,3486,3487,3488,3489,3490,3491,3492,3493,3494,3495,3496,3497,3498,3499,3500,3501,3502,3503,3504,3505,3506,3507,3508,3509,3510,3511,3512,3513,3514,3515,3516,3517,3518,3519,3520,3521,3522,3523,3524,3525,3526,3527,3528,3529,3530,3531,3532,3533,3534,3535,3536,3537,3538,3539,3540,3541,3542,3543,3544,3545,3546,3547,3548,3549,3550,3551,3552,3553,3554,3555,3556,3557,3558,3559,3560,3561,3562,3563,3564,3565,3566,3567,3568,3569,3570,3571,3572,3573,3574,3575,3576,3577,3578,3579,3580,3581,3582,3583,3584,3585,3586,3587,3588,3589,3590,3591,3592,3593,3594,3595,3596,3597,3598,3599,3600,3601,3602,3603,3604,3605,3606,3607,3608,3609,3610,3611,3612,3613,3614,3615,3616,3617,3618,3619,3620,3621,3622,3623,3624,3625,3626,3627,3628,3629,3630,3631,3632,3633,3634,3635,3636,3637,3638,3639,3640,3641,3642,3643,3644,3645,3646,3647,3648,3649,3650,3651,3652,3653,3654,3655,3656,3657,3658,3659,3660,3661,3662,3663,3664,3665,3666,3667,3668,3669,3670,3671,3672,3673,3674,3675,3676,3677,3678,3679,3680,3681,3682,3683,3684,3685,3686,3687,3688,3689,3690,3691,3692,3693,3694,3695,3696,3697,3698,3699,3700,3701,3702,3703,3704,3705,3706,3707,3708,3709,3710,3711,3712,3713,3714,3715,3716,3717,3718,3719,3720,3721,3722,3723,3724,3725,3726,3727,3728,3729,3730,3731,3732,3733,3734,3735,3736,3737,3738,3739,3740,3741,3742,3743,3744,3745,3746,3747,3748,3749,3750,3751,3752,3753,3754,3755,3756,3757,3758,3759,3760,3761,3762,3763,3764,3765,3766,3767,3768,3769,3770,3771,3772,3773,3774,3775,3776,3777,3778,3779,3780,3781,3782,3783,3784,3785,3786,3787,3788,3789,3790,3791,3792,3793,3794,3795,3796,3797,3798,3799,3800,3801,3802,3803,3804,3805,3806,3807,3808,3809,3810,3811,3812,3813,3814,3815,3816,3817,3818,3819,3820,3821,3822,3823,3824,3825,3826,3827,3828,3829,3830,3831,3832,3833,3834,3835,3836,3837,3838,3839,3840,3841,3842,3843,3844,3845,3846,3847,3848,3849,3850,3851,3852,3853,3854,3855,3856,3857,3858,3859,3860,3861,3862,3863,3864,3865,3866,3867,3868,3869,3870,3871,3872,3873,3874,3875,3876,3877,3878,3879,3880,3881,3882,3883,3884,3885,3886,3887,3888,3889,3890,3891,3892,3893,3894,3895,3896,3897,3898,3899,3900,3901,3902,3903,3904,3905,3906,3907,3908,3909,3910,3911,3912,3913,3914,3915,3916,3917,3918,3919,3920,3921,3922,3923,3924,3925,3926,3927,3928,3929,3930,3931,3932,3933,3934,3935,3936,3937,3938,3939,3940,3941,3942,3943,3944,3945,3946,3947,3948,3949,3950,3951,3952,3953,3954,3955,3956,3957,3958,3959,3960,3961,3962,3963,3964,3965,3966,3967,3968,3969,3970,3971,3972,3973,3974,3975,3976,3977,3978,3979,3980,3981,3982,3983,3984,3985,3986,3987,3988,3989,3990,3991,3992,3993,3994,3995,3996,3997,3998,3999,4000,4001,4002,4003,4004,4005,4006,4007,4008,4009,4010,4011,4012,4013,4014,4015,4016,4017,4018,4019,4020,4021,4022,4023,4024,4025,4026,4027,4028,4029,4030,4031,4032,4033,4034,4035,4036,4037,4038,4039,4040,4041,4042,4043,4044,4045,4046,4047,4048,4049,4050,4051,4052,4053,4054,4055,4056,4057,4058,4059,4060,4061,4062,4063,4064,4065,4066,4067,4068,4069,4070,4071,4072,4073) have mixed types. Specify dtype option on import or set low_memory=False.\n",
      "  dfgbm = pd.read_table(\"D:/Dropbox/data/proj/PE_HYZ/PublicDataSet/GBMprim_UMI_WithCluster_New.tab\", index_col =0 ,header=0, sep=\"\\t\")\n"
     ]
    },
    {
     "data": {
      "text/plain": [
       "(20129, 4073)"
      ]
     },
     "execution_count": 127,
     "metadata": {},
     "output_type": "execute_result"
    }
   ],
   "source": [
    "dfgbm = pd.read_table(\"D:/Dropbox/data/proj/PE_HYZ/PublicDataSet/GBMprim_UMI_WithCluster_New.tab\", index_col =0 ,header=0, sep=\"\\t\")\n",
    "dfgbm.shape"
   ]
  },
  {
   "cell_type": "code",
   "execution_count": 128,
   "metadata": {
    "scrolled": true
   },
   "outputs": [
    {
     "data": {
      "text/html": [
       "<div>\n",
       "<style scoped>\n",
       "    .dataframe tbody tr th:only-of-type {\n",
       "        vertical-align: middle;\n",
       "    }\n",
       "\n",
       "    .dataframe tbody tr th {\n",
       "        vertical-align: top;\n",
       "    }\n",
       "\n",
       "    .dataframe thead th {\n",
       "        text-align: right;\n",
       "    }\n",
       "</style>\n",
       "<table border=\"1\" class=\"dataframe\">\n",
       "  <thead>\n",
       "    <tr style=\"text-align: right;\">\n",
       "      <th></th>\n",
       "      <th>KI009-1772-122-307-D03</th>\n",
       "      <th>KI009-1772-122-307-F03</th>\n",
       "      <th>KI009-1772-122-307-H04</th>\n",
       "      <th>KI009-1772-122-307-E12</th>\n",
       "      <th>KI009-1772-122-308-D03</th>\n",
       "      <th>KI009-1772-122-308-A08</th>\n",
       "      <th>KI009-1772-122-308-C08</th>\n",
       "      <th>KI009-1772-122-308-G09</th>\n",
       "      <th>KI009-1772-122-308-G10</th>\n",
       "      <th>KI009-1772-122-308-H10</th>\n",
       "      <th>...</th>\n",
       "      <th>KI009-1772-122-308-G07</th>\n",
       "      <th>KI009-1772-122-308-H07</th>\n",
       "      <th>KI009-1772-122-308-D08</th>\n",
       "      <th>KI009-1772-122-308-E09</th>\n",
       "      <th>KI009-1772-122-308-H09</th>\n",
       "      <th>KI009-1772-122-308-A10</th>\n",
       "      <th>KI009-1772-122-308-F10</th>\n",
       "      <th>KI009-1772-122-308-A11</th>\n",
       "      <th>KI009-1772-122-308-B11</th>\n",
       "      <th>KI009-1772-122-308-H11</th>\n",
       "    </tr>\n",
       "  </thead>\n",
       "  <tbody>\n",
       "    <tr>\n",
       "      <th>OR4F5</th>\n",
       "      <td>0</td>\n",
       "      <td>0</td>\n",
       "      <td>0</td>\n",
       "      <td>0</td>\n",
       "      <td>0</td>\n",
       "      <td>0</td>\n",
       "      <td>0</td>\n",
       "      <td>0</td>\n",
       "      <td>0</td>\n",
       "      <td>0</td>\n",
       "      <td>...</td>\n",
       "      <td>0</td>\n",
       "      <td>0</td>\n",
       "      <td>0</td>\n",
       "      <td>0</td>\n",
       "      <td>0</td>\n",
       "      <td>0</td>\n",
       "      <td>0</td>\n",
       "      <td>0</td>\n",
       "      <td>0</td>\n",
       "      <td>0</td>\n",
       "    </tr>\n",
       "    <tr>\n",
       "      <th>OR4F16-loc1</th>\n",
       "      <td>0</td>\n",
       "      <td>0</td>\n",
       "      <td>0</td>\n",
       "      <td>0</td>\n",
       "      <td>0</td>\n",
       "      <td>0</td>\n",
       "      <td>0</td>\n",
       "      <td>0</td>\n",
       "      <td>0</td>\n",
       "      <td>0</td>\n",
       "      <td>...</td>\n",
       "      <td>0</td>\n",
       "      <td>0</td>\n",
       "      <td>0</td>\n",
       "      <td>0</td>\n",
       "      <td>0</td>\n",
       "      <td>0</td>\n",
       "      <td>0</td>\n",
       "      <td>0</td>\n",
       "      <td>0</td>\n",
       "      <td>0</td>\n",
       "    </tr>\n",
       "    <tr>\n",
       "      <th>OR4F16-loc2</th>\n",
       "      <td>0</td>\n",
       "      <td>0</td>\n",
       "      <td>0</td>\n",
       "      <td>0</td>\n",
       "      <td>0</td>\n",
       "      <td>0</td>\n",
       "      <td>0</td>\n",
       "      <td>0</td>\n",
       "      <td>0</td>\n",
       "      <td>0</td>\n",
       "      <td>...</td>\n",
       "      <td>0</td>\n",
       "      <td>0</td>\n",
       "      <td>0</td>\n",
       "      <td>0</td>\n",
       "      <td>0</td>\n",
       "      <td>0</td>\n",
       "      <td>0</td>\n",
       "      <td>0</td>\n",
       "      <td>0</td>\n",
       "      <td>0</td>\n",
       "    </tr>\n",
       "    <tr>\n",
       "      <th>SAMD11</th>\n",
       "      <td>0</td>\n",
       "      <td>0</td>\n",
       "      <td>0</td>\n",
       "      <td>0</td>\n",
       "      <td>0</td>\n",
       "      <td>0</td>\n",
       "      <td>0</td>\n",
       "      <td>0</td>\n",
       "      <td>0</td>\n",
       "      <td>0</td>\n",
       "      <td>...</td>\n",
       "      <td>0</td>\n",
       "      <td>0</td>\n",
       "      <td>0</td>\n",
       "      <td>0</td>\n",
       "      <td>0</td>\n",
       "      <td>0</td>\n",
       "      <td>0</td>\n",
       "      <td>0</td>\n",
       "      <td>0</td>\n",
       "      <td>0</td>\n",
       "    </tr>\n",
       "    <tr>\n",
       "      <th>NOC2L</th>\n",
       "      <td>0</td>\n",
       "      <td>0</td>\n",
       "      <td>0</td>\n",
       "      <td>3</td>\n",
       "      <td>0</td>\n",
       "      <td>0</td>\n",
       "      <td>0</td>\n",
       "      <td>0</td>\n",
       "      <td>0</td>\n",
       "      <td>0</td>\n",
       "      <td>...</td>\n",
       "      <td>0</td>\n",
       "      <td>0</td>\n",
       "      <td>0</td>\n",
       "      <td>0</td>\n",
       "      <td>0</td>\n",
       "      <td>0</td>\n",
       "      <td>0</td>\n",
       "      <td>0</td>\n",
       "      <td>0</td>\n",
       "      <td>0</td>\n",
       "    </tr>\n",
       "  </tbody>\n",
       "</table>\n",
       "<p>5 rows × 4073 columns</p>\n",
       "</div>"
      ],
      "text/plain": [
       "            KI009-1772-122-307-D03 KI009-1772-122-307-F03  \\\n",
       "OR4F5                            0                      0   \n",
       "OR4F16-loc1                      0                      0   \n",
       "OR4F16-loc2                      0                      0   \n",
       "SAMD11                           0                      0   \n",
       "NOC2L                            0                      0   \n",
       "\n",
       "            KI009-1772-122-307-H04 KI009-1772-122-307-E12  \\\n",
       "OR4F5                            0                      0   \n",
       "OR4F16-loc1                      0                      0   \n",
       "OR4F16-loc2                      0                      0   \n",
       "SAMD11                           0                      0   \n",
       "NOC2L                            0                      3   \n",
       "\n",
       "            KI009-1772-122-308-D03 KI009-1772-122-308-A08  \\\n",
       "OR4F5                            0                      0   \n",
       "OR4F16-loc1                      0                      0   \n",
       "OR4F16-loc2                      0                      0   \n",
       "SAMD11                           0                      0   \n",
       "NOC2L                            0                      0   \n",
       "\n",
       "            KI009-1772-122-308-C08 KI009-1772-122-308-G09  \\\n",
       "OR4F5                            0                      0   \n",
       "OR4F16-loc1                      0                      0   \n",
       "OR4F16-loc2                      0                      0   \n",
       "SAMD11                           0                      0   \n",
       "NOC2L                            0                      0   \n",
       "\n",
       "            KI009-1772-122-308-G10 KI009-1772-122-308-H10  ...  \\\n",
       "OR4F5                            0                      0  ...   \n",
       "OR4F16-loc1                      0                      0  ...   \n",
       "OR4F16-loc2                      0                      0  ...   \n",
       "SAMD11                           0                      0  ...   \n",
       "NOC2L                            0                      0  ...   \n",
       "\n",
       "            KI009-1772-122-308-G07 KI009-1772-122-308-H07  \\\n",
       "OR4F5                            0                      0   \n",
       "OR4F16-loc1                      0                      0   \n",
       "OR4F16-loc2                      0                      0   \n",
       "SAMD11                           0                      0   \n",
       "NOC2L                            0                      0   \n",
       "\n",
       "            KI009-1772-122-308-D08 KI009-1772-122-308-E09  \\\n",
       "OR4F5                            0                      0   \n",
       "OR4F16-loc1                      0                      0   \n",
       "OR4F16-loc2                      0                      0   \n",
       "SAMD11                           0                      0   \n",
       "NOC2L                            0                      0   \n",
       "\n",
       "            KI009-1772-122-308-H09 KI009-1772-122-308-A10  \\\n",
       "OR4F5                            0                      0   \n",
       "OR4F16-loc1                      0                      0   \n",
       "OR4F16-loc2                      0                      0   \n",
       "SAMD11                           0                      0   \n",
       "NOC2L                            0                      0   \n",
       "\n",
       "            KI009-1772-122-308-F10 KI009-1772-122-308-A11  \\\n",
       "OR4F5                            0                      0   \n",
       "OR4F16-loc1                      0                      0   \n",
       "OR4F16-loc2                      0                      0   \n",
       "SAMD11                           0                      0   \n",
       "NOC2L                            0                      0   \n",
       "\n",
       "            KI009-1772-122-308-B11 KI009-1772-122-308-H11  \n",
       "OR4F5                            0                      0  \n",
       "OR4F16-loc1                      0                      0  \n",
       "OR4F16-loc2                      0                      0  \n",
       "SAMD11                           0                      0  \n",
       "NOC2L                            0                      0  \n",
       "\n",
       "[5 rows x 4073 columns]"
      ]
     },
     "execution_count": 128,
     "metadata": {},
     "output_type": "execute_result"
    }
   ],
   "source": [
    "dfgbm.head()"
   ]
  },
  {
   "cell_type": "code",
   "execution_count": 129,
   "metadata": {
    "scrolled": false
   },
   "outputs": [
    {
     "data": {
      "text/html": [
       "<div>\n",
       "<style scoped>\n",
       "    .dataframe tbody tr th:only-of-type {\n",
       "        vertical-align: middle;\n",
       "    }\n",
       "\n",
       "    .dataframe tbody tr th {\n",
       "        vertical-align: top;\n",
       "    }\n",
       "\n",
       "    .dataframe thead th {\n",
       "        text-align: right;\n",
       "    }\n",
       "</style>\n",
       "<table border=\"1\" class=\"dataframe\">\n",
       "  <thead>\n",
       "    <tr style=\"text-align: right;\">\n",
       "      <th></th>\n",
       "      <th>KI009-1772-122-307-D03</th>\n",
       "      <th>KI009-1772-122-307-F03</th>\n",
       "      <th>KI009-1772-122-307-H04</th>\n",
       "      <th>KI009-1772-122-307-E12</th>\n",
       "      <th>KI009-1772-122-308-D03</th>\n",
       "      <th>KI009-1772-122-308-A08</th>\n",
       "      <th>KI009-1772-122-308-C08</th>\n",
       "      <th>KI009-1772-122-308-G09</th>\n",
       "      <th>KI009-1772-122-308-G10</th>\n",
       "      <th>KI009-1772-122-308-H10</th>\n",
       "      <th>...</th>\n",
       "      <th>KI009-1772-122-308-G07</th>\n",
       "      <th>KI009-1772-122-308-H07</th>\n",
       "      <th>KI009-1772-122-308-D08</th>\n",
       "      <th>KI009-1772-122-308-E09</th>\n",
       "      <th>KI009-1772-122-308-H09</th>\n",
       "      <th>KI009-1772-122-308-A10</th>\n",
       "      <th>KI009-1772-122-308-F10</th>\n",
       "      <th>KI009-1772-122-308-A11</th>\n",
       "      <th>KI009-1772-122-308-B11</th>\n",
       "      <th>KI009-1772-122-308-H11</th>\n",
       "    </tr>\n",
       "  </thead>\n",
       "  <tbody>\n",
       "    <tr>\n",
       "      <th>CDY1-loc1</th>\n",
       "      <td>0</td>\n",
       "      <td>0</td>\n",
       "      <td>0</td>\n",
       "      <td>0</td>\n",
       "      <td>0</td>\n",
       "      <td>0</td>\n",
       "      <td>0</td>\n",
       "      <td>0</td>\n",
       "      <td>0</td>\n",
       "      <td>0</td>\n",
       "      <td>...</td>\n",
       "      <td>0</td>\n",
       "      <td>0</td>\n",
       "      <td>0</td>\n",
       "      <td>0</td>\n",
       "      <td>0</td>\n",
       "      <td>0</td>\n",
       "      <td>0</td>\n",
       "      <td>0</td>\n",
       "      <td>0</td>\n",
       "      <td>0</td>\n",
       "    </tr>\n",
       "    <tr>\n",
       "      <th>SPRY3-loc2</th>\n",
       "      <td>0</td>\n",
       "      <td>0</td>\n",
       "      <td>0</td>\n",
       "      <td>0</td>\n",
       "      <td>0</td>\n",
       "      <td>0</td>\n",
       "      <td>0</td>\n",
       "      <td>1</td>\n",
       "      <td>1</td>\n",
       "      <td>0</td>\n",
       "      <td>...</td>\n",
       "      <td>0</td>\n",
       "      <td>0</td>\n",
       "      <td>0</td>\n",
       "      <td>0</td>\n",
       "      <td>0</td>\n",
       "      <td>0</td>\n",
       "      <td>0</td>\n",
       "      <td>1</td>\n",
       "      <td>0</td>\n",
       "      <td>0</td>\n",
       "    </tr>\n",
       "    <tr>\n",
       "      <th>VAMP7-loc1</th>\n",
       "      <td>0</td>\n",
       "      <td>0</td>\n",
       "      <td>1</td>\n",
       "      <td>0</td>\n",
       "      <td>0</td>\n",
       "      <td>0</td>\n",
       "      <td>0</td>\n",
       "      <td>0</td>\n",
       "      <td>0</td>\n",
       "      <td>0</td>\n",
       "      <td>...</td>\n",
       "      <td>1</td>\n",
       "      <td>0</td>\n",
       "      <td>1</td>\n",
       "      <td>0</td>\n",
       "      <td>2</td>\n",
       "      <td>0</td>\n",
       "      <td>0</td>\n",
       "      <td>1</td>\n",
       "      <td>0</td>\n",
       "      <td>0</td>\n",
       "    </tr>\n",
       "    <tr>\n",
       "      <th>IL9R-loc1</th>\n",
       "      <td>0</td>\n",
       "      <td>0</td>\n",
       "      <td>0</td>\n",
       "      <td>0</td>\n",
       "      <td>0</td>\n",
       "      <td>0</td>\n",
       "      <td>0</td>\n",
       "      <td>0</td>\n",
       "      <td>0</td>\n",
       "      <td>0</td>\n",
       "      <td>...</td>\n",
       "      <td>0</td>\n",
       "      <td>0</td>\n",
       "      <td>0</td>\n",
       "      <td>0</td>\n",
       "      <td>0</td>\n",
       "      <td>0</td>\n",
       "      <td>0</td>\n",
       "      <td>0</td>\n",
       "      <td>0</td>\n",
       "      <td>0</td>\n",
       "    </tr>\n",
       "    <tr>\n",
       "      <th>Cluster</th>\n",
       "      <td>CD45+</td>\n",
       "      <td>CD45+</td>\n",
       "      <td>CD45+</td>\n",
       "      <td>CD45+</td>\n",
       "      <td>CD45+</td>\n",
       "      <td>CD45+</td>\n",
       "      <td>CD45+</td>\n",
       "      <td>CD45+</td>\n",
       "      <td>CD45+</td>\n",
       "      <td>CD45+</td>\n",
       "      <td>...</td>\n",
       "      <td>MS7_KI09</td>\n",
       "      <td>MS7_KI09</td>\n",
       "      <td>MS7_KI09</td>\n",
       "      <td>MS7_KI09</td>\n",
       "      <td>MS7_KI09</td>\n",
       "      <td>MS7_KI09</td>\n",
       "      <td>MS7_KI09</td>\n",
       "      <td>MS7_KI09</td>\n",
       "      <td>MS7_KI09</td>\n",
       "      <td>MS7_KI09</td>\n",
       "    </tr>\n",
       "  </tbody>\n",
       "</table>\n",
       "<p>5 rows × 4073 columns</p>\n",
       "</div>"
      ],
      "text/plain": [
       "           KI009-1772-122-307-D03 KI009-1772-122-307-F03  \\\n",
       "CDY1-loc1                       0                      0   \n",
       "SPRY3-loc2                      0                      0   \n",
       "VAMP7-loc1                      0                      0   \n",
       "IL9R-loc1                       0                      0   \n",
       "Cluster                     CD45+                  CD45+   \n",
       "\n",
       "           KI009-1772-122-307-H04 KI009-1772-122-307-E12  \\\n",
       "CDY1-loc1                       0                      0   \n",
       "SPRY3-loc2                      0                      0   \n",
       "VAMP7-loc1                      1                      0   \n",
       "IL9R-loc1                       0                      0   \n",
       "Cluster                     CD45+                  CD45+   \n",
       "\n",
       "           KI009-1772-122-308-D03 KI009-1772-122-308-A08  \\\n",
       "CDY1-loc1                       0                      0   \n",
       "SPRY3-loc2                      0                      0   \n",
       "VAMP7-loc1                      0                      0   \n",
       "IL9R-loc1                       0                      0   \n",
       "Cluster                     CD45+                  CD45+   \n",
       "\n",
       "           KI009-1772-122-308-C08 KI009-1772-122-308-G09  \\\n",
       "CDY1-loc1                       0                      0   \n",
       "SPRY3-loc2                      0                      1   \n",
       "VAMP7-loc1                      0                      0   \n",
       "IL9R-loc1                       0                      0   \n",
       "Cluster                     CD45+                  CD45+   \n",
       "\n",
       "           KI009-1772-122-308-G10 KI009-1772-122-308-H10  ...  \\\n",
       "CDY1-loc1                       0                      0  ...   \n",
       "SPRY3-loc2                      1                      0  ...   \n",
       "VAMP7-loc1                      0                      0  ...   \n",
       "IL9R-loc1                       0                      0  ...   \n",
       "Cluster                     CD45+                  CD45+  ...   \n",
       "\n",
       "           KI009-1772-122-308-G07 KI009-1772-122-308-H07  \\\n",
       "CDY1-loc1                       0                      0   \n",
       "SPRY3-loc2                      0                      0   \n",
       "VAMP7-loc1                      1                      0   \n",
       "IL9R-loc1                       0                      0   \n",
       "Cluster                  MS7_KI09               MS7_KI09   \n",
       "\n",
       "           KI009-1772-122-308-D08 KI009-1772-122-308-E09  \\\n",
       "CDY1-loc1                       0                      0   \n",
       "SPRY3-loc2                      0                      0   \n",
       "VAMP7-loc1                      1                      0   \n",
       "IL9R-loc1                       0                      0   \n",
       "Cluster                  MS7_KI09               MS7_KI09   \n",
       "\n",
       "           KI009-1772-122-308-H09 KI009-1772-122-308-A10  \\\n",
       "CDY1-loc1                       0                      0   \n",
       "SPRY3-loc2                      0                      0   \n",
       "VAMP7-loc1                      2                      0   \n",
       "IL9R-loc1                       0                      0   \n",
       "Cluster                  MS7_KI09               MS7_KI09   \n",
       "\n",
       "           KI009-1772-122-308-F10 KI009-1772-122-308-A11  \\\n",
       "CDY1-loc1                       0                      0   \n",
       "SPRY3-loc2                      0                      1   \n",
       "VAMP7-loc1                      0                      1   \n",
       "IL9R-loc1                       0                      0   \n",
       "Cluster                  MS7_KI09               MS7_KI09   \n",
       "\n",
       "           KI009-1772-122-308-B11 KI009-1772-122-308-H11  \n",
       "CDY1-loc1                       0                      0  \n",
       "SPRY3-loc2                      0                      0  \n",
       "VAMP7-loc1                      0                      0  \n",
       "IL9R-loc1                       0                      0  \n",
       "Cluster                  MS7_KI09               MS7_KI09  \n",
       "\n",
       "[5 rows x 4073 columns]"
      ]
     },
     "execution_count": 129,
     "metadata": {},
     "output_type": "execute_result"
    }
   ],
   "source": [
    "dfgbm.tail()"
   ]
  },
  {
   "cell_type": "code",
   "execution_count": 130,
   "metadata": {},
   "outputs": [
    {
     "data": {
      "text/plain": [
       "(4044, 20129)"
      ]
     },
     "execution_count": 130,
     "metadata": {},
     "output_type": "execute_result"
    }
   ],
   "source": [
    "dfgbm=dfgbm.T.loc[dfgbm.loc[\"Cluster\"]!='CD45+']\n",
    "dfgbm.shape"
   ]
  },
  {
   "cell_type": "code",
   "execution_count": 131,
   "metadata": {
    "scrolled": false
   },
   "outputs": [
    {
     "data": {
      "text/plain": [
       "{'CL1_KI09',\n",
       " 'CL2_KI12',\n",
       " 'CL3_KI07',\n",
       " 'CL4_KI12',\n",
       " 'CL5_KI01',\n",
       " 'CL6_KI03.07',\n",
       " 'CL7_KI06',\n",
       " 'CL8_KI16',\n",
       " 'MS1_KI24',\n",
       " 'MS2_KI09',\n",
       " 'MS3',\n",
       " 'MS4_KI09',\n",
       " 'MS5',\n",
       " 'MS6_KI17.05',\n",
       " 'MS7_KI09',\n",
       " 'MS8_KI16',\n",
       " 'NL1_KI15.12',\n",
       " 'PN1_KI15.12.08.01',\n",
       " 'PN2_KI15'}"
      ]
     },
     "execution_count": 131,
     "metadata": {},
     "output_type": "execute_result"
    }
   ],
   "source": [
    "dfgbm=dfgbm.T\n",
    "set(dfgbm.loc[\"Cluster\"])"
   ]
  },
  {
   "cell_type": "code",
   "execution_count": 132,
   "metadata": {},
   "outputs": [],
   "source": [
    "dfclus=dfgbm.iloc[-1:,:]\n",
    "dfgbm=dfgbm.iloc[:-1,:]"
   ]
  },
  {
   "cell_type": "code",
   "execution_count": 133,
   "metadata": {
    "scrolled": true
   },
   "outputs": [
    {
     "data": {
      "text/html": [
       "<div>\n",
       "<style scoped>\n",
       "    .dataframe tbody tr th:only-of-type {\n",
       "        vertical-align: middle;\n",
       "    }\n",
       "\n",
       "    .dataframe tbody tr th {\n",
       "        vertical-align: top;\n",
       "    }\n",
       "\n",
       "    .dataframe thead th {\n",
       "        text-align: right;\n",
       "    }\n",
       "</style>\n",
       "<table border=\"1\" class=\"dataframe\">\n",
       "  <thead>\n",
       "    <tr style=\"text-align: right;\">\n",
       "      <th></th>\n",
       "      <th>KI009-1772-122-307-C01</th>\n",
       "      <th>KI009-1772-122-307-E01</th>\n",
       "      <th>KI009-1772-122-307-F01</th>\n",
       "      <th>KI009-1772-122-307-C02</th>\n",
       "      <th>KI009-1772-122-307-F02</th>\n",
       "      <th>KI009-1772-122-307-B03</th>\n",
       "      <th>KI009-1772-122-307-C03</th>\n",
       "      <th>KI009-1772-122-307-G04</th>\n",
       "      <th>KI009-1772-122-307-C06</th>\n",
       "      <th>KI009-1772-122-307-C07</th>\n",
       "      <th>...</th>\n",
       "      <th>KI009-1772-122-308-G07</th>\n",
       "      <th>KI009-1772-122-308-H07</th>\n",
       "      <th>KI009-1772-122-308-D08</th>\n",
       "      <th>KI009-1772-122-308-E09</th>\n",
       "      <th>KI009-1772-122-308-H09</th>\n",
       "      <th>KI009-1772-122-308-A10</th>\n",
       "      <th>KI009-1772-122-308-F10</th>\n",
       "      <th>KI009-1772-122-308-A11</th>\n",
       "      <th>KI009-1772-122-308-B11</th>\n",
       "      <th>KI009-1772-122-308-H11</th>\n",
       "    </tr>\n",
       "  </thead>\n",
       "  <tbody>\n",
       "    <tr>\n",
       "      <th>Cluster</th>\n",
       "      <td>CL1_KI09</td>\n",
       "      <td>CL1_KI09</td>\n",
       "      <td>CL1_KI09</td>\n",
       "      <td>CL1_KI09</td>\n",
       "      <td>CL1_KI09</td>\n",
       "      <td>CL1_KI09</td>\n",
       "      <td>CL1_KI09</td>\n",
       "      <td>CL1_KI09</td>\n",
       "      <td>CL1_KI09</td>\n",
       "      <td>CL1_KI09</td>\n",
       "      <td>...</td>\n",
       "      <td>MS7_KI09</td>\n",
       "      <td>MS7_KI09</td>\n",
       "      <td>MS7_KI09</td>\n",
       "      <td>MS7_KI09</td>\n",
       "      <td>MS7_KI09</td>\n",
       "      <td>MS7_KI09</td>\n",
       "      <td>MS7_KI09</td>\n",
       "      <td>MS7_KI09</td>\n",
       "      <td>MS7_KI09</td>\n",
       "      <td>MS7_KI09</td>\n",
       "    </tr>\n",
       "  </tbody>\n",
       "</table>\n",
       "<p>1 rows × 4044 columns</p>\n",
       "</div>"
      ],
      "text/plain": [
       "        KI009-1772-122-307-C01 KI009-1772-122-307-E01 KI009-1772-122-307-F01  \\\n",
       "Cluster               CL1_KI09               CL1_KI09               CL1_KI09   \n",
       "\n",
       "        KI009-1772-122-307-C02 KI009-1772-122-307-F02 KI009-1772-122-307-B03  \\\n",
       "Cluster               CL1_KI09               CL1_KI09               CL1_KI09   \n",
       "\n",
       "        KI009-1772-122-307-C03 KI009-1772-122-307-G04 KI009-1772-122-307-C06  \\\n",
       "Cluster               CL1_KI09               CL1_KI09               CL1_KI09   \n",
       "\n",
       "        KI009-1772-122-307-C07  ... KI009-1772-122-308-G07  \\\n",
       "Cluster               CL1_KI09  ...               MS7_KI09   \n",
       "\n",
       "        KI009-1772-122-308-H07 KI009-1772-122-308-D08 KI009-1772-122-308-E09  \\\n",
       "Cluster               MS7_KI09               MS7_KI09               MS7_KI09   \n",
       "\n",
       "        KI009-1772-122-308-H09 KI009-1772-122-308-A10 KI009-1772-122-308-F10  \\\n",
       "Cluster               MS7_KI09               MS7_KI09               MS7_KI09   \n",
       "\n",
       "        KI009-1772-122-308-A11 KI009-1772-122-308-B11 KI009-1772-122-308-H11  \n",
       "Cluster               MS7_KI09               MS7_KI09               MS7_KI09  \n",
       "\n",
       "[1 rows x 4044 columns]"
      ]
     },
     "execution_count": 133,
     "metadata": {},
     "output_type": "execute_result"
    }
   ],
   "source": [
    "dfclus.head()"
   ]
  },
  {
   "cell_type": "code",
   "execution_count": 134,
   "metadata": {
    "scrolled": false
   },
   "outputs": [
    {
     "data": {
      "text/html": [
       "<div>\n",
       "<style scoped>\n",
       "    .dataframe tbody tr th:only-of-type {\n",
       "        vertical-align: middle;\n",
       "    }\n",
       "\n",
       "    .dataframe tbody tr th {\n",
       "        vertical-align: top;\n",
       "    }\n",
       "\n",
       "    .dataframe thead th {\n",
       "        text-align: right;\n",
       "    }\n",
       "</style>\n",
       "<table border=\"1\" class=\"dataframe\">\n",
       "  <thead>\n",
       "    <tr style=\"text-align: right;\">\n",
       "      <th></th>\n",
       "      <th>KI009-1772-122-307-C01</th>\n",
       "      <th>KI009-1772-122-307-E01</th>\n",
       "      <th>KI009-1772-122-307-F01</th>\n",
       "      <th>KI009-1772-122-307-C02</th>\n",
       "      <th>KI009-1772-122-307-F02</th>\n",
       "      <th>KI009-1772-122-307-B03</th>\n",
       "      <th>KI009-1772-122-307-C03</th>\n",
       "      <th>KI009-1772-122-307-G04</th>\n",
       "      <th>KI009-1772-122-307-C06</th>\n",
       "      <th>KI009-1772-122-307-C07</th>\n",
       "      <th>...</th>\n",
       "      <th>KI009-1772-122-308-G07</th>\n",
       "      <th>KI009-1772-122-308-H07</th>\n",
       "      <th>KI009-1772-122-308-D08</th>\n",
       "      <th>KI009-1772-122-308-E09</th>\n",
       "      <th>KI009-1772-122-308-H09</th>\n",
       "      <th>KI009-1772-122-308-A10</th>\n",
       "      <th>KI009-1772-122-308-F10</th>\n",
       "      <th>KI009-1772-122-308-A11</th>\n",
       "      <th>KI009-1772-122-308-B11</th>\n",
       "      <th>KI009-1772-122-308-H11</th>\n",
       "    </tr>\n",
       "  </thead>\n",
       "  <tbody>\n",
       "    <tr>\n",
       "      <th>OR4F5</th>\n",
       "      <td>0</td>\n",
       "      <td>0</td>\n",
       "      <td>0</td>\n",
       "      <td>0</td>\n",
       "      <td>0</td>\n",
       "      <td>0</td>\n",
       "      <td>0</td>\n",
       "      <td>0</td>\n",
       "      <td>0</td>\n",
       "      <td>0</td>\n",
       "      <td>...</td>\n",
       "      <td>0</td>\n",
       "      <td>0</td>\n",
       "      <td>0</td>\n",
       "      <td>0</td>\n",
       "      <td>0</td>\n",
       "      <td>0</td>\n",
       "      <td>0</td>\n",
       "      <td>0</td>\n",
       "      <td>0</td>\n",
       "      <td>0</td>\n",
       "    </tr>\n",
       "    <tr>\n",
       "      <th>OR4F16-loc1</th>\n",
       "      <td>0</td>\n",
       "      <td>0</td>\n",
       "      <td>0</td>\n",
       "      <td>0</td>\n",
       "      <td>0</td>\n",
       "      <td>0</td>\n",
       "      <td>0</td>\n",
       "      <td>0</td>\n",
       "      <td>0</td>\n",
       "      <td>0</td>\n",
       "      <td>...</td>\n",
       "      <td>0</td>\n",
       "      <td>0</td>\n",
       "      <td>0</td>\n",
       "      <td>0</td>\n",
       "      <td>0</td>\n",
       "      <td>0</td>\n",
       "      <td>0</td>\n",
       "      <td>0</td>\n",
       "      <td>0</td>\n",
       "      <td>0</td>\n",
       "    </tr>\n",
       "    <tr>\n",
       "      <th>OR4F16-loc2</th>\n",
       "      <td>0</td>\n",
       "      <td>0</td>\n",
       "      <td>0</td>\n",
       "      <td>0</td>\n",
       "      <td>0</td>\n",
       "      <td>0</td>\n",
       "      <td>0</td>\n",
       "      <td>0</td>\n",
       "      <td>0</td>\n",
       "      <td>0</td>\n",
       "      <td>...</td>\n",
       "      <td>0</td>\n",
       "      <td>0</td>\n",
       "      <td>0</td>\n",
       "      <td>0</td>\n",
       "      <td>0</td>\n",
       "      <td>0</td>\n",
       "      <td>0</td>\n",
       "      <td>0</td>\n",
       "      <td>0</td>\n",
       "      <td>0</td>\n",
       "    </tr>\n",
       "    <tr>\n",
       "      <th>SAMD11</th>\n",
       "      <td>0</td>\n",
       "      <td>0</td>\n",
       "      <td>0</td>\n",
       "      <td>0</td>\n",
       "      <td>0</td>\n",
       "      <td>0</td>\n",
       "      <td>0</td>\n",
       "      <td>0</td>\n",
       "      <td>0</td>\n",
       "      <td>0</td>\n",
       "      <td>...</td>\n",
       "      <td>0</td>\n",
       "      <td>0</td>\n",
       "      <td>0</td>\n",
       "      <td>0</td>\n",
       "      <td>0</td>\n",
       "      <td>0</td>\n",
       "      <td>0</td>\n",
       "      <td>0</td>\n",
       "      <td>0</td>\n",
       "      <td>0</td>\n",
       "    </tr>\n",
       "    <tr>\n",
       "      <th>NOC2L</th>\n",
       "      <td>0</td>\n",
       "      <td>1</td>\n",
       "      <td>0</td>\n",
       "      <td>0</td>\n",
       "      <td>1</td>\n",
       "      <td>0</td>\n",
       "      <td>0</td>\n",
       "      <td>0</td>\n",
       "      <td>0</td>\n",
       "      <td>1</td>\n",
       "      <td>...</td>\n",
       "      <td>0</td>\n",
       "      <td>0</td>\n",
       "      <td>0</td>\n",
       "      <td>0</td>\n",
       "      <td>0</td>\n",
       "      <td>0</td>\n",
       "      <td>0</td>\n",
       "      <td>0</td>\n",
       "      <td>0</td>\n",
       "      <td>0</td>\n",
       "    </tr>\n",
       "  </tbody>\n",
       "</table>\n",
       "<p>5 rows × 4044 columns</p>\n",
       "</div>"
      ],
      "text/plain": [
       "            KI009-1772-122-307-C01 KI009-1772-122-307-E01  \\\n",
       "OR4F5                            0                      0   \n",
       "OR4F16-loc1                      0                      0   \n",
       "OR4F16-loc2                      0                      0   \n",
       "SAMD11                           0                      0   \n",
       "NOC2L                            0                      1   \n",
       "\n",
       "            KI009-1772-122-307-F01 KI009-1772-122-307-C02  \\\n",
       "OR4F5                            0                      0   \n",
       "OR4F16-loc1                      0                      0   \n",
       "OR4F16-loc2                      0                      0   \n",
       "SAMD11                           0                      0   \n",
       "NOC2L                            0                      0   \n",
       "\n",
       "            KI009-1772-122-307-F02 KI009-1772-122-307-B03  \\\n",
       "OR4F5                            0                      0   \n",
       "OR4F16-loc1                      0                      0   \n",
       "OR4F16-loc2                      0                      0   \n",
       "SAMD11                           0                      0   \n",
       "NOC2L                            1                      0   \n",
       "\n",
       "            KI009-1772-122-307-C03 KI009-1772-122-307-G04  \\\n",
       "OR4F5                            0                      0   \n",
       "OR4F16-loc1                      0                      0   \n",
       "OR4F16-loc2                      0                      0   \n",
       "SAMD11                           0                      0   \n",
       "NOC2L                            0                      0   \n",
       "\n",
       "            KI009-1772-122-307-C06 KI009-1772-122-307-C07  ...  \\\n",
       "OR4F5                            0                      0  ...   \n",
       "OR4F16-loc1                      0                      0  ...   \n",
       "OR4F16-loc2                      0                      0  ...   \n",
       "SAMD11                           0                      0  ...   \n",
       "NOC2L                            0                      1  ...   \n",
       "\n",
       "            KI009-1772-122-308-G07 KI009-1772-122-308-H07  \\\n",
       "OR4F5                            0                      0   \n",
       "OR4F16-loc1                      0                      0   \n",
       "OR4F16-loc2                      0                      0   \n",
       "SAMD11                           0                      0   \n",
       "NOC2L                            0                      0   \n",
       "\n",
       "            KI009-1772-122-308-D08 KI009-1772-122-308-E09  \\\n",
       "OR4F5                            0                      0   \n",
       "OR4F16-loc1                      0                      0   \n",
       "OR4F16-loc2                      0                      0   \n",
       "SAMD11                           0                      0   \n",
       "NOC2L                            0                      0   \n",
       "\n",
       "            KI009-1772-122-308-H09 KI009-1772-122-308-A10  \\\n",
       "OR4F5                            0                      0   \n",
       "OR4F16-loc1                      0                      0   \n",
       "OR4F16-loc2                      0                      0   \n",
       "SAMD11                           0                      0   \n",
       "NOC2L                            0                      0   \n",
       "\n",
       "            KI009-1772-122-308-F10 KI009-1772-122-308-A11  \\\n",
       "OR4F5                            0                      0   \n",
       "OR4F16-loc1                      0                      0   \n",
       "OR4F16-loc2                      0                      0   \n",
       "SAMD11                           0                      0   \n",
       "NOC2L                            0                      0   \n",
       "\n",
       "            KI009-1772-122-308-B11 KI009-1772-122-308-H11  \n",
       "OR4F5                            0                      0  \n",
       "OR4F16-loc1                      0                      0  \n",
       "OR4F16-loc2                      0                      0  \n",
       "SAMD11                           0                      0  \n",
       "NOC2L                            0                      0  \n",
       "\n",
       "[5 rows x 4044 columns]"
      ]
     },
     "execution_count": 134,
     "metadata": {},
     "output_type": "execute_result"
    }
   ],
   "source": [
    "dfgbm.head()"
   ]
  },
  {
   "cell_type": "code",
   "execution_count": 142,
   "metadata": {},
   "outputs": [
    {
     "name": "stderr",
     "output_type": "stream",
     "text": [
      "D:\\Dropbox\\data\\proj\\PE_HYZ\\BuidingCode\\ready_SWAPLINE\\prefiltering.py:322: FutureWarning: In a future version of pandas all arguments of DataFrame.dropna will be keyword-only.\n",
      "  scalegbm = dfpfc.div(dfpfc.std(1), axis=0).dropna(0)\n"
     ]
    }
   ],
   "source": [
    "#import prefilteringTest26\n",
    "score=0\n",
    "thrs=0\n",
    "commongene=mdf_train_set.index.tolist()\n",
    "df_train_setclpn, dfclpncol,protogruop=prefiltering.MVgene_Scaling(list_genes=None,dfpfc=dfgbm.astype(float),dfpfcclus=dfclus,mprotogruop=None,\n",
    "                                                      std_scaling=True,TPTT=10000,\n",
    "                   sharedMVgenes=mdf_train_set.index.tolist(), score=score, commongene=commongene, thrs=thrs,\n",
    "                                tftable=\"D:/Dropbox/data/proj/PE_HYZ/PublicDataSet/FantomTF2CLUSTER_human_official.txt\",  learninggroup=\"test\")"
   ]
  },
  {
   "cell_type": "code",
   "execution_count": 143,
   "metadata": {
    "scrolled": true
   },
   "outputs": [
    {
     "data": {
      "text/plain": [
       "(1942, 4044)"
      ]
     },
     "execution_count": 143,
     "metadata": {},
     "output_type": "execute_result"
    }
   ],
   "source": [
    "df_train_setclpn.shape"
   ]
  },
  {
   "cell_type": "code",
   "execution_count": 144,
   "metadata": {
    "scrolled": true
   },
   "outputs": [
    {
     "data": {
      "text/plain": [
       "array(['CL1_KI09', 'CL1_KI09', 'CL1_KI09', ..., 'MS7_KI09', 'MS7_KI09',\n",
       "       'MS7_KI09'], dtype=object)"
      ]
     },
     "execution_count": 144,
     "metadata": {},
     "output_type": "execute_result"
    }
   ],
   "source": [
    "protogruop"
   ]
  },
  {
   "cell_type": "code",
   "execution_count": 145,
   "metadata": {},
   "outputs": [],
   "source": [
    "wanted_orderclpn =['CL1_KI09',\n",
    " 'CL2_KI12',\n",
    " 'CL3_KI07',\n",
    " 'CL4_KI12',\n",
    " 'CL5_KI01',\n",
    " 'CL6_KI03.07',\n",
    " 'CL7_KI06',\n",
    " 'CL8_KI16',\n",
    " 'MS1_KI24',\n",
    " 'MS2_KI09',\n",
    " 'MS3',\n",
    " 'MS4_KI09',\n",
    " 'MS5',\n",
    " 'MS6_KI17.05',\n",
    " 'MS7_KI09',\n",
    " 'MS8_KI16',\n",
    " 'NL1_KI15.12',\n",
    " 'PN1_KI15.12.08.01',\n",
    " 'PN2_KI15']\n",
    "color_dictclpn=pd.Series({'CL1_KI09':  ( 10, 10, 250),'CL2_KI12': (215, 105,  30),'CL3_KI07':   (117, 245, 7) ,\n",
    "              'PN1_KI15.12.08.01':    (111,111,111),'CL5_KI01': (79,47,79)  ,'PN2_KI15':    (180, 140, 130),\n",
    "              'CL4_KI12':  (100, 180, 240),'MS8_KI16': ( 80, 235, 255),'CL6_KI03.07':(139,69,19),\n",
    "              'CL7_KI06':(10, 120, 190),'CL8_KI16':(230, 10, 100),'NL1_KI15.12':  (120, 15,215),\n",
    "            'MS1_KI24':   (190,  10,  10),'MS2_KI09': (225, 160,  30),'MS3':   (217, 245,   7) ,\n",
    "            'MS4_KI09': (69,155,110)  ,'MS5':  (100, 100, 240),'MS6_KI17.05':  (190, 200, 190),'MS7_KI09':   ( 50, 180, 180),\n",
    "                     })"
   ]
  },
  {
   "cell_type": "code",
   "execution_count": 146,
   "metadata": {},
   "outputs": [],
   "source": [
    "#import SWAPLINEmain10\n",
    "mreordername, dfprobCL, color_dictclpn, dataclpn=SWAPLINEmain.prediction(mwanted_order=wanted_orderclpn ,  mclasses_names = mclasses_names, \n",
    "     mtrain_index = mtrain_index, net = net, mreorder_ix =mreorder_idx, \n",
    "                                            mprotogruop=protogruop,  mdf_train_set=df_train_setclpn, mcolor_dict=color_dictclpn, learninggroup=\"test\" )\n",
    "#RadarVisualization"
   ]
  },
  {
   "cell_type": "markdown",
   "metadata": {},
   "source": [
    "# Suva2019_GBM"
   ]
  },
  {
   "cell_type": "code",
   "execution_count": 148,
   "metadata": {
    "scrolled": false
   },
   "outputs": [
    {
     "data": {
      "text/plain": [
       "(23686, 7930)"
      ]
     },
     "execution_count": 148,
     "metadata": {},
     "output_type": "execute_result"
    }
   ],
   "source": [
    "dfsample = pd.read_table(\"D:/Dropbox/data/proj/PE_HYZ/PublicDataSet/2019Suva/IDHwtGBM.processed.SS2.logTPM.txt/IDHwtGBM.processed.SS2.logTPM.txt\", index_col =0 ,header=0, sep=\"\\t\")\n",
    "dfsample.shape\n"
   ]
  },
  {
   "cell_type": "code",
   "execution_count": 149,
   "metadata": {},
   "outputs": [
    {
     "data": {
      "text/plain": [
       "(7931, 13)"
      ]
     },
     "execution_count": 149,
     "metadata": {},
     "output_type": "execute_result"
    }
   ],
   "source": [
    "dfsampleclus = pd.read_table(\"D:/Dropbox/data/proj/PE_HYZ/PublicDataSet/2019Suva/IDHwtGBM.Metadata.SS2.txt\", index_col =0 ,header=0, sep=\"\\t\")\n",
    "dfsampleclus.shape\n"
   ]
  },
  {
   "cell_type": "code",
   "execution_count": 150,
   "metadata": {},
   "outputs": [
    {
     "data": {
      "text/html": [
       "<div>\n",
       "<style scoped>\n",
       "    .dataframe tbody tr th:only-of-type {\n",
       "        vertical-align: middle;\n",
       "    }\n",
       "\n",
       "    .dataframe tbody tr th {\n",
       "        vertical-align: top;\n",
       "    }\n",
       "\n",
       "    .dataframe thead th {\n",
       "        text-align: right;\n",
       "    }\n",
       "</style>\n",
       "<table border=\"1\" class=\"dataframe\">\n",
       "  <thead>\n",
       "    <tr style=\"text-align: right;\">\n",
       "      <th></th>\n",
       "      <th>Sample</th>\n",
       "      <th>GBM_Type</th>\n",
       "      <th>Cell_Type</th>\n",
       "      <th>Cross_Section</th>\n",
       "      <th>Genes_Expressed</th>\n",
       "      <th>AC-like</th>\n",
       "      <th>MES1-like</th>\n",
       "      <th>MES2-like</th>\n",
       "      <th>NPC1-like</th>\n",
       "      <th>NPC2-like</th>\n",
       "      <th>OPC-like</th>\n",
       "      <th>G1S</th>\n",
       "      <th>G2M</th>\n",
       "    </tr>\n",
       "    <tr>\n",
       "      <th>NAME</th>\n",
       "      <th></th>\n",
       "      <th></th>\n",
       "      <th></th>\n",
       "      <th></th>\n",
       "      <th></th>\n",
       "      <th></th>\n",
       "      <th></th>\n",
       "      <th></th>\n",
       "      <th></th>\n",
       "      <th></th>\n",
       "      <th></th>\n",
       "      <th></th>\n",
       "      <th></th>\n",
       "    </tr>\n",
       "  </thead>\n",
       "  <tbody>\n",
       "    <tr>\n",
       "      <th>TYPE</th>\n",
       "      <td>group</td>\n",
       "      <td>group</td>\n",
       "      <td>group</td>\n",
       "      <td>group</td>\n",
       "      <td>numeric</td>\n",
       "      <td>numeric</td>\n",
       "      <td>numeric</td>\n",
       "      <td>numeric</td>\n",
       "      <td>numeric</td>\n",
       "      <td>numeric</td>\n",
       "      <td>numeric</td>\n",
       "      <td>numeric</td>\n",
       "      <td>numeric</td>\n",
       "    </tr>\n",
       "    <tr>\n",
       "      <th>MGH100-P5-A01</th>\n",
       "      <td>MGH100</td>\n",
       "      <td>Adult</td>\n",
       "      <td>Malignant</td>\n",
       "      <td>NaN</td>\n",
       "      <td>7403</td>\n",
       "      <td>2.29724756105443</td>\n",
       "      <td>0.311211961707847</td>\n",
       "      <td>-0.293633485956514</td>\n",
       "      <td>-0.516822723797423</td>\n",
       "      <td>-0.801937232473608</td>\n",
       "      <td>0.417244989115182</td>\n",
       "      <td>-0.951816425952768</td>\n",
       "      <td>-0.310899447575504</td>\n",
       "    </tr>\n",
       "    <tr>\n",
       "      <th>MGH100-P5-A03</th>\n",
       "      <td>MGH100</td>\n",
       "      <td>Adult</td>\n",
       "      <td>Malignant</td>\n",
       "      <td>NaN</td>\n",
       "      <td>8861</td>\n",
       "      <td>-0.559428510000344</td>\n",
       "      <td>-1.20298531371585</td>\n",
       "      <td>-0.579529857513807</td>\n",
       "      <td>0.893472111534824</td>\n",
       "      <td>-0.149805199002272</td>\n",
       "      <td>0.896569778332911</td>\n",
       "      <td>3.62443186028081</td>\n",
       "      <td>1.47087171714853</td>\n",
       "    </tr>\n",
       "    <tr>\n",
       "      <th>MGH100-P5-A04</th>\n",
       "      <td>MGH100</td>\n",
       "      <td>Adult</td>\n",
       "      <td>Malignant</td>\n",
       "      <td>NaN</td>\n",
       "      <td>5957</td>\n",
       "      <td>-1.08740329652001</td>\n",
       "      <td>-0.0734224534184421</td>\n",
       "      <td>2.25051898663126</td>\n",
       "      <td>-1.65942656638598</td>\n",
       "      <td>-0.860216154455462</td>\n",
       "      <td>-1.42107814485363</td>\n",
       "      <td>-0.346711265261959</td>\n",
       "      <td>-0.303424805657141</td>\n",
       "    </tr>\n",
       "    <tr>\n",
       "      <th>MGH100-P5-A06</th>\n",
       "      <td>MGH100</td>\n",
       "      <td>Adult</td>\n",
       "      <td>Malignant</td>\n",
       "      <td>NaN</td>\n",
       "      <td>7320</td>\n",
       "      <td>-0.646200158140011</td>\n",
       "      <td>-0.541540113216199</td>\n",
       "      <td>-0.482611877864668</td>\n",
       "      <td>0.564371473329837</td>\n",
       "      <td>-0.043081960262292</td>\n",
       "      <td>0.53108354241134</td>\n",
       "      <td>3.02202290807356</td>\n",
       "      <td>0.821238632091698</td>\n",
       "    </tr>\n",
       "  </tbody>\n",
       "</table>\n",
       "</div>"
      ],
      "text/plain": [
       "               Sample GBM_Type  Cell_Type Cross_Section Genes_Expressed  \\\n",
       "NAME                                                                      \n",
       "TYPE            group    group      group         group         numeric   \n",
       "MGH100-P5-A01  MGH100    Adult  Malignant           NaN            7403   \n",
       "MGH100-P5-A03  MGH100    Adult  Malignant           NaN            8861   \n",
       "MGH100-P5-A04  MGH100    Adult  Malignant           NaN            5957   \n",
       "MGH100-P5-A06  MGH100    Adult  Malignant           NaN            7320   \n",
       "\n",
       "                          AC-like            MES1-like           MES2-like  \\\n",
       "NAME                                                                         \n",
       "TYPE                      numeric              numeric             numeric   \n",
       "MGH100-P5-A01    2.29724756105443    0.311211961707847  -0.293633485956514   \n",
       "MGH100-P5-A03  -0.559428510000344    -1.20298531371585  -0.579529857513807   \n",
       "MGH100-P5-A04   -1.08740329652001  -0.0734224534184421    2.25051898663126   \n",
       "MGH100-P5-A06  -0.646200158140011   -0.541540113216199  -0.482611877864668   \n",
       "\n",
       "                        NPC1-like           NPC2-like           OPC-like  \\\n",
       "NAME                                                                       \n",
       "TYPE                      numeric             numeric            numeric   \n",
       "MGH100-P5-A01  -0.516822723797423  -0.801937232473608  0.417244989115182   \n",
       "MGH100-P5-A03   0.893472111534824  -0.149805199002272  0.896569778332911   \n",
       "MGH100-P5-A04   -1.65942656638598  -0.860216154455462  -1.42107814485363   \n",
       "MGH100-P5-A06   0.564371473329837  -0.043081960262292   0.53108354241134   \n",
       "\n",
       "                              G1S                 G2M  \n",
       "NAME                                                   \n",
       "TYPE                      numeric             numeric  \n",
       "MGH100-P5-A01  -0.951816425952768  -0.310899447575504  \n",
       "MGH100-P5-A03    3.62443186028081    1.47087171714853  \n",
       "MGH100-P5-A04  -0.346711265261959  -0.303424805657141  \n",
       "MGH100-P5-A06    3.02202290807356   0.821238632091698  "
      ]
     },
     "execution_count": 150,
     "metadata": {},
     "output_type": "execute_result"
    }
   ],
   "source": [
    "dfsampleclus.head()"
   ]
  },
  {
   "cell_type": "code",
   "execution_count": 151,
   "metadata": {},
   "outputs": [
    {
     "data": {
      "text/plain": [
       "{'Macrophage', 'Malignant', 'Oligodendrocyte', 'T-cell', 'group'}"
      ]
     },
     "execution_count": 151,
     "metadata": {},
     "output_type": "execute_result"
    }
   ],
   "source": [
    "set(dfsampleclus[\"Cell_Type\"])"
   ]
  },
  {
   "cell_type": "code",
   "execution_count": 152,
   "metadata": {},
   "outputs": [
    {
     "data": {
      "text/plain": [
       "(6863, 13)"
      ]
     },
     "execution_count": 152,
     "metadata": {},
     "output_type": "execute_result"
    }
   ],
   "source": [
    "dfsampleclus=dfsampleclus.loc[dfsampleclus[\"Cell_Type\"].isin(['Malignant'])]\n",
    "dfsampleclus.shape"
   ]
  },
  {
   "cell_type": "code",
   "execution_count": 153,
   "metadata": {},
   "outputs": [
    {
     "data": {
      "text/plain": [
       "(23686, 6863)"
      ]
     },
     "execution_count": 153,
     "metadata": {},
     "output_type": "execute_result"
    }
   ],
   "source": [
    "dfsample=dfsample[dfsampleclus.index].dropna()\n",
    "dfsample.shape"
   ]
  },
  {
   "cell_type": "code",
   "execution_count": 154,
   "metadata": {},
   "outputs": [
    {
     "data": {
      "text/html": [
       "<div>\n",
       "<style scoped>\n",
       "    .dataframe tbody tr th:only-of-type {\n",
       "        vertical-align: middle;\n",
       "    }\n",
       "\n",
       "    .dataframe tbody tr th {\n",
       "        vertical-align: top;\n",
       "    }\n",
       "\n",
       "    .dataframe thead th {\n",
       "        text-align: right;\n",
       "    }\n",
       "</style>\n",
       "<table border=\"1\" class=\"dataframe\">\n",
       "  <thead>\n",
       "    <tr style=\"text-align: right;\">\n",
       "      <th></th>\n",
       "      <th>MGH100-P5-A01</th>\n",
       "      <th>MGH100-P5-A03</th>\n",
       "      <th>MGH100-P5-A04</th>\n",
       "      <th>MGH100-P5-A06</th>\n",
       "      <th>MGH100-P5-A07</th>\n",
       "      <th>MGH100-P5-A08</th>\n",
       "      <th>MGH100-P5-A09</th>\n",
       "      <th>MGH100-P5-A10</th>\n",
       "      <th>MGH100-P5-A12</th>\n",
       "      <th>MGH100-P5-B02</th>\n",
       "      <th>...</th>\n",
       "      <th>BT920-P4-G12</th>\n",
       "      <th>BT920-P4-H02</th>\n",
       "      <th>BT920-P4-H03</th>\n",
       "      <th>BT920-P4-H04</th>\n",
       "      <th>BT920-P4-H05</th>\n",
       "      <th>BT920-P4-H08</th>\n",
       "      <th>BT920-P4-H09</th>\n",
       "      <th>BT920-P4-H10</th>\n",
       "      <th>BT920-P4-H11</th>\n",
       "      <th>BT920-P4-H12</th>\n",
       "    </tr>\n",
       "    <tr>\n",
       "      <th>GENE</th>\n",
       "      <th></th>\n",
       "      <th></th>\n",
       "      <th></th>\n",
       "      <th></th>\n",
       "      <th></th>\n",
       "      <th></th>\n",
       "      <th></th>\n",
       "      <th></th>\n",
       "      <th></th>\n",
       "      <th></th>\n",
       "      <th></th>\n",
       "      <th></th>\n",
       "      <th></th>\n",
       "      <th></th>\n",
       "      <th></th>\n",
       "      <th></th>\n",
       "      <th></th>\n",
       "      <th></th>\n",
       "      <th></th>\n",
       "      <th></th>\n",
       "      <th></th>\n",
       "    </tr>\n",
       "  </thead>\n",
       "  <tbody>\n",
       "    <tr>\n",
       "      <th>A1BG</th>\n",
       "      <td>1.409798</td>\n",
       "      <td>0.436162</td>\n",
       "      <td>0.00000</td>\n",
       "      <td>0.0</td>\n",
       "      <td>0.000000</td>\n",
       "      <td>0.508936</td>\n",
       "      <td>0.889084</td>\n",
       "      <td>2.948414</td>\n",
       "      <td>1.025029</td>\n",
       "      <td>1.393416</td>\n",
       "      <td>...</td>\n",
       "      <td>0.0000</td>\n",
       "      <td>0.0</td>\n",
       "      <td>0.0000</td>\n",
       "      <td>1.6955</td>\n",
       "      <td>0.0</td>\n",
       "      <td>0.000000</td>\n",
       "      <td>0.00000</td>\n",
       "      <td>2.0841</td>\n",
       "      <td>0.0000</td>\n",
       "      <td>0.0000</td>\n",
       "    </tr>\n",
       "    <tr>\n",
       "      <th>A1BG-AS1</th>\n",
       "      <td>0.000000</td>\n",
       "      <td>2.499272</td>\n",
       "      <td>3.74771</td>\n",
       "      <td>0.0</td>\n",
       "      <td>3.229742</td>\n",
       "      <td>1.969749</td>\n",
       "      <td>0.000000</td>\n",
       "      <td>0.000000</td>\n",
       "      <td>2.650535</td>\n",
       "      <td>0.000000</td>\n",
       "      <td>...</td>\n",
       "      <td>0.0000</td>\n",
       "      <td>0.0</td>\n",
       "      <td>0.0000</td>\n",
       "      <td>0.0000</td>\n",
       "      <td>0.0</td>\n",
       "      <td>3.283000</td>\n",
       "      <td>0.00000</td>\n",
       "      <td>0.0000</td>\n",
       "      <td>0.0000</td>\n",
       "      <td>3.6513</td>\n",
       "    </tr>\n",
       "    <tr>\n",
       "      <th>A1CF</th>\n",
       "      <td>0.000000</td>\n",
       "      <td>0.000000</td>\n",
       "      <td>0.00000</td>\n",
       "      <td>0.0</td>\n",
       "      <td>0.000000</td>\n",
       "      <td>0.108357</td>\n",
       "      <td>0.000000</td>\n",
       "      <td>0.000000</td>\n",
       "      <td>0.000000</td>\n",
       "      <td>0.000000</td>\n",
       "      <td>...</td>\n",
       "      <td>0.0000</td>\n",
       "      <td>0.0</td>\n",
       "      <td>0.0000</td>\n",
       "      <td>0.0000</td>\n",
       "      <td>0.0</td>\n",
       "      <td>0.071763</td>\n",
       "      <td>0.00000</td>\n",
       "      <td>0.0000</td>\n",
       "      <td>0.0000</td>\n",
       "      <td>0.0000</td>\n",
       "    </tr>\n",
       "    <tr>\n",
       "      <th>A2M</th>\n",
       "      <td>2.850199</td>\n",
       "      <td>0.000000</td>\n",
       "      <td>0.00000</td>\n",
       "      <td>0.0</td>\n",
       "      <td>0.000000</td>\n",
       "      <td>0.000000</td>\n",
       "      <td>0.000000</td>\n",
       "      <td>0.000000</td>\n",
       "      <td>0.468844</td>\n",
       "      <td>0.000000</td>\n",
       "      <td>...</td>\n",
       "      <td>2.7793</td>\n",
       "      <td>0.0</td>\n",
       "      <td>4.0601</td>\n",
       "      <td>1.4082</td>\n",
       "      <td>0.0</td>\n",
       "      <td>7.084700</td>\n",
       "      <td>5.51510</td>\n",
       "      <td>5.0966</td>\n",
       "      <td>2.2975</td>\n",
       "      <td>5.5945</td>\n",
       "    </tr>\n",
       "    <tr>\n",
       "      <th>A2M-AS1</th>\n",
       "      <td>0.000000</td>\n",
       "      <td>0.000000</td>\n",
       "      <td>0.00000</td>\n",
       "      <td>0.0</td>\n",
       "      <td>0.000000</td>\n",
       "      <td>0.000000</td>\n",
       "      <td>0.000000</td>\n",
       "      <td>0.000000</td>\n",
       "      <td>0.000000</td>\n",
       "      <td>0.000000</td>\n",
       "      <td>...</td>\n",
       "      <td>0.0000</td>\n",
       "      <td>0.0</td>\n",
       "      <td>0.0000</td>\n",
       "      <td>0.0000</td>\n",
       "      <td>0.0</td>\n",
       "      <td>0.552870</td>\n",
       "      <td>0.49978</td>\n",
       "      <td>0.0000</td>\n",
       "      <td>0.0000</td>\n",
       "      <td>0.0000</td>\n",
       "    </tr>\n",
       "  </tbody>\n",
       "</table>\n",
       "<p>5 rows × 6863 columns</p>\n",
       "</div>"
      ],
      "text/plain": [
       "          MGH100-P5-A01  MGH100-P5-A03  MGH100-P5-A04  MGH100-P5-A06  \\\n",
       "GENE                                                                   \n",
       "A1BG           1.409798       0.436162        0.00000            0.0   \n",
       "A1BG-AS1       0.000000       2.499272        3.74771            0.0   \n",
       "A1CF           0.000000       0.000000        0.00000            0.0   \n",
       "A2M            2.850199       0.000000        0.00000            0.0   \n",
       "A2M-AS1        0.000000       0.000000        0.00000            0.0   \n",
       "\n",
       "          MGH100-P5-A07  MGH100-P5-A08  MGH100-P5-A09  MGH100-P5-A10  \\\n",
       "GENE                                                                   \n",
       "A1BG           0.000000       0.508936       0.889084       2.948414   \n",
       "A1BG-AS1       3.229742       1.969749       0.000000       0.000000   \n",
       "A1CF           0.000000       0.108357       0.000000       0.000000   \n",
       "A2M            0.000000       0.000000       0.000000       0.000000   \n",
       "A2M-AS1        0.000000       0.000000       0.000000       0.000000   \n",
       "\n",
       "          MGH100-P5-A12  MGH100-P5-B02  ...  BT920-P4-G12  BT920-P4-H02  \\\n",
       "GENE                                    ...                               \n",
       "A1BG           1.025029       1.393416  ...        0.0000           0.0   \n",
       "A1BG-AS1       2.650535       0.000000  ...        0.0000           0.0   \n",
       "A1CF           0.000000       0.000000  ...        0.0000           0.0   \n",
       "A2M            0.468844       0.000000  ...        2.7793           0.0   \n",
       "A2M-AS1        0.000000       0.000000  ...        0.0000           0.0   \n",
       "\n",
       "          BT920-P4-H03  BT920-P4-H04  BT920-P4-H05  BT920-P4-H08  \\\n",
       "GENE                                                               \n",
       "A1BG            0.0000        1.6955           0.0      0.000000   \n",
       "A1BG-AS1        0.0000        0.0000           0.0      3.283000   \n",
       "A1CF            0.0000        0.0000           0.0      0.071763   \n",
       "A2M             4.0601        1.4082           0.0      7.084700   \n",
       "A2M-AS1         0.0000        0.0000           0.0      0.552870   \n",
       "\n",
       "          BT920-P4-H09  BT920-P4-H10  BT920-P4-H11  BT920-P4-H12  \n",
       "GENE                                                              \n",
       "A1BG           0.00000        2.0841        0.0000        0.0000  \n",
       "A1BG-AS1       0.00000        0.0000        0.0000        3.6513  \n",
       "A1CF           0.00000        0.0000        0.0000        0.0000  \n",
       "A2M            5.51510        5.0966        2.2975        5.5945  \n",
       "A2M-AS1        0.49978        0.0000        0.0000        0.0000  \n",
       "\n",
       "[5 rows x 6863 columns]"
      ]
     },
     "execution_count": 154,
     "metadata": {},
     "output_type": "execute_result"
    }
   ],
   "source": [
    "dfsample.head()"
   ]
  },
  {
   "cell_type": "code",
   "execution_count": 155,
   "metadata": {},
   "outputs": [
    {
     "data": {
      "text/plain": [
       "6863"
      ]
     },
     "execution_count": 155,
     "metadata": {},
     "output_type": "execute_result"
    }
   ],
   "source": [
    "Patientlist=[]\n",
    "for item in dfsample.columns:\n",
    "    temp=item.split(\"-\")[0]\n",
    "    if temp[:3]==\"MGH\":\n",
    "        temp=temp[:6]\n",
    "    Patientlist.append(temp)\n",
    "len(Patientlist)"
   ]
  },
  {
   "cell_type": "code",
   "execution_count": 156,
   "metadata": {
    "scrolled": true
   },
   "outputs": [
    {
     "data": {
      "text/plain": [
       "{'BT1160',\n",
       " 'BT1187',\n",
       " 'BT749',\n",
       " 'BT771',\n",
       " 'BT786',\n",
       " 'BT830',\n",
       " 'BT920',\n",
       " 'MGH100',\n",
       " 'MGH101',\n",
       " 'MGH102',\n",
       " 'MGH104',\n",
       " 'MGH105',\n",
       " 'MGH106',\n",
       " 'MGH110',\n",
       " 'MGH113',\n",
       " 'MGH115',\n",
       " 'MGH121',\n",
       " 'MGH122',\n",
       " 'MGH124',\n",
       " 'MGH125',\n",
       " 'MGH128',\n",
       " 'MGH129',\n",
       " 'MGH136',\n",
       " 'MGH143',\n",
       " 'MGH151',\n",
       " 'MGH152',\n",
       " 'MGH66',\n",
       " 'MGH85'}"
      ]
     },
     "execution_count": 156,
     "metadata": {},
     "output_type": "execute_result"
    }
   ],
   "source": [
    "set(Patientlist)"
   ]
  },
  {
   "cell_type": "code",
   "execution_count": 157,
   "metadata": {},
   "outputs": [],
   "source": [
    "dfsample.loc[\"PaitentID\"]=Patientlist"
   ]
  },
  {
   "cell_type": "code",
   "execution_count": 158,
   "metadata": {},
   "outputs": [
    {
     "data": {
      "text/html": [
       "<div>\n",
       "<style scoped>\n",
       "    .dataframe tbody tr th:only-of-type {\n",
       "        vertical-align: middle;\n",
       "    }\n",
       "\n",
       "    .dataframe tbody tr th {\n",
       "        vertical-align: top;\n",
       "    }\n",
       "\n",
       "    .dataframe thead th {\n",
       "        text-align: right;\n",
       "    }\n",
       "</style>\n",
       "<table border=\"1\" class=\"dataframe\">\n",
       "  <thead>\n",
       "    <tr style=\"text-align: right;\">\n",
       "      <th></th>\n",
       "      <th>MGH100-P5-A01</th>\n",
       "      <th>MGH100-P5-A03</th>\n",
       "      <th>MGH100-P5-A04</th>\n",
       "      <th>MGH100-P5-A06</th>\n",
       "      <th>MGH100-P5-A07</th>\n",
       "      <th>MGH100-P5-A08</th>\n",
       "      <th>MGH100-P5-A09</th>\n",
       "      <th>MGH100-P5-A10</th>\n",
       "      <th>MGH100-P5-A12</th>\n",
       "      <th>MGH100-P5-B02</th>\n",
       "      <th>...</th>\n",
       "      <th>BT920-P4-G12</th>\n",
       "      <th>BT920-P4-H02</th>\n",
       "      <th>BT920-P4-H03</th>\n",
       "      <th>BT920-P4-H04</th>\n",
       "      <th>BT920-P4-H05</th>\n",
       "      <th>BT920-P4-H08</th>\n",
       "      <th>BT920-P4-H09</th>\n",
       "      <th>BT920-P4-H10</th>\n",
       "      <th>BT920-P4-H11</th>\n",
       "      <th>BT920-P4-H12</th>\n",
       "    </tr>\n",
       "    <tr>\n",
       "      <th>GENE</th>\n",
       "      <th></th>\n",
       "      <th></th>\n",
       "      <th></th>\n",
       "      <th></th>\n",
       "      <th></th>\n",
       "      <th></th>\n",
       "      <th></th>\n",
       "      <th></th>\n",
       "      <th></th>\n",
       "      <th></th>\n",
       "      <th></th>\n",
       "      <th></th>\n",
       "      <th></th>\n",
       "      <th></th>\n",
       "      <th></th>\n",
       "      <th></th>\n",
       "      <th></th>\n",
       "      <th></th>\n",
       "      <th></th>\n",
       "      <th></th>\n",
       "      <th></th>\n",
       "    </tr>\n",
       "  </thead>\n",
       "  <tbody>\n",
       "    <tr>\n",
       "      <th>ZZZ3</th>\n",
       "      <td>0.0</td>\n",
       "      <td>0.0</td>\n",
       "      <td>0.0</td>\n",
       "      <td>0.0</td>\n",
       "      <td>2.908621</td>\n",
       "      <td>2.428946</td>\n",
       "      <td>0.0</td>\n",
       "      <td>0.0</td>\n",
       "      <td>3.181262</td>\n",
       "      <td>0.0</td>\n",
       "      <td>...</td>\n",
       "      <td>4.8348</td>\n",
       "      <td>0.0</td>\n",
       "      <td>0.0</td>\n",
       "      <td>0.0</td>\n",
       "      <td>0.0</td>\n",
       "      <td>2.5852</td>\n",
       "      <td>0.0</td>\n",
       "      <td>0.0</td>\n",
       "      <td>0.0</td>\n",
       "      <td>0.0</td>\n",
       "    </tr>\n",
       "    <tr>\n",
       "      <th>PaitentID</th>\n",
       "      <td>MGH100</td>\n",
       "      <td>MGH100</td>\n",
       "      <td>MGH100</td>\n",
       "      <td>MGH100</td>\n",
       "      <td>MGH100</td>\n",
       "      <td>MGH100</td>\n",
       "      <td>MGH100</td>\n",
       "      <td>MGH100</td>\n",
       "      <td>MGH100</td>\n",
       "      <td>MGH100</td>\n",
       "      <td>...</td>\n",
       "      <td>BT920</td>\n",
       "      <td>BT920</td>\n",
       "      <td>BT920</td>\n",
       "      <td>BT920</td>\n",
       "      <td>BT920</td>\n",
       "      <td>BT920</td>\n",
       "      <td>BT920</td>\n",
       "      <td>BT920</td>\n",
       "      <td>BT920</td>\n",
       "      <td>BT920</td>\n",
       "    </tr>\n",
       "  </tbody>\n",
       "</table>\n",
       "<p>2 rows × 6863 columns</p>\n",
       "</div>"
      ],
      "text/plain": [
       "          MGH100-P5-A01 MGH100-P5-A03 MGH100-P5-A04 MGH100-P5-A06  \\\n",
       "GENE                                                                \n",
       "ZZZ3                0.0           0.0           0.0           0.0   \n",
       "PaitentID        MGH100        MGH100        MGH100        MGH100   \n",
       "\n",
       "          MGH100-P5-A07 MGH100-P5-A08 MGH100-P5-A09 MGH100-P5-A10  \\\n",
       "GENE                                                                \n",
       "ZZZ3           2.908621      2.428946           0.0           0.0   \n",
       "PaitentID        MGH100        MGH100        MGH100        MGH100   \n",
       "\n",
       "          MGH100-P5-A12 MGH100-P5-B02  ... BT920-P4-G12 BT920-P4-H02  \\\n",
       "GENE                                   ...                             \n",
       "ZZZ3           3.181262           0.0  ...       4.8348          0.0   \n",
       "PaitentID        MGH100        MGH100  ...        BT920        BT920   \n",
       "\n",
       "          BT920-P4-H03 BT920-P4-H04 BT920-P4-H05 BT920-P4-H08 BT920-P4-H09  \\\n",
       "GENE                                                                         \n",
       "ZZZ3               0.0          0.0          0.0       2.5852          0.0   \n",
       "PaitentID        BT920        BT920        BT920        BT920        BT920   \n",
       "\n",
       "          BT920-P4-H10 BT920-P4-H11 BT920-P4-H12  \n",
       "GENE                                              \n",
       "ZZZ3               0.0          0.0          0.0  \n",
       "PaitentID        BT920        BT920        BT920  \n",
       "\n",
       "[2 rows x 6863 columns]"
      ]
     },
     "execution_count": 158,
     "metadata": {},
     "output_type": "execute_result"
    }
   ],
   "source": [
    "dfsampleclus=dfsample.iloc[-2:,:]\n",
    "dfsampleclus.head()"
   ]
  },
  {
   "cell_type": "code",
   "execution_count": 159,
   "metadata": {
    "scrolled": true
   },
   "outputs": [
    {
     "data": {
      "text/html": [
       "<div>\n",
       "<style scoped>\n",
       "    .dataframe tbody tr th:only-of-type {\n",
       "        vertical-align: middle;\n",
       "    }\n",
       "\n",
       "    .dataframe tbody tr th {\n",
       "        vertical-align: top;\n",
       "    }\n",
       "\n",
       "    .dataframe thead th {\n",
       "        text-align: right;\n",
       "    }\n",
       "</style>\n",
       "<table border=\"1\" class=\"dataframe\">\n",
       "  <thead>\n",
       "    <tr style=\"text-align: right;\">\n",
       "      <th></th>\n",
       "      <th>MGH100-P5-A01</th>\n",
       "      <th>MGH100-P5-A03</th>\n",
       "      <th>MGH100-P5-A04</th>\n",
       "      <th>MGH100-P5-A06</th>\n",
       "      <th>MGH100-P5-A07</th>\n",
       "      <th>MGH100-P5-A08</th>\n",
       "      <th>MGH100-P5-A09</th>\n",
       "      <th>MGH100-P5-A10</th>\n",
       "      <th>MGH100-P5-A12</th>\n",
       "      <th>MGH100-P5-B02</th>\n",
       "      <th>...</th>\n",
       "      <th>BT920-P4-G12</th>\n",
       "      <th>BT920-P4-H02</th>\n",
       "      <th>BT920-P4-H03</th>\n",
       "      <th>BT920-P4-H04</th>\n",
       "      <th>BT920-P4-H05</th>\n",
       "      <th>BT920-P4-H08</th>\n",
       "      <th>BT920-P4-H09</th>\n",
       "      <th>BT920-P4-H10</th>\n",
       "      <th>BT920-P4-H11</th>\n",
       "      <th>BT920-P4-H12</th>\n",
       "    </tr>\n",
       "    <tr>\n",
       "      <th>GENE</th>\n",
       "      <th></th>\n",
       "      <th></th>\n",
       "      <th></th>\n",
       "      <th></th>\n",
       "      <th></th>\n",
       "      <th></th>\n",
       "      <th></th>\n",
       "      <th></th>\n",
       "      <th></th>\n",
       "      <th></th>\n",
       "      <th></th>\n",
       "      <th></th>\n",
       "      <th></th>\n",
       "      <th></th>\n",
       "      <th></th>\n",
       "      <th></th>\n",
       "      <th></th>\n",
       "      <th></th>\n",
       "      <th></th>\n",
       "      <th></th>\n",
       "      <th></th>\n",
       "    </tr>\n",
       "  </thead>\n",
       "  <tbody>\n",
       "    <tr>\n",
       "      <th>A1BG</th>\n",
       "      <td>1.409798</td>\n",
       "      <td>0.436162</td>\n",
       "      <td>0.0</td>\n",
       "      <td>0.0</td>\n",
       "      <td>0.0</td>\n",
       "      <td>0.508936</td>\n",
       "      <td>0.889084</td>\n",
       "      <td>2.948414</td>\n",
       "      <td>1.025029</td>\n",
       "      <td>1.393416</td>\n",
       "      <td>...</td>\n",
       "      <td>0.0</td>\n",
       "      <td>0.0</td>\n",
       "      <td>0.0</td>\n",
       "      <td>1.6955</td>\n",
       "      <td>0.0</td>\n",
       "      <td>0.0</td>\n",
       "      <td>0.0</td>\n",
       "      <td>2.0841</td>\n",
       "      <td>0.0</td>\n",
       "      <td>0.0</td>\n",
       "    </tr>\n",
       "    <tr>\n",
       "      <th>A1BG-AS1</th>\n",
       "      <td>0.0</td>\n",
       "      <td>2.499272</td>\n",
       "      <td>3.74771</td>\n",
       "      <td>0.0</td>\n",
       "      <td>3.229742</td>\n",
       "      <td>1.969749</td>\n",
       "      <td>0.0</td>\n",
       "      <td>0.0</td>\n",
       "      <td>2.650535</td>\n",
       "      <td>0.0</td>\n",
       "      <td>...</td>\n",
       "      <td>0.0</td>\n",
       "      <td>0.0</td>\n",
       "      <td>0.0</td>\n",
       "      <td>0.0</td>\n",
       "      <td>0.0</td>\n",
       "      <td>3.283</td>\n",
       "      <td>0.0</td>\n",
       "      <td>0.0</td>\n",
       "      <td>0.0</td>\n",
       "      <td>3.6513</td>\n",
       "    </tr>\n",
       "    <tr>\n",
       "      <th>A1CF</th>\n",
       "      <td>0.0</td>\n",
       "      <td>0.0</td>\n",
       "      <td>0.0</td>\n",
       "      <td>0.0</td>\n",
       "      <td>0.0</td>\n",
       "      <td>0.108357</td>\n",
       "      <td>0.0</td>\n",
       "      <td>0.0</td>\n",
       "      <td>0.0</td>\n",
       "      <td>0.0</td>\n",
       "      <td>...</td>\n",
       "      <td>0.0</td>\n",
       "      <td>0.0</td>\n",
       "      <td>0.0</td>\n",
       "      <td>0.0</td>\n",
       "      <td>0.0</td>\n",
       "      <td>0.071763</td>\n",
       "      <td>0.0</td>\n",
       "      <td>0.0</td>\n",
       "      <td>0.0</td>\n",
       "      <td>0.0</td>\n",
       "    </tr>\n",
       "    <tr>\n",
       "      <th>A2M</th>\n",
       "      <td>2.850199</td>\n",
       "      <td>0.0</td>\n",
       "      <td>0.0</td>\n",
       "      <td>0.0</td>\n",
       "      <td>0.0</td>\n",
       "      <td>0.0</td>\n",
       "      <td>0.0</td>\n",
       "      <td>0.0</td>\n",
       "      <td>0.468844</td>\n",
       "      <td>0.0</td>\n",
       "      <td>...</td>\n",
       "      <td>2.7793</td>\n",
       "      <td>0.0</td>\n",
       "      <td>4.0601</td>\n",
       "      <td>1.4082</td>\n",
       "      <td>0.0</td>\n",
       "      <td>7.0847</td>\n",
       "      <td>5.5151</td>\n",
       "      <td>5.0966</td>\n",
       "      <td>2.2975</td>\n",
       "      <td>5.5945</td>\n",
       "    </tr>\n",
       "    <tr>\n",
       "      <th>A2M-AS1</th>\n",
       "      <td>0.0</td>\n",
       "      <td>0.0</td>\n",
       "      <td>0.0</td>\n",
       "      <td>0.0</td>\n",
       "      <td>0.0</td>\n",
       "      <td>0.0</td>\n",
       "      <td>0.0</td>\n",
       "      <td>0.0</td>\n",
       "      <td>0.0</td>\n",
       "      <td>0.0</td>\n",
       "      <td>...</td>\n",
       "      <td>0.0</td>\n",
       "      <td>0.0</td>\n",
       "      <td>0.0</td>\n",
       "      <td>0.0</td>\n",
       "      <td>0.0</td>\n",
       "      <td>0.55287</td>\n",
       "      <td>0.49978</td>\n",
       "      <td>0.0</td>\n",
       "      <td>0.0</td>\n",
       "      <td>0.0</td>\n",
       "    </tr>\n",
       "  </tbody>\n",
       "</table>\n",
       "<p>5 rows × 6863 columns</p>\n",
       "</div>"
      ],
      "text/plain": [
       "         MGH100-P5-A01 MGH100-P5-A03 MGH100-P5-A04 MGH100-P5-A06  \\\n",
       "GENE                                                               \n",
       "A1BG          1.409798      0.436162           0.0           0.0   \n",
       "A1BG-AS1           0.0      2.499272       3.74771           0.0   \n",
       "A1CF               0.0           0.0           0.0           0.0   \n",
       "A2M           2.850199           0.0           0.0           0.0   \n",
       "A2M-AS1            0.0           0.0           0.0           0.0   \n",
       "\n",
       "         MGH100-P5-A07 MGH100-P5-A08 MGH100-P5-A09 MGH100-P5-A10  \\\n",
       "GENE                                                               \n",
       "A1BG               0.0      0.508936      0.889084      2.948414   \n",
       "A1BG-AS1      3.229742      1.969749           0.0           0.0   \n",
       "A1CF               0.0      0.108357           0.0           0.0   \n",
       "A2M                0.0           0.0           0.0           0.0   \n",
       "A2M-AS1            0.0           0.0           0.0           0.0   \n",
       "\n",
       "         MGH100-P5-A12 MGH100-P5-B02  ... BT920-P4-G12 BT920-P4-H02  \\\n",
       "GENE                                  ...                             \n",
       "A1BG          1.025029      1.393416  ...          0.0          0.0   \n",
       "A1BG-AS1      2.650535           0.0  ...          0.0          0.0   \n",
       "A1CF               0.0           0.0  ...          0.0          0.0   \n",
       "A2M           0.468844           0.0  ...       2.7793          0.0   \n",
       "A2M-AS1            0.0           0.0  ...          0.0          0.0   \n",
       "\n",
       "         BT920-P4-H03 BT920-P4-H04 BT920-P4-H05 BT920-P4-H08 BT920-P4-H09  \\\n",
       "GENE                                                                        \n",
       "A1BG              0.0       1.6955          0.0          0.0          0.0   \n",
       "A1BG-AS1          0.0          0.0          0.0        3.283          0.0   \n",
       "A1CF              0.0          0.0          0.0     0.071763          0.0   \n",
       "A2M            4.0601       1.4082          0.0       7.0847       5.5151   \n",
       "A2M-AS1           0.0          0.0          0.0      0.55287      0.49978   \n",
       "\n",
       "         BT920-P4-H10 BT920-P4-H11 BT920-P4-H12  \n",
       "GENE                                             \n",
       "A1BG           2.0841          0.0          0.0  \n",
       "A1BG-AS1          0.0          0.0       3.6513  \n",
       "A1CF              0.0          0.0          0.0  \n",
       "A2M            5.0966       2.2975       5.5945  \n",
       "A2M-AS1           0.0          0.0          0.0  \n",
       "\n",
       "[5 rows x 6863 columns]"
      ]
     },
     "execution_count": 159,
     "metadata": {},
     "output_type": "execute_result"
    }
   ],
   "source": [
    "dfsample=dfsample.iloc[:-1,:]\n",
    "dfsample.head()"
   ]
  },
  {
   "cell_type": "code",
   "execution_count": 161,
   "metadata": {},
   "outputs": [
    {
     "data": {
      "text/html": [
       "<div>\n",
       "<style scoped>\n",
       "    .dataframe tbody tr th:only-of-type {\n",
       "        vertical-align: middle;\n",
       "    }\n",
       "\n",
       "    .dataframe tbody tr th {\n",
       "        vertical-align: top;\n",
       "    }\n",
       "\n",
       "    .dataframe thead th {\n",
       "        text-align: right;\n",
       "    }\n",
       "</style>\n",
       "<table border=\"1\" class=\"dataframe\">\n",
       "  <thead>\n",
       "    <tr style=\"text-align: right;\">\n",
       "      <th></th>\n",
       "      <th>MGH100-P5-A01</th>\n",
       "      <th>MGH100-P5-A03</th>\n",
       "      <th>MGH100-P5-A04</th>\n",
       "      <th>MGH100-P5-A07</th>\n",
       "      <th>MGH100-P5-A09</th>\n",
       "      <th>MGH100-P5-A10</th>\n",
       "      <th>MGH100-P5-B02</th>\n",
       "      <th>MGH100-P5-B09</th>\n",
       "      <th>MGH100-P5-C04</th>\n",
       "      <th>MGH100-P5-C06</th>\n",
       "      <th>...</th>\n",
       "      <th>BT920-P4-G07</th>\n",
       "      <th>BT920-P4-G08</th>\n",
       "      <th>BT920-P4-G09</th>\n",
       "      <th>BT920-P4-G10</th>\n",
       "      <th>BT920-P4-H02</th>\n",
       "      <th>BT920-P4-H03</th>\n",
       "      <th>BT920-P4-H05</th>\n",
       "      <th>BT920-P4-H08</th>\n",
       "      <th>BT920-P4-H11</th>\n",
       "      <th>BT920-P4-H12</th>\n",
       "    </tr>\n",
       "    <tr>\n",
       "      <th>GENE</th>\n",
       "      <th></th>\n",
       "      <th></th>\n",
       "      <th></th>\n",
       "      <th></th>\n",
       "      <th></th>\n",
       "      <th></th>\n",
       "      <th></th>\n",
       "      <th></th>\n",
       "      <th></th>\n",
       "      <th></th>\n",
       "      <th></th>\n",
       "      <th></th>\n",
       "      <th></th>\n",
       "      <th></th>\n",
       "      <th></th>\n",
       "      <th></th>\n",
       "      <th></th>\n",
       "      <th></th>\n",
       "      <th></th>\n",
       "      <th></th>\n",
       "      <th></th>\n",
       "    </tr>\n",
       "  </thead>\n",
       "  <tbody>\n",
       "    <tr>\n",
       "      <th>A1BG</th>\n",
       "      <td>1.409798</td>\n",
       "      <td>0.436162</td>\n",
       "      <td>0.00000</td>\n",
       "      <td>0.000000</td>\n",
       "      <td>0.889084</td>\n",
       "      <td>2.948414</td>\n",
       "      <td>1.393416</td>\n",
       "      <td>0.0</td>\n",
       "      <td>0.335712</td>\n",
       "      <td>0.000000</td>\n",
       "      <td>...</td>\n",
       "      <td>0.0000</td>\n",
       "      <td>0.0000</td>\n",
       "      <td>1.5084</td>\n",
       "      <td>0.85758</td>\n",
       "      <td>0.0</td>\n",
       "      <td>0.0000</td>\n",
       "      <td>0.0</td>\n",
       "      <td>0.000000</td>\n",
       "      <td>0.0000</td>\n",
       "      <td>0.0000</td>\n",
       "    </tr>\n",
       "    <tr>\n",
       "      <th>A1BG-AS1</th>\n",
       "      <td>0.000000</td>\n",
       "      <td>2.499272</td>\n",
       "      <td>3.74771</td>\n",
       "      <td>3.229742</td>\n",
       "      <td>0.000000</td>\n",
       "      <td>0.000000</td>\n",
       "      <td>0.000000</td>\n",
       "      <td>0.0</td>\n",
       "      <td>1.211635</td>\n",
       "      <td>2.398077</td>\n",
       "      <td>...</td>\n",
       "      <td>0.0000</td>\n",
       "      <td>0.0000</td>\n",
       "      <td>0.0000</td>\n",
       "      <td>0.00000</td>\n",
       "      <td>0.0</td>\n",
       "      <td>0.0000</td>\n",
       "      <td>0.0</td>\n",
       "      <td>3.283000</td>\n",
       "      <td>0.0000</td>\n",
       "      <td>3.6513</td>\n",
       "    </tr>\n",
       "    <tr>\n",
       "      <th>A1CF</th>\n",
       "      <td>0.000000</td>\n",
       "      <td>0.000000</td>\n",
       "      <td>0.00000</td>\n",
       "      <td>0.000000</td>\n",
       "      <td>0.000000</td>\n",
       "      <td>0.000000</td>\n",
       "      <td>0.000000</td>\n",
       "      <td>0.0</td>\n",
       "      <td>0.000000</td>\n",
       "      <td>0.000000</td>\n",
       "      <td>...</td>\n",
       "      <td>0.0000</td>\n",
       "      <td>0.0000</td>\n",
       "      <td>0.0000</td>\n",
       "      <td>0.00000</td>\n",
       "      <td>0.0</td>\n",
       "      <td>0.0000</td>\n",
       "      <td>0.0</td>\n",
       "      <td>0.071763</td>\n",
       "      <td>0.0000</td>\n",
       "      <td>0.0000</td>\n",
       "    </tr>\n",
       "    <tr>\n",
       "      <th>A2M</th>\n",
       "      <td>2.850199</td>\n",
       "      <td>0.000000</td>\n",
       "      <td>0.00000</td>\n",
       "      <td>0.000000</td>\n",
       "      <td>0.000000</td>\n",
       "      <td>0.000000</td>\n",
       "      <td>0.000000</td>\n",
       "      <td>0.0</td>\n",
       "      <td>0.000000</td>\n",
       "      <td>5.079335</td>\n",
       "      <td>...</td>\n",
       "      <td>3.1778</td>\n",
       "      <td>2.8065</td>\n",
       "      <td>4.3127</td>\n",
       "      <td>3.17220</td>\n",
       "      <td>0.0</td>\n",
       "      <td>4.0601</td>\n",
       "      <td>0.0</td>\n",
       "      <td>7.084700</td>\n",
       "      <td>2.2975</td>\n",
       "      <td>5.5945</td>\n",
       "    </tr>\n",
       "    <tr>\n",
       "      <th>A2M-AS1</th>\n",
       "      <td>0.000000</td>\n",
       "      <td>0.000000</td>\n",
       "      <td>0.00000</td>\n",
       "      <td>0.000000</td>\n",
       "      <td>0.000000</td>\n",
       "      <td>0.000000</td>\n",
       "      <td>0.000000</td>\n",
       "      <td>0.0</td>\n",
       "      <td>0.000000</td>\n",
       "      <td>0.000000</td>\n",
       "      <td>...</td>\n",
       "      <td>0.0000</td>\n",
       "      <td>0.0000</td>\n",
       "      <td>0.0000</td>\n",
       "      <td>0.00000</td>\n",
       "      <td>0.0</td>\n",
       "      <td>0.0000</td>\n",
       "      <td>0.0</td>\n",
       "      <td>0.552870</td>\n",
       "      <td>0.0000</td>\n",
       "      <td>0.0000</td>\n",
       "    </tr>\n",
       "  </tbody>\n",
       "</table>\n",
       "<p>5 rows × 3861 columns</p>\n",
       "</div>"
      ],
      "text/plain": [
       "          MGH100-P5-A01  MGH100-P5-A03  MGH100-P5-A04  MGH100-P5-A07  \\\n",
       "GENE                                                                   \n",
       "A1BG           1.409798       0.436162        0.00000       0.000000   \n",
       "A1BG-AS1       0.000000       2.499272        3.74771       3.229742   \n",
       "A1CF           0.000000       0.000000        0.00000       0.000000   \n",
       "A2M            2.850199       0.000000        0.00000       0.000000   \n",
       "A2M-AS1        0.000000       0.000000        0.00000       0.000000   \n",
       "\n",
       "          MGH100-P5-A09  MGH100-P5-A10  MGH100-P5-B02  MGH100-P5-B09  \\\n",
       "GENE                                                                   \n",
       "A1BG           0.889084       2.948414       1.393416            0.0   \n",
       "A1BG-AS1       0.000000       0.000000       0.000000            0.0   \n",
       "A1CF           0.000000       0.000000       0.000000            0.0   \n",
       "A2M            0.000000       0.000000       0.000000            0.0   \n",
       "A2M-AS1        0.000000       0.000000       0.000000            0.0   \n",
       "\n",
       "          MGH100-P5-C04  MGH100-P5-C06  ...  BT920-P4-G07  BT920-P4-G08  \\\n",
       "GENE                                    ...                               \n",
       "A1BG           0.335712       0.000000  ...        0.0000        0.0000   \n",
       "A1BG-AS1       1.211635       2.398077  ...        0.0000        0.0000   \n",
       "A1CF           0.000000       0.000000  ...        0.0000        0.0000   \n",
       "A2M            0.000000       5.079335  ...        3.1778        2.8065   \n",
       "A2M-AS1        0.000000       0.000000  ...        0.0000        0.0000   \n",
       "\n",
       "          BT920-P4-G09  BT920-P4-G10  BT920-P4-H02  BT920-P4-H03  \\\n",
       "GENE                                                               \n",
       "A1BG            1.5084       0.85758           0.0        0.0000   \n",
       "A1BG-AS1        0.0000       0.00000           0.0        0.0000   \n",
       "A1CF            0.0000       0.00000           0.0        0.0000   \n",
       "A2M             4.3127       3.17220           0.0        4.0601   \n",
       "A2M-AS1         0.0000       0.00000           0.0        0.0000   \n",
       "\n",
       "          BT920-P4-H05  BT920-P4-H08  BT920-P4-H11  BT920-P4-H12  \n",
       "GENE                                                              \n",
       "A1BG               0.0      0.000000        0.0000        0.0000  \n",
       "A1BG-AS1           0.0      3.283000        0.0000        3.6513  \n",
       "A1CF               0.0      0.071763        0.0000        0.0000  \n",
       "A2M                0.0      7.084700        2.2975        5.5945  \n",
       "A2M-AS1            0.0      0.552870        0.0000        0.0000  \n",
       "\n",
       "[5 rows x 3861 columns]"
      ]
     },
     "execution_count": 161,
     "metadata": {},
     "output_type": "execute_result"
    }
   ],
   "source": [
    "#FILTERING Mgl\n",
    "dfgbm.head()"
   ]
  },
  {
   "cell_type": "code",
   "execution_count": 162,
   "metadata": {
    "scrolled": true
   },
   "outputs": [
    {
     "data": {
      "text/html": [
       "<div>\n",
       "<style scoped>\n",
       "    .dataframe tbody tr th:only-of-type {\n",
       "        vertical-align: middle;\n",
       "    }\n",
       "\n",
       "    .dataframe tbody tr th {\n",
       "        vertical-align: top;\n",
       "    }\n",
       "\n",
       "    .dataframe thead th {\n",
       "        text-align: right;\n",
       "    }\n",
       "</style>\n",
       "<table border=\"1\" class=\"dataframe\">\n",
       "  <thead>\n",
       "    <tr style=\"text-align: right;\">\n",
       "      <th></th>\n",
       "      <th>MGH100-P5-A01</th>\n",
       "      <th>MGH100-P5-A03</th>\n",
       "      <th>MGH100-P5-A04</th>\n",
       "      <th>MGH100-P5-A06</th>\n",
       "      <th>MGH100-P5-A07</th>\n",
       "      <th>MGH100-P5-A08</th>\n",
       "      <th>MGH100-P5-A09</th>\n",
       "      <th>MGH100-P5-A10</th>\n",
       "      <th>MGH100-P5-A12</th>\n",
       "      <th>MGH100-P5-B02</th>\n",
       "      <th>...</th>\n",
       "      <th>BT920-P4-G12</th>\n",
       "      <th>BT920-P4-H02</th>\n",
       "      <th>BT920-P4-H03</th>\n",
       "      <th>BT920-P4-H04</th>\n",
       "      <th>BT920-P4-H05</th>\n",
       "      <th>BT920-P4-H08</th>\n",
       "      <th>BT920-P4-H09</th>\n",
       "      <th>BT920-P4-H10</th>\n",
       "      <th>BT920-P4-H11</th>\n",
       "      <th>BT920-P4-H12</th>\n",
       "    </tr>\n",
       "  </thead>\n",
       "  <tbody>\n",
       "    <tr>\n",
       "      <th>Unknown</th>\n",
       "      <td>0.0</td>\n",
       "      <td>0.0</td>\n",
       "      <td>0.0</td>\n",
       "      <td>0.0</td>\n",
       "      <td>2.908621</td>\n",
       "      <td>2.428946</td>\n",
       "      <td>0.0</td>\n",
       "      <td>0.0</td>\n",
       "      <td>3.181262</td>\n",
       "      <td>0.0</td>\n",
       "      <td>...</td>\n",
       "      <td>4.8348</td>\n",
       "      <td>0.0</td>\n",
       "      <td>0.0</td>\n",
       "      <td>0.0</td>\n",
       "      <td>0.0</td>\n",
       "      <td>2.5852</td>\n",
       "      <td>0.0</td>\n",
       "      <td>0.0</td>\n",
       "      <td>0.0</td>\n",
       "      <td>0.0</td>\n",
       "    </tr>\n",
       "    <tr>\n",
       "      <th>Cluster</th>\n",
       "      <td>MGH100</td>\n",
       "      <td>MGH100</td>\n",
       "      <td>MGH100</td>\n",
       "      <td>MGH100</td>\n",
       "      <td>MGH100</td>\n",
       "      <td>MGH100</td>\n",
       "      <td>MGH100</td>\n",
       "      <td>MGH100</td>\n",
       "      <td>MGH100</td>\n",
       "      <td>MGH100</td>\n",
       "      <td>...</td>\n",
       "      <td>BT920</td>\n",
       "      <td>BT920</td>\n",
       "      <td>BT920</td>\n",
       "      <td>BT920</td>\n",
       "      <td>BT920</td>\n",
       "      <td>BT920</td>\n",
       "      <td>BT920</td>\n",
       "      <td>BT920</td>\n",
       "      <td>BT920</td>\n",
       "      <td>BT920</td>\n",
       "    </tr>\n",
       "  </tbody>\n",
       "</table>\n",
       "<p>2 rows × 6863 columns</p>\n",
       "</div>"
      ],
      "text/plain": [
       "        MGH100-P5-A01 MGH100-P5-A03 MGH100-P5-A04 MGH100-P5-A06 MGH100-P5-A07  \\\n",
       "Unknown           0.0           0.0           0.0           0.0      2.908621   \n",
       "Cluster        MGH100        MGH100        MGH100        MGH100        MGH100   \n",
       "\n",
       "        MGH100-P5-A08 MGH100-P5-A09 MGH100-P5-A10 MGH100-P5-A12 MGH100-P5-B02  \\\n",
       "Unknown      2.428946           0.0           0.0      3.181262           0.0   \n",
       "Cluster        MGH100        MGH100        MGH100        MGH100        MGH100   \n",
       "\n",
       "         ... BT920-P4-G12 BT920-P4-H02 BT920-P4-H03 BT920-P4-H04 BT920-P4-H05  \\\n",
       "Unknown  ...       4.8348          0.0          0.0          0.0          0.0   \n",
       "Cluster  ...        BT920        BT920        BT920        BT920        BT920   \n",
       "\n",
       "        BT920-P4-H08 BT920-P4-H09 BT920-P4-H10 BT920-P4-H11 BT920-P4-H12  \n",
       "Unknown       2.5852          0.0          0.0          0.0          0.0  \n",
       "Cluster        BT920        BT920        BT920        BT920        BT920  \n",
       "\n",
       "[2 rows x 6863 columns]"
      ]
     },
     "execution_count": 162,
     "metadata": {},
     "output_type": "execute_result"
    }
   ],
   "source": [
    "dfclus=dfsampleclus\n",
    "dfclus.index=[\"Unknown\",\"Cluster\"]\n",
    "dfclus"
   ]
  },
  {
   "cell_type": "code",
   "execution_count": 163,
   "metadata": {},
   "outputs": [
    {
     "name": "stderr",
     "output_type": "stream",
     "text": [
      "D:\\Dropbox\\data\\proj\\PE_HYZ\\BuidingCode\\ready_SWAPLINE\\prefiltering.py:322: FutureWarning: In a future version of pandas all arguments of DataFrame.dropna will be keyword-only.\n",
      "  scalegbm = dfpfc.div(dfpfc.std(1), axis=0).dropna(0)\n"
     ]
    }
   ],
   "source": [
    "#import prefilteringTest26\n",
    "df_train_setclpn, dfclpncol,protogruop=prefiltering.MVgene_Scaling(list_genes=None,dfpfc=dfgbm.astype(float),dfpfcclus=dfclus,mprotogruop=None,\n",
    "                                                      std_scaling=True,TPTT=dfpfc.mean(1),\n",
    "                   sharedMVgenes=mdf_train_set.index.tolist(), score=score, commongene=commongene, thrs=thrs,\n",
    "                                tftable=\"D:/Dropbox/data/proj/PE_HYZ/PublicDataSet/FantomTF2CLUSTER_human_official.txt\",  learninggroup=\"test\")"
   ]
  },
  {
   "cell_type": "code",
   "execution_count": 164,
   "metadata": {},
   "outputs": [],
   "source": [
    "wanted_orderclpn =['BT1160',\n",
    " 'BT1187',\n",
    " 'BT749',\n",
    " 'BT771',\n",
    " 'BT786',\n",
    " 'BT830',\n",
    " 'BT920',\n",
    " 'MGH100',\n",
    " 'MGH101',\n",
    " 'MGH102',\n",
    " 'MGH104',\n",
    " 'MGH105',\n",
    " 'MGH106',\n",
    " 'MGH110',\n",
    " 'MGH113',\n",
    " 'MGH115',\n",
    " 'MGH121',\n",
    " 'MGH122',\n",
    " 'MGH124',\n",
    " 'MGH125',\n",
    " 'MGH128',\n",
    " 'MGH129',\n",
    " 'MGH136',\n",
    " 'MGH143',\n",
    " 'MGH151',\n",
    " 'MGH152',\n",
    " 'MGH66',\n",
    " 'MGH85']\n",
    "\n",
    "color_dictclpn = pd.Series({'BT1160':  ( 50, 180, 180),'BT1187': (225, 160,  30),'BT749':    (217, 245,   7),\n",
    "             'BT771':    (70, 80, 10), 'BT786':   (130, 140, 140),'BT830':    (80, 140, 130),\n",
    "             'BT920':  (100, 100, 240),'MGH100': ( 80, 35, 255),'MGH101':(190, 235, 255),\n",
    "              'MGH102':(210, 255, 215),'MGH104':(230, 140, 120),'MGH105':  (190,  10,  10),\n",
    "                           \n",
    "                           'MGH106':  ( 50, 80, 180), 'MGH110': (25, 160,  30),'MGH113':    (27, 245,   7),\n",
    "            'MGH115':    (170, 80, 10), 'MGH121':   (130, 140, 140), 'MGH122':    (80, 140, 30),\n",
    "              'MGH124':  (100, 10, 240),'MGH125': ( 180, 35, 255),'MGH128':(190, 235, 55),\n",
    "              'MGH129':(210, 55, 215),'MGH136':(20, 140, 120),'MGH143':  (190,  210,  10),\n",
    "                    'MGH151':  ( 30, 80, 80), 'MGH152': (25, 60,  30),'MGH66':    (27, 245,  207),\n",
    "            'MGH85':    (70, 80, 210),      \n",
    "                           \n",
    "                           })"
   ]
  },
  {
   "cell_type": "code",
   "execution_count": 165,
   "metadata": {},
   "outputs": [],
   "source": [
    "mreordername, dfprobCL, color_dictclpn, dataclpn=SWAPLINEmain.prediction(mwanted_order=wanted_orderclpn ,  mclasses_names = mclasses_names, \n",
    "     mtrain_index = mtrain_index, net = net, mreorder_ix =mreorder_idx, \n",
    "                                            mprotogruop=protogruop,  mdf_train_set=df_train_setclpn, mcolor_dict=color_dictclpn, learninggroup=\"test\" )\n",
    "##RadarVisualization"
   ]
  },
  {
   "cell_type": "markdown",
   "metadata": {},
   "source": [
    "## Couturier2020_DevGBM"
   ]
  },
  {
   "cell_type": "code",
   "execution_count": 167,
   "metadata": {},
   "outputs": [],
   "source": [
    "import loompy"
   ]
  },
  {
   "cell_type": "code",
   "execution_count": 168,
   "metadata": {},
   "outputs": [
    {
     "name": "stdout",
     "output_type": "stream",
     "text": [
      "D:\\Dropbox\\data\\proj\\PE_HYZ\\PublicDataSet\\GBM_Couturier2020_DevGBM\n"
     ]
    }
   ],
   "source": [
    "cd D:\\Dropbox\\data\\proj\\PE_HYZ\\PublicDataSet\\GBM_Couturier2020_DevGBM"
   ]
  },
  {
   "cell_type": "code",
   "execution_count": 169,
   "metadata": {
    "scrolled": true
   },
   "outputs": [],
   "source": [
    "ds=loompy.connect(\"20210809FinalMatrixWithCluster.loom\")"
   ]
  },
  {
   "cell_type": "code",
   "execution_count": 170,
   "metadata": {},
   "outputs": [],
   "source": [
    "dfgbm=pd.DataFrame(ds[:,:])"
   ]
  },
  {
   "cell_type": "code",
   "execution_count": 171,
   "metadata": {},
   "outputs": [],
   "source": [
    "dfgbm.index=ds.ra[\"Gene\"]\n",
    "dfgbm.columns=ds.ca['CellID']\n",
    "dfgbm.loc[\"PatientID\"]=ds.ca['PatientID']\n",
    "dfgbm.loc[\"Cluster\"]=ds.ca['Cluster']"
   ]
  },
  {
   "cell_type": "code",
   "execution_count": 172,
   "metadata": {},
   "outputs": [],
   "source": [
    "dfclus=dfgbm.iloc[-2:,:]\n",
    "dfgbm=dfgbm.iloc[:-2,:].astype(float)"
   ]
  },
  {
   "cell_type": "code",
   "execution_count": 181,
   "metadata": {},
   "outputs": [
    {
     "name": "stderr",
     "output_type": "stream",
     "text": [
      "D:\\Dropbox\\data\\proj\\PE_HYZ\\BuidingCode\\ready_SWAPLINE\\prefiltering.py:322: FutureWarning: In a future version of pandas all arguments of DataFrame.dropna will be keyword-only.\n",
      "  scalegbm = dfpfc.div(dfpfc.std(1), axis=0).dropna(0)\n"
     ]
    }
   ],
   "source": [
    "#import prefilteringTest26\n",
    "df_train_setclpn, dfclpncol,protogruop=prefiltering.MVgene_Scaling(list_genes=None,dfpfc=dfgbm.astype(float),dfpfcclus=dfclus,mprotogruop=None,\n",
    "                                                      std_scaling=True,TPTT=10000,\n",
    "                   sharedMVgenes=mdf_train_set.index.tolist(), score=score, commongene=commongene, thrs=thrs,\n",
    "                                tftable=\"D:/Dropbox/data/proj/PE_HYZ/PublicDataSet/FantomTF2CLUSTER_human_official.txt\",  learninggroup=\"test\")"
   ]
  },
  {
   "cell_type": "code",
   "execution_count": 182,
   "metadata": {},
   "outputs": [],
   "source": [
    "wanted_orderclpn =['Astro', 'Mesenchymal', 'Neuronal', 'Oligo', 'Progenitor', 'Unassigned']\n",
    "#bool00clpn=array([True]*len(df_train_setclpn.columns))\n",
    "#reorder_ixclpn = [list(classes_namesclpn).index(i) for i in wanted_orderclpn]\n",
    "color_dictclpn = pd.Series({'Astro':  (100, 100, 240), 'Neuronal':   ( 0, 86,  255),\n",
    "              'Mesenchymal':  (55, 120, 55), 'Oligo': ( 255,185, 5), 'Unassigned':  (192,192,192),\n",
    "             'Progenitor':    (190, 0, 0)})"
   ]
  },
  {
   "cell_type": "code",
   "execution_count": 183,
   "metadata": {},
   "outputs": [],
   "source": [
    "mreordername, dfprobCL, color_dictclpn, dataclpn=SWAPLINEmain.prediction(mwanted_order=wanted_orderclpn ,  mclasses_names = mclasses_names, \n",
    "     mtrain_index = mtrain_index, net = net, mreorder_ix =mreorder_idx, \n",
    "                                            mprotogruop=protogruop,  mdf_train_set=df_train_setclpn, mcolor_dict=color_dictclpn, learninggroup=\"test\" )\n",
    "#RadarVisualization"
   ]
  },
  {
   "cell_type": "code",
   "execution_count": null,
   "metadata": {},
   "outputs": [],
   "source": []
  }
 ],
 "metadata": {
  "kernelspec": {
   "display_name": "Python 3",
   "language": "python",
   "name": "python3"
  },
  "language_info": {
   "codemirror_mode": {
    "name": "ipython",
    "version": 3
   },
   "file_extension": ".py",
   "mimetype": "text/x-python",
   "name": "python",
   "nbconvert_exporter": "python",
   "pygments_lexer": "ipython3",
   "version": "3.8.12"
  }
 },
 "nbformat": 4,
 "nbformat_minor": 2
}
