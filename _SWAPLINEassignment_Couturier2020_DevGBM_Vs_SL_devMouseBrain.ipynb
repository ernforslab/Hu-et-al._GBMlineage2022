{
 "cells": [
  {
   "cell_type": "code",
   "execution_count": 1,
   "metadata": {
    "scrolled": true
   },
   "outputs": [
    {
     "data": {
      "text/plain": [
       "'2022-03-01_18-16'"
      ]
     },
     "execution_count": 1,
     "metadata": {},
     "output_type": "execute_result"
    }
   ],
   "source": [
    "import datetime\n",
    "today=f\"{datetime.datetime.now():%Y-%m-%d_%H-%M}\"\n",
    "today"
   ]
  },
  {
   "cell_type": "code",
   "execution_count": 2,
   "metadata": {
    "scrolled": true
   },
   "outputs": [
    {
     "name": "stdout",
     "output_type": "stream",
     "text": [
      "Populating the interactive namespace from numpy and matplotlib\n"
     ]
    }
   ],
   "source": [
    "%pylab inline"
   ]
  },
  {
   "cell_type": "code",
   "execution_count": 3,
   "metadata": {},
   "outputs": [
    {
     "name": "stdout",
     "output_type": "stream",
     "text": [
      "Populating the interactive namespace from numpy and matplotlib\n"
     ]
    }
   ],
   "source": [
    "#imports\n",
    "import pandas as pd\n",
    "import pickle as pickle\n",
    "from scipy.spatial.distance import cdist, pdist, squareform\n",
    "#import backspinpy\n",
    "import pandas as pd\n",
    "from sklearn.linear_model import LogisticRegression, LogisticRegressionCV\n",
    "from sklearn.model_selection import StratifiedShuffleSplit  \n",
    "from collections import defaultdict\n",
    "from sklearn import preprocessing\n",
    "import matplotlib.patches as mpatches\n",
    "from numba import jit\n",
    "#from .computeElasticPrincipalGraph import computeElasticPrincipalGraph\n",
    "\n",
    "%pylab inline"
   ]
  },
  {
   "cell_type": "code",
   "execution_count": 9,
   "metadata": {
    "scrolled": true
   },
   "outputs": [
    {
     "name": "stdout",
     "output_type": "stream",
     "text": [
      "D:\\Dropbox\\data\\proj\\PE_HYZ\\PublicDataSet\\GBM_Couturier2020_DevGBM\n"
     ]
    }
   ],
   "source": [
    "cd D:\\Dropbox\\data\\proj\\PE_HYZ\\PublicDataSet\\GBM_Couturier2020_DevGBM"
   ]
  },
  {
   "cell_type": "code",
   "execution_count": 10,
   "metadata": {},
   "outputs": [],
   "source": [
    "import loompy"
   ]
  },
  {
   "cell_type": "code",
   "execution_count": 11,
   "metadata": {},
   "outputs": [],
   "source": [
    "ds=loompy.connect(\"2021-08-16_17-03_NewRef_Couturier2020_DevGBM_Vs_SL_devMouseBrain_normalizedExprMatrix.loom\")"
   ]
  },
  {
   "cell_type": "code",
   "execution_count": 14,
   "metadata": {},
   "outputs": [
    {
     "data": {
      "text/plain": [
       "(1943, 50304)"
      ]
     },
     "execution_count": 14,
     "metadata": {},
     "output_type": "execute_result"
    }
   ],
   "source": [
    "df=pd.DataFrame(ds[:,:])\n",
    "df.columns=ds.ca['CellID']\n",
    "df.index=ds.ra['Gene']\n",
    "df.shape"
   ]
  },
  {
   "cell_type": "code",
   "execution_count": null,
   "metadata": {},
   "outputs": [],
   "source": []
  },
  {
   "cell_type": "code",
   "execution_count": 18,
   "metadata": {
    "scrolled": false
   },
   "outputs": [
    {
     "name": "stdout",
     "output_type": "stream",
     "text": [
      "D:\\Dropbox\\data\\proj\\PE_HYZ\\PublicDataSet\\GBM_Couturier2020_DevGBM\n"
     ]
    }
   ],
   "source": [
    "cd D:\\Dropbox\\data\\proj\\PE_HYZ\\PublicDataSet\\GBM_Couturier2020_DevGBM"
   ]
  },
  {
   "cell_type": "code",
   "execution_count": 19,
   "metadata": {},
   "outputs": [],
   "source": [
    "ds=loompy.connect(\"20210809FinalMatrixWithCluster.loom\")"
   ]
  },
  {
   "cell_type": "code",
   "execution_count": 20,
   "metadata": {},
   "outputs": [
    {
     "data": {
      "text/plain": [
       "(33660, 18475)"
      ]
     },
     "execution_count": 20,
     "metadata": {},
     "output_type": "execute_result"
    }
   ],
   "source": [
    "ds.shape"
   ]
  },
  {
   "cell_type": "code",
   "execution_count": null,
   "metadata": {},
   "outputs": [],
   "source": []
  },
  {
   "cell_type": "code",
   "execution_count": 21,
   "metadata": {},
   "outputs": [],
   "source": [
    "dfgbm=pd.DataFrame(ds[:,:])\n",
    "dfgbm.index=ds.ra[\"Gene\"]\n",
    "dfgbm.columns=ds.ca['CellID']\n",
    "#dfgbm.loc[\"PatientID\"]=ds.ca['PatientID']\n",
    "dfgbm.loc[\"Cluster\"]=ds.ca['Cluster']"
   ]
  },
  {
   "cell_type": "code",
   "execution_count": 25,
   "metadata": {
    "scrolled": true
   },
   "outputs": [
    {
     "data": {
      "text/plain": [
       "(33661, 18475)"
      ]
     },
     "execution_count": 25,
     "metadata": {},
     "output_type": "execute_result"
    }
   ],
   "source": [
    "dfgbm.shape"
   ]
  },
  {
   "cell_type": "code",
   "execution_count": 28,
   "metadata": {},
   "outputs": [],
   "source": [
    "dfclus=dfgbm.iloc[-2:,:]\n",
    "dfgbm=dfgbm.iloc[:-1,:].astype(float)"
   ]
  },
  {
   "cell_type": "code",
   "execution_count": 32,
   "metadata": {},
   "outputs": [
    {
     "data": {
      "text/html": [
       "<div>\n",
       "<style scoped>\n",
       "    .dataframe tbody tr th:only-of-type {\n",
       "        vertical-align: middle;\n",
       "    }\n",
       "\n",
       "    .dataframe tbody tr th {\n",
       "        vertical-align: top;\n",
       "    }\n",
       "\n",
       "    .dataframe thead th {\n",
       "        text-align: right;\n",
       "    }\n",
       "</style>\n",
       "<table border=\"1\" class=\"dataframe\">\n",
       "  <thead>\n",
       "    <tr style=\"text-align: right;\">\n",
       "      <th></th>\n",
       "      <th>N10_TACGGATCACCAACCG-1</th>\n",
       "      <th>N10_TACGGATCACCCAGTG-1</th>\n",
       "      <th>N10_TCAGCTCAGAGCTGCA-1</th>\n",
       "      <th>N10_CGTTGGGGTCAACATC-1</th>\n",
       "      <th>N10_AACCGCGGTACTTCTT-1</th>\n",
       "      <th>N10_ATAGACCGTCAAAGCG-1</th>\n",
       "      <th>N10_AAACCTGCACGAGAGT-1</th>\n",
       "      <th>N10_TATTACCAGAGACGAA-1</th>\n",
       "      <th>N10_GAATGAATCGAGAACG-1</th>\n",
       "      <th>N10_GTAGGCCCATAGGATA-1</th>\n",
       "      <th>...</th>\n",
       "      <th>N9_ATAAGAGTCCGTAGTA-1</th>\n",
       "      <th>N9_CCTTACGTCAGCGATT-1</th>\n",
       "      <th>N9_GAATAAGCACGGTGTC-1</th>\n",
       "      <th>N9_ACGCCAGGTAGGGACT-1</th>\n",
       "      <th>N9_CCTACACTCTGCCAGG-1</th>\n",
       "      <th>N9_TGTATTCGTAGAAAGG-1</th>\n",
       "      <th>N9_CGTTCTGAGTTACGGG-1</th>\n",
       "      <th>N9_CGTAGCGCAAGGTGTG-1</th>\n",
       "      <th>N9_GTTCATTGTCCCTTGT-1</th>\n",
       "      <th>N9_AACTGGTCACATAACC-1</th>\n",
       "    </tr>\n",
       "  </thead>\n",
       "  <tbody>\n",
       "    <tr>\n",
       "      <th>Cluster</th>\n",
       "      <td>Neuronal</td>\n",
       "      <td>Neuronal</td>\n",
       "      <td>Oligo</td>\n",
       "      <td>Progenitor</td>\n",
       "      <td>Unassigned</td>\n",
       "      <td>Neuronal</td>\n",
       "      <td>Neuronal</td>\n",
       "      <td>Progenitor</td>\n",
       "      <td>Unassigned</td>\n",
       "      <td>Progenitor</td>\n",
       "      <td>...</td>\n",
       "      <td>Astro</td>\n",
       "      <td>Astro</td>\n",
       "      <td>Mesenchymal</td>\n",
       "      <td>Unassigned</td>\n",
       "      <td>Mesenchymal</td>\n",
       "      <td>Unassigned</td>\n",
       "      <td>Mesenchymal</td>\n",
       "      <td>Mesenchymal</td>\n",
       "      <td>Unassigned</td>\n",
       "      <td>Mesenchymal</td>\n",
       "    </tr>\n",
       "  </tbody>\n",
       "</table>\n",
       "<p>1 rows × 18475 columns</p>\n",
       "</div>"
      ],
      "text/plain": [
       "        N10_TACGGATCACCAACCG-1 N10_TACGGATCACCCAGTG-1 N10_TCAGCTCAGAGCTGCA-1  \\\n",
       "Cluster               Neuronal               Neuronal                  Oligo   \n",
       "\n",
       "        N10_CGTTGGGGTCAACATC-1 N10_AACCGCGGTACTTCTT-1 N10_ATAGACCGTCAAAGCG-1  \\\n",
       "Cluster             Progenitor             Unassigned               Neuronal   \n",
       "\n",
       "        N10_AAACCTGCACGAGAGT-1 N10_TATTACCAGAGACGAA-1 N10_GAATGAATCGAGAACG-1  \\\n",
       "Cluster               Neuronal             Progenitor             Unassigned   \n",
       "\n",
       "        N10_GTAGGCCCATAGGATA-1  ... N9_ATAAGAGTCCGTAGTA-1  \\\n",
       "Cluster             Progenitor  ...                 Astro   \n",
       "\n",
       "        N9_CCTTACGTCAGCGATT-1 N9_GAATAAGCACGGTGTC-1 N9_ACGCCAGGTAGGGACT-1  \\\n",
       "Cluster                 Astro           Mesenchymal            Unassigned   \n",
       "\n",
       "        N9_CCTACACTCTGCCAGG-1 N9_TGTATTCGTAGAAAGG-1 N9_CGTTCTGAGTTACGGG-1  \\\n",
       "Cluster           Mesenchymal            Unassigned           Mesenchymal   \n",
       "\n",
       "        N9_CGTAGCGCAAGGTGTG-1 N9_GTTCATTGTCCCTTGT-1 N9_AACTGGTCACATAACC-1  \n",
       "Cluster           Mesenchymal            Unassigned           Mesenchymal  \n",
       "\n",
       "[1 rows x 18475 columns]"
      ]
     },
     "execution_count": 32,
     "metadata": {},
     "output_type": "execute_result"
    }
   ],
   "source": [
    "dfgbmclus=dfclus.iloc[-1:,:]\n",
    "##dfgbm=dfgbm.iloc[:-1,:]\n",
    "dfgbmclus"
   ]
  },
  {
   "cell_type": "code",
   "execution_count": 33,
   "metadata": {
    "scrolled": false
   },
   "outputs": [
    {
     "name": "stdout",
     "output_type": "stream",
     "text": [
      "d:\\Dropbox\\data\\proj\\PE_HYZ\\PublicDataSet\\Developmental_mouse brain\n"
     ]
    }
   ],
   "source": [
    "cd d:/Dropbox/data/proj/PE_HYZ/PublicDataSet/Developmental_mouse brain"
   ]
  },
  {
   "cell_type": "code",
   "execution_count": 34,
   "metadata": {},
   "outputs": [],
   "source": [
    "dfposi=pd.read_table(\"20201111_MouseBrainAtlas_SL_metaInfo.tab\",\n",
    "                 index_col=0, header=0, sep=\"\\t\")"
   ]
  },
  {
   "cell_type": "code",
   "execution_count": 35,
   "metadata": {},
   "outputs": [
    {
     "data": {
      "text/html": [
       "<div>\n",
       "<style scoped>\n",
       "    .dataframe tbody tr th:only-of-type {\n",
       "        vertical-align: middle;\n",
       "    }\n",
       "\n",
       "    .dataframe tbody tr th {\n",
       "        vertical-align: top;\n",
       "    }\n",
       "\n",
       "    .dataframe thead th {\n",
       "        text-align: right;\n",
       "    }\n",
       "</style>\n",
       "<table border=\"1\" class=\"dataframe\">\n",
       "  <thead>\n",
       "    <tr style=\"text-align: right;\">\n",
       "      <th></th>\n",
       "      <th>Cluster</th>\n",
       "      <th>ClusterName</th>\n",
       "      <th>Region</th>\n",
       "      <th>PseudoAge</th>\n",
       "      <th>TSNE_X</th>\n",
       "      <th>TSNE_Y</th>\n",
       "      <th>UMAP_X</th>\n",
       "      <th>UMAP_Y</th>\n",
       "      <th>BTSNE_X</th>\n",
       "      <th>BTSNE_Y</th>\n",
       "      <th>UMAP3D_X</th>\n",
       "      <th>UMAP3D_Y</th>\n",
       "      <th>UMAP3D_Z</th>\n",
       "    </tr>\n",
       "  </thead>\n",
       "  <tbody>\n",
       "    <tr>\n",
       "      <th>10X25_3_A_1:TTGGTACTGGGACAx</th>\n",
       "      <td>Neural_crest</td>\n",
       "      <td>634</td>\n",
       "      <td>Midbrain</td>\n",
       "      <td>9.505</td>\n",
       "      <td>-25.900671</td>\n",
       "      <td>-6.408116</td>\n",
       "      <td>6.208536</td>\n",
       "      <td>7.370287</td>\n",
       "      <td>-56.705326</td>\n",
       "      <td>-15.175609</td>\n",
       "      <td>2.873503</td>\n",
       "      <td>3.853158</td>\n",
       "      <td>-6.144522</td>\n",
       "    </tr>\n",
       "    <tr>\n",
       "      <th>10X27_3_A_1:TATCAGCTCTTGCCx</th>\n",
       "      <td>Neural_crest</td>\n",
       "      <td>634</td>\n",
       "      <td>Midbrain</td>\n",
       "      <td>9.540</td>\n",
       "      <td>-26.354128</td>\n",
       "      <td>-1.820086</td>\n",
       "      <td>5.459467</td>\n",
       "      <td>8.159930</td>\n",
       "      <td>-55.292125</td>\n",
       "      <td>-10.095811</td>\n",
       "      <td>1.731046</td>\n",
       "      <td>3.764495</td>\n",
       "      <td>-6.431027</td>\n",
       "    </tr>\n",
       "    <tr>\n",
       "      <th>10X27_3_A_1:AACCAGTGCTCAGAx</th>\n",
       "      <td>Neural_crest</td>\n",
       "      <td>634</td>\n",
       "      <td>Midbrain</td>\n",
       "      <td>9.930</td>\n",
       "      <td>-26.986095</td>\n",
       "      <td>-7.087025</td>\n",
       "      <td>6.572917</td>\n",
       "      <td>7.498238</td>\n",
       "      <td>-61.365980</td>\n",
       "      <td>-15.862534</td>\n",
       "      <td>3.126918</td>\n",
       "      <td>3.940230</td>\n",
       "      <td>-6.405674</td>\n",
       "    </tr>\n",
       "    <tr>\n",
       "      <th>10X27_3_A_1:CTAGTTTGCCTGAAx</th>\n",
       "      <td>Neural_crest</td>\n",
       "      <td>634</td>\n",
       "      <td>Midbrain</td>\n",
       "      <td>10.230</td>\n",
       "      <td>-27.583021</td>\n",
       "      <td>-6.904059</td>\n",
       "      <td>6.436008</td>\n",
       "      <td>7.521403</td>\n",
       "      <td>-62.872862</td>\n",
       "      <td>-14.369149</td>\n",
       "      <td>2.961187</td>\n",
       "      <td>4.019217</td>\n",
       "      <td>-6.277933</td>\n",
       "    </tr>\n",
       "    <tr>\n",
       "      <th>10X27_3_A_1:GTAGACTGGGATCTx</th>\n",
       "      <td>Neural_crest</td>\n",
       "      <td>634</td>\n",
       "      <td>Midbrain</td>\n",
       "      <td>10.635</td>\n",
       "      <td>-26.837190</td>\n",
       "      <td>-8.949903</td>\n",
       "      <td>6.671855</td>\n",
       "      <td>7.109936</td>\n",
       "      <td>-64.516093</td>\n",
       "      <td>-16.561974</td>\n",
       "      <td>3.474845</td>\n",
       "      <td>3.712845</td>\n",
       "      <td>-6.309426</td>\n",
       "    </tr>\n",
       "  </tbody>\n",
       "</table>\n",
       "</div>"
      ],
      "text/plain": [
       "                                  Cluster  ClusterName    Region  PseudoAge  \\\n",
       "10X25_3_A_1:TTGGTACTGGGACAx  Neural_crest          634  Midbrain      9.505   \n",
       "10X27_3_A_1:TATCAGCTCTTGCCx  Neural_crest          634  Midbrain      9.540   \n",
       "10X27_3_A_1:AACCAGTGCTCAGAx  Neural_crest          634  Midbrain      9.930   \n",
       "10X27_3_A_1:CTAGTTTGCCTGAAx  Neural_crest          634  Midbrain     10.230   \n",
       "10X27_3_A_1:GTAGACTGGGATCTx  Neural_crest          634  Midbrain     10.635   \n",
       "\n",
       "                                TSNE_X    TSNE_Y    UMAP_X    UMAP_Y  \\\n",
       "10X25_3_A_1:TTGGTACTGGGACAx -25.900671 -6.408116  6.208536  7.370287   \n",
       "10X27_3_A_1:TATCAGCTCTTGCCx -26.354128 -1.820086  5.459467  8.159930   \n",
       "10X27_3_A_1:AACCAGTGCTCAGAx -26.986095 -7.087025  6.572917  7.498238   \n",
       "10X27_3_A_1:CTAGTTTGCCTGAAx -27.583021 -6.904059  6.436008  7.521403   \n",
       "10X27_3_A_1:GTAGACTGGGATCTx -26.837190 -8.949903  6.671855  7.109936   \n",
       "\n",
       "                               BTSNE_X    BTSNE_Y  UMAP3D_X  UMAP3D_Y  \\\n",
       "10X25_3_A_1:TTGGTACTGGGACAx -56.705326 -15.175609  2.873503  3.853158   \n",
       "10X27_3_A_1:TATCAGCTCTTGCCx -55.292125 -10.095811  1.731046  3.764495   \n",
       "10X27_3_A_1:AACCAGTGCTCAGAx -61.365980 -15.862534  3.126918  3.940230   \n",
       "10X27_3_A_1:CTAGTTTGCCTGAAx -62.872862 -14.369149  2.961187  4.019217   \n",
       "10X27_3_A_1:GTAGACTGGGATCTx -64.516093 -16.561974  3.474845  3.712845   \n",
       "\n",
       "                             UMAP3D_Z  \n",
       "10X25_3_A_1:TTGGTACTGGGACAx -6.144522  \n",
       "10X27_3_A_1:TATCAGCTCTTGCCx -6.431027  \n",
       "10X27_3_A_1:AACCAGTGCTCAGAx -6.405674  \n",
       "10X27_3_A_1:CTAGTTTGCCTGAAx -6.277933  \n",
       "10X27_3_A_1:GTAGACTGGGATCTx -6.309426  "
      ]
     },
     "execution_count": 35,
     "metadata": {},
     "output_type": "execute_result"
    }
   ],
   "source": [
    "dfposi.head()"
   ]
  },
  {
   "cell_type": "code",
   "execution_count": 36,
   "metadata": {},
   "outputs": [
    {
     "data": {
      "text/plain": [
       "(3, 127326)"
      ]
     },
     "execution_count": 36,
     "metadata": {},
     "output_type": "execute_result"
    }
   ],
   "source": [
    "dfpfcclus=dfposi.T.loc[[\"Cluster\",\"TSNE_X\",\"TSNE_Y\"]]\n",
    "dfpfcclus.shape"
   ]
  },
  {
   "cell_type": "code",
   "execution_count": 37,
   "metadata": {},
   "outputs": [
    {
     "data": {
      "text/plain": [
       "{'BTSNE_X',\n",
       " 'BTSNE_Y',\n",
       " 'Cluster',\n",
       " 'ClusterName',\n",
       " 'PseudoAge',\n",
       " 'Region',\n",
       " 'TSNE_X',\n",
       " 'TSNE_Y',\n",
       " 'UMAP3D_X',\n",
       " 'UMAP3D_Y',\n",
       " 'UMAP3D_Z',\n",
       " 'UMAP_X',\n",
       " 'UMAP_Y'}"
      ]
     },
     "execution_count": 37,
     "metadata": {},
     "output_type": "execute_result"
    }
   ],
   "source": [
    "set(dfposi)"
   ]
  },
  {
   "cell_type": "code",
   "execution_count": 38,
   "metadata": {},
   "outputs": [
    {
     "data": {
      "text/plain": [
       "127326"
      ]
     },
     "execution_count": 38,
     "metadata": {},
     "output_type": "execute_result"
    }
   ],
   "source": [
    "proto = pd.Series({'Choroid plexus':'Choroid plexus',\n",
    " 'Early Neural Tube': 'Neural_tube',\n",
    "                    'Neural_tube': 'Neural_tube',\n",
    "                   'Neural Tube': 'NT',\n",
    " 'Ectoderm':'Ectoderm',\n",
    " 'Fibroblast':'VLMC',\n",
    "                   'VLMC':'VLMC',\n",
    "                    'NT/Rgl': 'NT/Rgl',\n",
    " 'Glia': 'Glia',\n",
    " 'Neural crest': 'Neural_crest',\n",
    "                    'Neural_crest': 'Neural_crest',\n",
    " 'Neuron':'Neuron',\n",
    " 'OPCs': 'OPCs',\n",
    " 'Radial glia':  'Rgl',\n",
    "                   'Rgl':'Rgl',\n",
    " 'Vascular':'Pericyte/SMC',\n",
    "                   'PeriV_Mural':'Pericyte/SMC',\n",
    "                   'Pericyte/SMC':'Pericyte/SMC',\n",
    "       })\n",
    "\n",
    "\n",
    "posict_dev = dfposi['Cluster'].values\n",
    "posiprotogruop = proto.loc[posict_dev].values\n",
    "len(posiprotogruop)"
   ]
  },
  {
   "cell_type": "code",
   "execution_count": 39,
   "metadata": {
    "scrolled": true
   },
   "outputs": [
    {
     "data": {
      "text/plain": [
       "{'Choroid plexus',\n",
       " 'Ectoderm',\n",
       " 'Glia',\n",
       " 'Neural_crest',\n",
       " 'Neural_tube',\n",
       " 'Neuron',\n",
       " 'OPCs',\n",
       " 'Pericyte/SMC',\n",
       " 'Rgl',\n",
       " 'VLMC'}"
      ]
     },
     "execution_count": 39,
     "metadata": {},
     "output_type": "execute_result"
    }
   ],
   "source": [
    "set(posiprotogruop)"
   ]
  },
  {
   "cell_type": "code",
   "execution_count": 40,
   "metadata": {},
   "outputs": [],
   "source": [
    "dfposi['Cluster']=posiprotogruop"
   ]
  },
  {
   "cell_type": "code",
   "execution_count": 41,
   "metadata": {
    "scrolled": true
   },
   "outputs": [
    {
     "data": {
      "text/html": [
       "<div>\n",
       "<style scoped>\n",
       "    .dataframe tbody tr th:only-of-type {\n",
       "        vertical-align: middle;\n",
       "    }\n",
       "\n",
       "    .dataframe tbody tr th {\n",
       "        vertical-align: top;\n",
       "    }\n",
       "\n",
       "    .dataframe thead th {\n",
       "        text-align: right;\n",
       "    }\n",
       "</style>\n",
       "<table border=\"1\" class=\"dataframe\">\n",
       "  <thead>\n",
       "    <tr style=\"text-align: right;\">\n",
       "      <th></th>\n",
       "      <th>Cluster</th>\n",
       "      <th>ClusterName</th>\n",
       "      <th>Region</th>\n",
       "      <th>PseudoAge</th>\n",
       "      <th>TSNE_X</th>\n",
       "      <th>TSNE_Y</th>\n",
       "      <th>UMAP_X</th>\n",
       "      <th>UMAP_Y</th>\n",
       "      <th>BTSNE_X</th>\n",
       "      <th>BTSNE_Y</th>\n",
       "      <th>UMAP3D_X</th>\n",
       "      <th>UMAP3D_Y</th>\n",
       "      <th>UMAP3D_Z</th>\n",
       "    </tr>\n",
       "  </thead>\n",
       "  <tbody>\n",
       "    <tr>\n",
       "      <th>10X25_3_A_1:TTGGTACTGGGACAx</th>\n",
       "      <td>Neural_crest</td>\n",
       "      <td>634</td>\n",
       "      <td>Midbrain</td>\n",
       "      <td>9.505</td>\n",
       "      <td>-25.900671</td>\n",
       "      <td>-6.408116</td>\n",
       "      <td>6.208536</td>\n",
       "      <td>7.370287</td>\n",
       "      <td>-56.705326</td>\n",
       "      <td>-15.175609</td>\n",
       "      <td>2.873503</td>\n",
       "      <td>3.853158</td>\n",
       "      <td>-6.144522</td>\n",
       "    </tr>\n",
       "    <tr>\n",
       "      <th>10X27_3_A_1:TATCAGCTCTTGCCx</th>\n",
       "      <td>Neural_crest</td>\n",
       "      <td>634</td>\n",
       "      <td>Midbrain</td>\n",
       "      <td>9.540</td>\n",
       "      <td>-26.354128</td>\n",
       "      <td>-1.820086</td>\n",
       "      <td>5.459467</td>\n",
       "      <td>8.159930</td>\n",
       "      <td>-55.292125</td>\n",
       "      <td>-10.095811</td>\n",
       "      <td>1.731046</td>\n",
       "      <td>3.764495</td>\n",
       "      <td>-6.431027</td>\n",
       "    </tr>\n",
       "    <tr>\n",
       "      <th>10X27_3_A_1:AACCAGTGCTCAGAx</th>\n",
       "      <td>Neural_crest</td>\n",
       "      <td>634</td>\n",
       "      <td>Midbrain</td>\n",
       "      <td>9.930</td>\n",
       "      <td>-26.986095</td>\n",
       "      <td>-7.087025</td>\n",
       "      <td>6.572917</td>\n",
       "      <td>7.498238</td>\n",
       "      <td>-61.365980</td>\n",
       "      <td>-15.862534</td>\n",
       "      <td>3.126918</td>\n",
       "      <td>3.940230</td>\n",
       "      <td>-6.405674</td>\n",
       "    </tr>\n",
       "    <tr>\n",
       "      <th>10X27_3_A_1:CTAGTTTGCCTGAAx</th>\n",
       "      <td>Neural_crest</td>\n",
       "      <td>634</td>\n",
       "      <td>Midbrain</td>\n",
       "      <td>10.230</td>\n",
       "      <td>-27.583021</td>\n",
       "      <td>-6.904059</td>\n",
       "      <td>6.436008</td>\n",
       "      <td>7.521403</td>\n",
       "      <td>-62.872862</td>\n",
       "      <td>-14.369149</td>\n",
       "      <td>2.961187</td>\n",
       "      <td>4.019217</td>\n",
       "      <td>-6.277933</td>\n",
       "    </tr>\n",
       "    <tr>\n",
       "      <th>10X27_3_A_1:GTAGACTGGGATCTx</th>\n",
       "      <td>Neural_crest</td>\n",
       "      <td>634</td>\n",
       "      <td>Midbrain</td>\n",
       "      <td>10.635</td>\n",
       "      <td>-26.837190</td>\n",
       "      <td>-8.949903</td>\n",
       "      <td>6.671855</td>\n",
       "      <td>7.109936</td>\n",
       "      <td>-64.516093</td>\n",
       "      <td>-16.561974</td>\n",
       "      <td>3.474845</td>\n",
       "      <td>3.712845</td>\n",
       "      <td>-6.309426</td>\n",
       "    </tr>\n",
       "  </tbody>\n",
       "</table>\n",
       "</div>"
      ],
      "text/plain": [
       "                                  Cluster  ClusterName    Region  PseudoAge  \\\n",
       "10X25_3_A_1:TTGGTACTGGGACAx  Neural_crest          634  Midbrain      9.505   \n",
       "10X27_3_A_1:TATCAGCTCTTGCCx  Neural_crest          634  Midbrain      9.540   \n",
       "10X27_3_A_1:AACCAGTGCTCAGAx  Neural_crest          634  Midbrain      9.930   \n",
       "10X27_3_A_1:CTAGTTTGCCTGAAx  Neural_crest          634  Midbrain     10.230   \n",
       "10X27_3_A_1:GTAGACTGGGATCTx  Neural_crest          634  Midbrain     10.635   \n",
       "\n",
       "                                TSNE_X    TSNE_Y    UMAP_X    UMAP_Y  \\\n",
       "10X25_3_A_1:TTGGTACTGGGACAx -25.900671 -6.408116  6.208536  7.370287   \n",
       "10X27_3_A_1:TATCAGCTCTTGCCx -26.354128 -1.820086  5.459467  8.159930   \n",
       "10X27_3_A_1:AACCAGTGCTCAGAx -26.986095 -7.087025  6.572917  7.498238   \n",
       "10X27_3_A_1:CTAGTTTGCCTGAAx -27.583021 -6.904059  6.436008  7.521403   \n",
       "10X27_3_A_1:GTAGACTGGGATCTx -26.837190 -8.949903  6.671855  7.109936   \n",
       "\n",
       "                               BTSNE_X    BTSNE_Y  UMAP3D_X  UMAP3D_Y  \\\n",
       "10X25_3_A_1:TTGGTACTGGGACAx -56.705326 -15.175609  2.873503  3.853158   \n",
       "10X27_3_A_1:TATCAGCTCTTGCCx -55.292125 -10.095811  1.731046  3.764495   \n",
       "10X27_3_A_1:AACCAGTGCTCAGAx -61.365980 -15.862534  3.126918  3.940230   \n",
       "10X27_3_A_1:CTAGTTTGCCTGAAx -62.872862 -14.369149  2.961187  4.019217   \n",
       "10X27_3_A_1:GTAGACTGGGATCTx -64.516093 -16.561974  3.474845  3.712845   \n",
       "\n",
       "                             UMAP3D_Z  \n",
       "10X25_3_A_1:TTGGTACTGGGACAx -6.144522  \n",
       "10X27_3_A_1:TATCAGCTCTTGCCx -6.431027  \n",
       "10X27_3_A_1:AACCAGTGCTCAGAx -6.405674  \n",
       "10X27_3_A_1:CTAGTTTGCCTGAAx -6.277933  \n",
       "10X27_3_A_1:GTAGACTGGGATCTx -6.309426  "
      ]
     },
     "execution_count": 41,
     "metadata": {},
     "output_type": "execute_result"
    }
   ],
   "source": [
    "dfposi.head()"
   ]
  },
  {
   "cell_type": "code",
   "execution_count": 43,
   "metadata": {
    "scrolled": true
   },
   "outputs": [
    {
     "data": {
      "text/plain": [
       "(50304, 1943)"
      ]
     },
     "execution_count": 43,
     "metadata": {},
     "output_type": "execute_result"
    }
   ],
   "source": [
    "dfnn =df.T\n",
    "dfnn.shape"
   ]
  },
  {
   "cell_type": "code",
   "execution_count": 44,
   "metadata": {
    "scrolled": true
   },
   "outputs": [
    {
     "data": {
      "text/html": [
       "<div>\n",
       "<style scoped>\n",
       "    .dataframe tbody tr th:only-of-type {\n",
       "        vertical-align: middle;\n",
       "    }\n",
       "\n",
       "    .dataframe tbody tr th {\n",
       "        vertical-align: top;\n",
       "    }\n",
       "\n",
       "    .dataframe thead th {\n",
       "        text-align: right;\n",
       "    }\n",
       "</style>\n",
       "<table border=\"1\" class=\"dataframe\">\n",
       "  <thead>\n",
       "    <tr style=\"text-align: right;\">\n",
       "      <th></th>\n",
       "      <th>SPON2</th>\n",
       "      <th>IL1R1</th>\n",
       "      <th>PLP1</th>\n",
       "      <th>NEUROD6</th>\n",
       "      <th>DDA1</th>\n",
       "      <th>OCLN</th>\n",
       "      <th>CAPN5</th>\n",
       "      <th>HESX1</th>\n",
       "      <th>NRN1</th>\n",
       "      <th>TP53I11</th>\n",
       "      <th>...</th>\n",
       "      <th>CHRD</th>\n",
       "      <th>CLDN3</th>\n",
       "      <th>LMCD1</th>\n",
       "      <th>NRXN1</th>\n",
       "      <th>TBX18</th>\n",
       "      <th>LBP</th>\n",
       "      <th>PMM1</th>\n",
       "      <th>TUBB3</th>\n",
       "      <th>COL1A2</th>\n",
       "      <th>HTR2C</th>\n",
       "    </tr>\n",
       "  </thead>\n",
       "  <tbody>\n",
       "    <tr>\n",
       "      <th>10X73_6_A_1:CTTGTATGGCTAACx</th>\n",
       "      <td>0</td>\n",
       "      <td>0</td>\n",
       "      <td>0</td>\n",
       "      <td>0</td>\n",
       "      <td>0</td>\n",
       "      <td>0</td>\n",
       "      <td>0</td>\n",
       "      <td>0</td>\n",
       "      <td>0</td>\n",
       "      <td>0</td>\n",
       "      <td>...</td>\n",
       "      <td>0</td>\n",
       "      <td>0</td>\n",
       "      <td>0</td>\n",
       "      <td>0</td>\n",
       "      <td>0</td>\n",
       "      <td>0</td>\n",
       "      <td>0</td>\n",
       "      <td>0</td>\n",
       "      <td>0</td>\n",
       "      <td>2</td>\n",
       "    </tr>\n",
       "    <tr>\n",
       "      <th>10X18_2_A_1:GATAAGGAAGGTCTx</th>\n",
       "      <td>0</td>\n",
       "      <td>0</td>\n",
       "      <td>0</td>\n",
       "      <td>0</td>\n",
       "      <td>0</td>\n",
       "      <td>0</td>\n",
       "      <td>0</td>\n",
       "      <td>0</td>\n",
       "      <td>0</td>\n",
       "      <td>0</td>\n",
       "      <td>...</td>\n",
       "      <td>0</td>\n",
       "      <td>0</td>\n",
       "      <td>0</td>\n",
       "      <td>0</td>\n",
       "      <td>0</td>\n",
       "      <td>0</td>\n",
       "      <td>0</td>\n",
       "      <td>0</td>\n",
       "      <td>0</td>\n",
       "      <td>1</td>\n",
       "    </tr>\n",
       "    <tr>\n",
       "      <th>10X18_2_A_1:TATACAGATGTCGAx</th>\n",
       "      <td>0</td>\n",
       "      <td>0</td>\n",
       "      <td>0</td>\n",
       "      <td>0</td>\n",
       "      <td>0</td>\n",
       "      <td>0</td>\n",
       "      <td>0</td>\n",
       "      <td>0</td>\n",
       "      <td>0</td>\n",
       "      <td>0</td>\n",
       "      <td>...</td>\n",
       "      <td>0</td>\n",
       "      <td>0</td>\n",
       "      <td>0</td>\n",
       "      <td>0</td>\n",
       "      <td>0</td>\n",
       "      <td>0</td>\n",
       "      <td>0</td>\n",
       "      <td>0</td>\n",
       "      <td>0</td>\n",
       "      <td>2</td>\n",
       "    </tr>\n",
       "    <tr>\n",
       "      <th>10X73_6_A_1:AGAGCGGAACTGTGx</th>\n",
       "      <td>0</td>\n",
       "      <td>0</td>\n",
       "      <td>0</td>\n",
       "      <td>0</td>\n",
       "      <td>0</td>\n",
       "      <td>0</td>\n",
       "      <td>0</td>\n",
       "      <td>0</td>\n",
       "      <td>0</td>\n",
       "      <td>0</td>\n",
       "      <td>...</td>\n",
       "      <td>0</td>\n",
       "      <td>0</td>\n",
       "      <td>0</td>\n",
       "      <td>0</td>\n",
       "      <td>0</td>\n",
       "      <td>0</td>\n",
       "      <td>0</td>\n",
       "      <td>0</td>\n",
       "      <td>0</td>\n",
       "      <td>1</td>\n",
       "    </tr>\n",
       "    <tr>\n",
       "      <th>10X70_6_A_1:ATACTCTGCAGTTGx</th>\n",
       "      <td>0</td>\n",
       "      <td>0</td>\n",
       "      <td>0</td>\n",
       "      <td>0</td>\n",
       "      <td>0</td>\n",
       "      <td>0</td>\n",
       "      <td>0</td>\n",
       "      <td>0</td>\n",
       "      <td>0</td>\n",
       "      <td>0</td>\n",
       "      <td>...</td>\n",
       "      <td>0</td>\n",
       "      <td>0</td>\n",
       "      <td>0</td>\n",
       "      <td>0</td>\n",
       "      <td>0</td>\n",
       "      <td>0</td>\n",
       "      <td>0</td>\n",
       "      <td>0</td>\n",
       "      <td>0</td>\n",
       "      <td>1</td>\n",
       "    </tr>\n",
       "  </tbody>\n",
       "</table>\n",
       "<p>5 rows × 1943 columns</p>\n",
       "</div>"
      ],
      "text/plain": [
       "                             SPON2  IL1R1  PLP1  NEUROD6  DDA1  OCLN  CAPN5  \\\n",
       "10X73_6_A_1:CTTGTATGGCTAACx      0      0     0        0     0     0      0   \n",
       "10X18_2_A_1:GATAAGGAAGGTCTx      0      0     0        0     0     0      0   \n",
       "10X18_2_A_1:TATACAGATGTCGAx      0      0     0        0     0     0      0   \n",
       "10X73_6_A_1:AGAGCGGAACTGTGx      0      0     0        0     0     0      0   \n",
       "10X70_6_A_1:ATACTCTGCAGTTGx      0      0     0        0     0     0      0   \n",
       "\n",
       "                             HESX1  NRN1  TP53I11  ...  CHRD  CLDN3  LMCD1  \\\n",
       "10X73_6_A_1:CTTGTATGGCTAACx      0     0        0  ...     0      0      0   \n",
       "10X18_2_A_1:GATAAGGAAGGTCTx      0     0        0  ...     0      0      0   \n",
       "10X18_2_A_1:TATACAGATGTCGAx      0     0        0  ...     0      0      0   \n",
       "10X73_6_A_1:AGAGCGGAACTGTGx      0     0        0  ...     0      0      0   \n",
       "10X70_6_A_1:ATACTCTGCAGTTGx      0     0        0  ...     0      0      0   \n",
       "\n",
       "                             NRXN1  TBX18  LBP  PMM1  TUBB3  COL1A2  HTR2C  \n",
       "10X73_6_A_1:CTTGTATGGCTAACx      0      0    0     0      0       0      2  \n",
       "10X18_2_A_1:GATAAGGAAGGTCTx      0      0    0     0      0       0      1  \n",
       "10X18_2_A_1:TATACAGATGTCGAx      0      0    0     0      0       0      2  \n",
       "10X73_6_A_1:AGAGCGGAACTGTGx      0      0    0     0      0       0      1  \n",
       "10X70_6_A_1:ATACTCTGCAGTTGx      0      0    0     0      0       0      1  \n",
       "\n",
       "[5 rows x 1943 columns]"
      ]
     },
     "execution_count": 44,
     "metadata": {},
     "output_type": "execute_result"
    }
   ],
   "source": [
    "dfnn.head()"
   ]
  },
  {
   "cell_type": "code",
   "execution_count": 47,
   "metadata": {
    "scrolled": true
   },
   "outputs": [
    {
     "data": {
      "text/html": [
       "<div>\n",
       "<style scoped>\n",
       "    .dataframe tbody tr th:only-of-type {\n",
       "        vertical-align: middle;\n",
       "    }\n",
       "\n",
       "    .dataframe tbody tr th {\n",
       "        vertical-align: top;\n",
       "    }\n",
       "\n",
       "    .dataframe thead th {\n",
       "        text-align: right;\n",
       "    }\n",
       "</style>\n",
       "<table border=\"1\" class=\"dataframe\">\n",
       "  <thead>\n",
       "    <tr style=\"text-align: right;\">\n",
       "      <th></th>\n",
       "      <th>Cluster</th>\n",
       "      <th>ClusterName</th>\n",
       "      <th>Region</th>\n",
       "      <th>PseudoAge</th>\n",
       "      <th>TSNE_X</th>\n",
       "      <th>TSNE_Y</th>\n",
       "      <th>UMAP_X</th>\n",
       "      <th>UMAP_Y</th>\n",
       "      <th>BTSNE_X</th>\n",
       "      <th>BTSNE_Y</th>\n",
       "      <th>UMAP3D_X</th>\n",
       "      <th>UMAP3D_Y</th>\n",
       "      <th>UMAP3D_Z</th>\n",
       "    </tr>\n",
       "  </thead>\n",
       "  <tbody>\n",
       "    <tr>\n",
       "      <th>10X16_5_A_1:GGAGTTTGAACGAAx</th>\n",
       "      <td>Neuron</td>\n",
       "      <td>38</td>\n",
       "      <td>Forebrain</td>\n",
       "      <td>15.695</td>\n",
       "      <td>10.401540</td>\n",
       "      <td>12.368582</td>\n",
       "      <td>-1.608322</td>\n",
       "      <td>-7.450790</td>\n",
       "      <td>14.887502</td>\n",
       "      <td>42.255999</td>\n",
       "      <td>-0.101194</td>\n",
       "      <td>-3.553880</td>\n",
       "      <td>4.312026</td>\n",
       "    </tr>\n",
       "    <tr>\n",
       "      <th>10X08_1_A_1:ACAGTGTGTTGTGGx</th>\n",
       "      <td>Neural_crest</td>\n",
       "      <td>650</td>\n",
       "      <td>Head</td>\n",
       "      <td>8.725</td>\n",
       "      <td>-22.106678</td>\n",
       "      <td>-9.627563</td>\n",
       "      <td>5.244210</td>\n",
       "      <td>6.761459</td>\n",
       "      <td>-54.167228</td>\n",
       "      <td>-21.865280</td>\n",
       "      <td>2.654018</td>\n",
       "      <td>2.900583</td>\n",
       "      <td>-5.554272</td>\n",
       "    </tr>\n",
       "    <tr>\n",
       "      <th>10X17_2_A_1:GCCGACGAATTGGCx</th>\n",
       "      <td>VLMC</td>\n",
       "      <td>578</td>\n",
       "      <td>Hindbrain</td>\n",
       "      <td>16.445</td>\n",
       "      <td>-25.428677</td>\n",
       "      <td>-18.448587</td>\n",
       "      <td>9.720346</td>\n",
       "      <td>7.144159</td>\n",
       "      <td>-85.593157</td>\n",
       "      <td>1.387060</td>\n",
       "      <td>3.787744</td>\n",
       "      <td>1.852242</td>\n",
       "      <td>-9.103201</td>\n",
       "    </tr>\n",
       "    <tr>\n",
       "      <th>10X72_3_A_1:CGTAGCCTGGTGGAx</th>\n",
       "      <td>Neural_crest</td>\n",
       "      <td>711</td>\n",
       "      <td>Forebrain</td>\n",
       "      <td>9.345</td>\n",
       "      <td>-15.937236</td>\n",
       "      <td>-9.092426</td>\n",
       "      <td>4.099833</td>\n",
       "      <td>6.358791</td>\n",
       "      <td>-35.699129</td>\n",
       "      <td>-23.801537</td>\n",
       "      <td>2.002173</td>\n",
       "      <td>2.415203</td>\n",
       "      <td>-4.660997</td>\n",
       "    </tr>\n",
       "    <tr>\n",
       "      <th>10X30_5_A_1:GAAACCTGAGAGTAx</th>\n",
       "      <td>Neuron</td>\n",
       "      <td>407</td>\n",
       "      <td>Forebrain</td>\n",
       "      <td>15.450</td>\n",
       "      <td>4.166421</td>\n",
       "      <td>-16.023070</td>\n",
       "      <td>-6.166296</td>\n",
       "      <td>1.564187</td>\n",
       "      <td>16.886936</td>\n",
       "      <td>-29.986398</td>\n",
       "      <td>-1.476650</td>\n",
       "      <td>0.704077</td>\n",
       "      <td>3.920854</td>\n",
       "    </tr>\n",
       "  </tbody>\n",
       "</table>\n",
       "</div>"
      ],
      "text/plain": [
       "                                  Cluster  ClusterName     Region  PseudoAge  \\\n",
       "10X16_5_A_1:GGAGTTTGAACGAAx        Neuron           38  Forebrain     15.695   \n",
       "10X08_1_A_1:ACAGTGTGTTGTGGx  Neural_crest          650       Head      8.725   \n",
       "10X17_2_A_1:GCCGACGAATTGGCx          VLMC          578  Hindbrain     16.445   \n",
       "10X72_3_A_1:CGTAGCCTGGTGGAx  Neural_crest          711  Forebrain      9.345   \n",
       "10X30_5_A_1:GAAACCTGAGAGTAx        Neuron          407  Forebrain     15.450   \n",
       "\n",
       "                                TSNE_X     TSNE_Y    UMAP_X    UMAP_Y  \\\n",
       "10X16_5_A_1:GGAGTTTGAACGAAx  10.401540  12.368582 -1.608322 -7.450790   \n",
       "10X08_1_A_1:ACAGTGTGTTGTGGx -22.106678  -9.627563  5.244210  6.761459   \n",
       "10X17_2_A_1:GCCGACGAATTGGCx -25.428677 -18.448587  9.720346  7.144159   \n",
       "10X72_3_A_1:CGTAGCCTGGTGGAx -15.937236  -9.092426  4.099833  6.358791   \n",
       "10X30_5_A_1:GAAACCTGAGAGTAx   4.166421 -16.023070 -6.166296  1.564187   \n",
       "\n",
       "                               BTSNE_X    BTSNE_Y  UMAP3D_X  UMAP3D_Y  \\\n",
       "10X16_5_A_1:GGAGTTTGAACGAAx  14.887502  42.255999 -0.101194 -3.553880   \n",
       "10X08_1_A_1:ACAGTGTGTTGTGGx -54.167228 -21.865280  2.654018  2.900583   \n",
       "10X17_2_A_1:GCCGACGAATTGGCx -85.593157   1.387060  3.787744  1.852242   \n",
       "10X72_3_A_1:CGTAGCCTGGTGGAx -35.699129 -23.801537  2.002173  2.415203   \n",
       "10X30_5_A_1:GAAACCTGAGAGTAx  16.886936 -29.986398 -1.476650  0.704077   \n",
       "\n",
       "                             UMAP3D_Z  \n",
       "10X16_5_A_1:GGAGTTTGAACGAAx  4.312026  \n",
       "10X08_1_A_1:ACAGTGTGTTGTGGx -5.554272  \n",
       "10X17_2_A_1:GCCGACGAATTGGCx -9.103201  \n",
       "10X72_3_A_1:CGTAGCCTGGTGGAx -4.660997  \n",
       "10X30_5_A_1:GAAACCTGAGAGTAx  3.920854  "
      ]
     },
     "execution_count": 47,
     "metadata": {},
     "output_type": "execute_result"
    }
   ],
   "source": [
    "dfposi=dfposi.loc[set(dfposi.index)&set(dfnn.index)]"
   ]
  },
  {
   "cell_type": "code",
   "execution_count": 58,
   "metadata": {},
   "outputs": [],
   "source": [
    "dfposi=dfposi[[\"TSNE_X\",\"TSNE_Y\",\"Cluster\"]]\n",
    "dfposi.columns=['UMAP1', 'UMAP2', 'Cluster']\n",
    "dfposi[\"Index\"]=range(len(dfposi.index))"
   ]
  },
  {
   "cell_type": "code",
   "execution_count": 59,
   "metadata": {},
   "outputs": [
    {
     "data": {
      "text/plain": [
       "31795"
      ]
     },
     "execution_count": 59,
     "metadata": {},
     "output_type": "execute_result"
    }
   ],
   "source": [
    "proto = pd.Series({'Choroid plexus':'Choroid plexus',\n",
    " 'Early Neural Tube': 'Neural_tube',\n",
    "                    'Neural_tube': 'Neural_tube',\n",
    "                   'Neural Tube': 'NT',\n",
    " 'Ectoderm':'Ectoderm',\n",
    " 'Fibroblast':'VLMC',\n",
    "                   'VLMC':'VLMC',\n",
    "                    'NT/Rgl': 'NT/Rgl',\n",
    " 'Glia': 'Glia',\n",
    " 'Neural crest': 'Neural_crest',\n",
    "                    'Neural_crest': 'Neural_crest',\n",
    " 'Neuron':'Neuron',\n",
    " 'OPCs': 'OPCs',\n",
    " 'Radial glia':  'Rgl',\n",
    "                   'Rgl':'Rgl',\n",
    " 'Vascular':'Pericyte/SMC',\n",
    "                   'PeriV_Mural':'Pericyte/SMC',\n",
    "                   'Pericyte/SMC':'Pericyte/SMC',\n",
    "       })\n",
    "mct_dev = dfposi['Cluster'].values\n",
    "mprotogruop = proto.loc[mct_dev].values\n",
    "len(mprotogruop)"
   ]
  },
  {
   "cell_type": "code",
   "execution_count": 60,
   "metadata": {},
   "outputs": [],
   "source": [
    "dfposi['Cluster']=mprotogruop"
   ]
  },
  {
   "cell_type": "code",
   "execution_count": 61,
   "metadata": {
    "scrolled": true
   },
   "outputs": [
    {
     "data": {
      "text/plain": [
       "{'Choroid plexus',\n",
       " 'Ectoderm',\n",
       " 'Glia',\n",
       " 'Neural_crest',\n",
       " 'Neural_tube',\n",
       " 'Neuron',\n",
       " 'OPCs',\n",
       " 'Pericyte/SMC',\n",
       " 'Rgl',\n",
       " 'VLMC'}"
      ]
     },
     "execution_count": 61,
     "metadata": {},
     "output_type": "execute_result"
    }
   ],
   "source": [
    "set(mprotogruop)"
   ]
  },
  {
   "cell_type": "markdown",
   "metadata": {},
   "source": [
    "## Preprocessing and Visualization"
   ]
  },
  {
   "cell_type": "code",
   "execution_count": 101,
   "metadata": {},
   "outputs": [
    {
     "name": "stdout",
     "output_type": "stream",
     "text": [
      "D:\\Dropbox\\data\\proj\\PE_HYZ\\BuidingCode\\ready_SWAPLINE\n"
     ]
    }
   ],
   "source": [
    "cd D:\\Dropbox\\data\\proj\\PE_HYZ\\BuidingCode\\ready_SWAPLINE"
   ]
  },
  {
   "cell_type": "code",
   "execution_count": 63,
   "metadata": {},
   "outputs": [],
   "source": [
    "import SWAPLINEmain"
   ]
  },
  {
   "cell_type": "code",
   "execution_count": 64,
   "metadata": {},
   "outputs": [
    {
     "name": "stderr",
     "output_type": "stream",
     "text": [
      "C:\\Users\\huyiz\\AppData\\Local\\Continuum\\anaconda3\\envs\\py38\\lib\\site-packages\\sklearn\\utils\\validation.py:1688: FutureWarning: Feature names only support names that are all strings. Got feature names with dtypes: ['str_']. An error will be raised in 1.2.\n",
      "  warnings.warn(\n"
     ]
    },
    {
     "name": "stdout",
     "output_type": "stream",
     "text": [
      "[Processing-0%--0%--0%--0%--0%--0%--0%--0%--0%--0%-]\n"
     ]
    }
   ],
   "source": [
    "dfcellclusumap1, dfcellclusumap2=SWAPLINEmain.SWAPLINE_dist(n_pcs=30,dfnn=dfnn, n_neighbors=len(dfnn.index),  metric='euclidean', dfposi=dfposi)"
   ]
  },
  {
   "cell_type": "code",
   "execution_count": 65,
   "metadata": {},
   "outputs": [],
   "source": [
    "dfcellclusumap1.to_csv(\"%s_50270Final_Couturier2020_DevGBM_NewRef_NN20_rd_dfcellclusumap1.tab\"%today,sep=\"\\t\")"
   ]
  },
  {
   "cell_type": "code",
   "execution_count": 66,
   "metadata": {},
   "outputs": [],
   "source": [
    "dfcellclusumap2.to_csv(\"%s_50270Final_Couturier2020_DevGBM_NewRef_NN20_rd_dfcellclusumap2.tab\"%today,sep=\"\\t\")"
   ]
  },
  {
   "cell_type": "code",
   "execution_count": null,
   "metadata": {},
   "outputs": [],
   "source": []
  },
  {
   "cell_type": "code",
   "execution_count": 103,
   "metadata": {},
   "outputs": [
    {
     "name": "stdout",
     "output_type": "stream",
     "text": [
      "D:\\Dropbox\\data\\proj\\PE_HYZ\\PublicDataSet\\GBM_Couturier2020_DevGBM\n"
     ]
    }
   ],
   "source": [
    "cd D:\\Dropbox\\data\\proj\\PE_HYZ\\PublicDataSet\\GBM_Couturier2020_DevGBM"
   ]
  },
  {
   "cell_type": "code",
   "execution_count": 104,
   "metadata": {},
   "outputs": [
    {
     "data": {
      "text/plain": [
       "(18475, 10)"
      ]
     },
     "execution_count": 104,
     "metadata": {},
     "output_type": "execute_result"
    }
   ],
   "source": [
    "dfprobCL=pd.read_table(\"2021-08-16_17-03_Probability_Reliable_Couturier2020_DevGBM_Vs_SL_devMouseBrain_Reference_count.tab\",index_col=0,header=0,sep=\"\\t\")\n",
    "dfprobCL.shape"
   ]
  },
  {
   "cell_type": "code",
   "execution_count": 106,
   "metadata": {},
   "outputs": [
    {
     "data": {
      "text/plain": [
       "[8.286483,\n",
       " 9.999207,\n",
       " 16.809064,\n",
       " 4.751205,\n",
       " 11.166089,\n",
       " 2.439122,\n",
       " 9.515249,\n",
       " 6.65107,\n",
       " 10.298396,\n",
       " 9.834658]"
      ]
     },
     "execution_count": 106,
     "metadata": {},
     "output_type": "execute_result"
    }
   ],
   "source": [
    "negtest=dfpermutation.values\n",
    "negtest"
   ]
  },
  {
   "cell_type": "code",
   "execution_count": 107,
   "metadata": {},
   "outputs": [
    {
     "data": {
      "text/plain": [
       "10"
      ]
     },
     "execution_count": 107,
     "metadata": {},
     "output_type": "execute_result"
    }
   ],
   "source": [
    "n= len(set(dfposi[\"Cluster\"]))\n",
    "n"
   ]
  },
  {
   "cell_type": "code",
   "execution_count": 123,
   "metadata": {},
   "outputs": [],
   "source": [
    "nodelist=[['Neural_crest', 'Neural_tube',  'Ectoderm'],['Neural_crest','Pericyte/SMC',  'VLMC'],['Neural_crest', 'Ectoderm','VLMC'],\n",
    "['Rgl','Neural_tube',  'Ectoderm'],['Rgl','Neural_tube',  'Glia'],['Rgl','Neural_tube',  'OPCs'],['Rgl','Neural_tube',  'Neuron'],\n",
    "['Rgl','OPCs',  'Neuron'],['Rgl','Glia', 'Neuron'],['Rgl','Glia', 'OPCs']]"
   ]
  },
  {
   "cell_type": "code",
   "execution_count": 127,
   "metadata": {
    "scrolled": true
   },
   "outputs": [
    {
     "name": "stdout",
     "output_type": "stream",
     "text": [
      "D:\\Dropbox\\data\\proj\\PE_HYZ\\BuidingCode\\ready_SWAPLINE\n"
     ]
    }
   ],
   "source": [
    "cd D:\\Dropbox\\data\\proj\\PE_HYZ\\BuidingCode\\ready_SWAPLINE"
   ]
  },
  {
   "cell_type": "code",
   "execution_count": 134,
   "metadata": {},
   "outputs": [],
   "source": [
    "import SWAPLINEmainR6"
   ]
  },
  {
   "cell_type": "code",
   "execution_count": 135,
   "metadata": {
    "scrolled": true
   },
   "outputs": [],
   "source": [
    "dfnewumapX=SWAPLINEmainR6.SWAPLINE_assign(dfprobCL=dfprobCL, dfcellclusumap1=dfcellclusumap1,dfcellclusumap2=dfcellclusumap2,\n",
    "                                          negtest=negtest, n=len(set(dfposi[\"Cluster\"])), nodelist=nodelist)"
   ]
  },
  {
   "cell_type": "code",
   "execution_count": 137,
   "metadata": {},
   "outputs": [],
   "source": [
    "#plot..."
   ]
  },
  {
   "cell_type": "code",
   "execution_count": null,
   "metadata": {},
   "outputs": [],
   "source": []
  }
 ],
 "metadata": {
  "kernelspec": {
   "display_name": "Python 3",
   "language": "python",
   "name": "python3"
  },
  "language_info": {
   "codemirror_mode": {
    "name": "ipython",
    "version": 3
   },
   "file_extension": ".py",
   "mimetype": "text/x-python",
   "name": "python",
   "nbconvert_exporter": "python",
   "pygments_lexer": "ipython3",
   "version": "3.8.12"
  }
 },
 "nbformat": 4,
 "nbformat_minor": 2
}
